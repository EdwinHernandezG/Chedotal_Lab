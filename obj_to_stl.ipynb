#!/usr/bin/env python3
# -*- coding: utf-8 -*-
"""
Created on Mon Oct 17 20:20:58 2022

@author: minoue

Set the base_path (folder where OBJs are contained) and new_path (target folder to store your STLs)
then run the code! 

Make sure you have installed os and vedo in your environment. 

Following as reference: 
https://www.codegrepper.com/code-examples/python/tiff+to+jpg+in+python
"""
import os 
from vedo import load, write

base_path = "/Users/minoue/Documents/PhD/Human Lung Development/EH3685-L/Left Upper Lobe/OBJs/"
new_path = "/Users/minoue/Documents/PhD/Human Lung Development/EH3685-L/Left Upper Lobe/STLs/"

for file in os.listdir(base_path):
    print ("file :" + file)
    obj_mesh = load(file)
    stl_mesh_name = file.split('.')[0]+'.stl'
    stl_mesh = write(obj_mesh, new_path + stl_mesh_name)
