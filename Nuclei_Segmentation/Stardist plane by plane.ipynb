{
 "cells": [
  {
   "cell_type": "code",
   "execution_count": 1,
   "metadata": {},
   "outputs": [],
   "source": [
    "import os\n",
    "\n",
    "import numpy as np\n",
    "import pandas as pd\n",
    "import zarr as zr\n",
    "import matplotlib.pyplot as plt\n",
    "%matplotlib inline\n",
    "%config InlineBackend.figure_format = 'retina'\n",
    "\n",
    "from tifffile import imread, imwrite\n",
    "from csbdeep.utils import Path, normalize\n",
    "from csbdeep.utils.tf import keras_import\n",
    "keras = keras_import()\n",
    "\n",
    "\n",
    "from zipfile import ZIP_DEFLATED\n",
    "\n",
    "from glob import glob\n",
    "from tqdm import tqdm\n",
    "\n",
    "from csbdeep.io import save_tiff_imagej_compatible\n",
    "\n",
    "from stardist import export_imagej_rois, random_label_cmap\n",
    "from stardist.models import StarDist2D\n",
    "\n",
    "from skimage import img_as_float32, img_as_ubyte, img_as_float\n",
    "\n",
    "import cv2"
   ]
  },
  {
   "cell_type": "markdown",
   "metadata": {},
   "source": [
    "## DATA"
   ]
  },
  {
   "cell_type": "code",
   "execution_count": 2,
   "metadata": {
    "tags": []
   },
   "outputs": [],
   "source": [
    "Data_folder  = r\"F:\\Aivia want\"\n",
    "Results_folder = r\"G:\\Stardist_results\""
   ]
  },
  {
   "cell_type": "code",
   "execution_count": 3,
   "metadata": {},
   "outputs": [],
   "source": [
    "Region_of_interests = False\n",
    "Mask_images = True\n",
    "#Tracking_file = False"
   ]
  },
  {
   "cell_type": "markdown",
   "metadata": {},
   "source": [
    "## PREDICTION"
   ]
  },
  {
   "cell_type": "markdown",
   "metadata": {},
   "source": [
    "### Model"
   ]
  },
  {
   "cell_type": "code",
   "execution_count": 4,
   "metadata": {},
   "outputs": [
    {
     "name": "stdout",
     "output_type": "stream",
     "text": [
      "Found model '2D_versatile_fluo' for 'StarDist2D'.\n",
      "Loading network weights from 'weights_best.h5'.\n",
      "Loading thresholds from 'thresholds.json'.\n",
      "Using default values: prob_thresh=0.479071, nms_thresh=0.3.\n"
     ]
    }
   ],
   "source": [
    "model = StarDist2D.from_pretrained('2D_versatile_fluo')"
   ]
  },
  {
   "cell_type": "markdown",
   "metadata": {},
   "source": [
    "### Images Processing"
   ]
  },
  {
   "cell_type": "code",
   "execution_count": null,
   "metadata": {},
   "outputs": [
    {
     "name": "stdout",
     "output_type": "stream",
     "text": [
      "Stacks are now beeing predicted\n",
      "Performing prediction on: 22-21-18_EH3761-1_XY_PCW77_Testis_5-COUPTFII_6-Sox9_7-Oct4_12x_166z_STITCHED_C1_Want.aivia.tif7.zarr\n"
     ]
    }
   ],
   "source": [
    "print(\"Stacks are now beeing predicted\")\n",
    "np.random.seed(42)\n",
    "lbl_cmap = random_label_cmap()\n",
    "\n",
    "\n",
    "axis_norm = (0,1)\n",
    "\n",
    "for image in os.listdir(Data_folder):\n",
    "    print(\"Performing prediction on: \"+image)\n",
    "\n",
    "    Number_of_nuclei_list = []\n",
    "    Number_of_frame_list = []\n",
    "\n",
    "    timelapse = zr.load(Data_folder+\"/\"+image)\n",
    "\n",
    "    short_name = os.path.splitext(image)     \n",
    "    \n",
    "    timelapse = normalize(timelapse, 1,99.8, axis=(0,)+tuple(1+np.array(axis_norm)))\n",
    "    \n",
    "\n",
    "    if Region_of_interests: \n",
    "        polygons = [model.predict_instances(frame)[1]['coord'] for frame in tqdm(timelapse)]    \n",
    "        export_imagej_rois(Results_folder+\"/\"+str(short_name[0]), polygons, compression=ZIP_DEFLATED)  \n",
    "    \n",
    "    n_timepoint = timelapse.shape[0]\n",
    "    prediction_stack = np.zeros((n_timepoint, timelapse.shape[1], timelapse.shape[2]))\n",
    "    #Tracking_stack = np.zeros((n_timepoint, timelapse.shape[2], timelapse.shape[1]))\n",
    "    \n",
    "# Analyse each time points one after the other\n",
    "    \n",
    "    if Mask_images:\n",
    "        for t in range(n_timepoint):\n",
    "            img_t = timelapse[t]\n",
    "            labels, polygons = model.predict_instances(img_t)      \n",
    "            prediction_stack[t] = labels\n",
    "            Nuclei_array = polygons['coord']\n",
    "            Nuclei_array2 = [str(t), Nuclei_array.shape[0]]\n",
    "            Number_of_nuclei_list.append(Nuclei_array2)\n",
    "            Number_of_frame_list.append(t)\n",
    "        \n",
    "# Create a tracking file for trackmate\n",
    "\n",
    "            #for point in polygons['points']:\n",
    "                #cv2.circle(Tracking_stack[t],tuple(point),0,(1), -1)\n",
    "\n",
    "        prediction_stack_32 = img_as_float32(prediction_stack, force_copy=False)\n",
    "        #Tracking_stack_32 = img_as_float32(Tracking_stack, force_copy=False)\n",
    "        #Tracking_stack_8 = img_as_ubyte(Tracking_stack_32, force_copy=True)\n",
    "      \n",
    "        #Tracking_stack_8_rot = np.rot90(Tracking_stack_8, axes=(1,2))\n",
    "        #Tracking_stack_8_rot_flip = np.fliplr(Tracking_stack_8_rot)\n",
    "\n",
    "# Export a csv file containing the number of nuclei detected at each frame\n",
    "        my_df = pd.DataFrame(Number_of_nuclei_list)\n",
    "        my_df.to_csv(Results_folder+'/'+str(short_name[0])+'_Nuclei_number.csv', index=False, header=False)\n",
    "\n",
    "        os.chdir(Results_folder)\n",
    "        if Mask_images:\n",
    "            imwrite(str(short_name[0])+\".tif\", prediction_stack_32, compress=ZIP_DEFLATED)\n",
    "        #if Tracking_file:\n",
    "            #imwrite(str(short_name[0])+\"_tracking_file.tif\", Tracking_stack_8_rot_flip, compress=ZIP_DEFLATED)\n",
    "        \n",
    "# Object detected vs frame number\n",
    "    plt.figure(figsize=(20,5))\n",
    "    my_df.plot()\n",
    "    plt.title('Number of objects vs frame number')\n",
    "    plt.ylabel('Number of detected objects')\n",
    "    plt.xlabel('Frame number')\n",
    "    plt.legend()\n",
    "    plt.savefig(Results_folder+'/'+str(short_name[0])+'_Object_detected_vs_frame_number.png',bbox_inches='tight',pad_inches=0)\n",
    "    plt.show()         \n",
    "\n",
    "print(\"Predictions completed\")   "
   ]
  },
  {
   "cell_type": "code",
   "execution_count": null,
   "metadata": {},
   "outputs": [],
   "source": []
  }
 ],
 "metadata": {
  "kernelspec": {
   "display_name": "Python 3 (ipykernel)",
   "language": "python",
   "name": "python3"
  },
  "language_info": {
   "codemirror_mode": {
    "name": "ipython",
    "version": 3
   },
   "file_extension": ".py",
   "mimetype": "text/x-python",
   "name": "python",
   "nbconvert_exporter": "python",
   "pygments_lexer": "ipython3",
   "version": "3.9.12"
  }
 },
 "nbformat": 4,
 "nbformat_minor": 4
}
