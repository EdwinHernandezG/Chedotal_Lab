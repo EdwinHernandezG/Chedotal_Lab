{
 "cells": [
  {
   "cell_type": "markdown",
   "id": "da029296-5721-4280-b5e0-04077a6b5f70",
   "metadata": {},
   "source": [
    "# Regionprops / napari_simpleitk_image_processing_label_statistics / napari_cupy_image_processing_measurements comparison\n",
    "\n",
    "Benchmark feedback for Robert Haase"
   ]
  },
  {
   "cell_type": "code",
   "execution_count": 4,
   "id": "cd0dfdcd-55d3-4aa2-a81d-46266437d5b4",
   "metadata": {},
   "outputs": [],
   "source": [
    "import numpy as np\n",
    "import zarr\n",
    "from skimage.measure import regionprops\n",
    "from skimage.util import map_array"
   ]
  },
  {
   "cell_type": "code",
   "execution_count": 5,
   "id": "f9340d6f-d8f0-4e85-9723-c7b173c2c044",
   "metadata": {},
   "outputs": [],
   "source": [
    "# load raw data\n",
    "\n",
    "image = zarr.load(r\"F:\\stardist_seg\\raw.zarr\")\n",
    "\n",
    "# Load the segmented image\n",
    "\n",
    "labels = zarr.load(r\"F:\\stardist_seg\\labels.zarr\")"
   ]
  },
  {
   "cell_type": "code",
   "execution_count": 6,
   "id": "d4fe9611-4690-4060-bd03-998963cc14b1",
   "metadata": {},
   "outputs": [],
   "source": [
    "import napari"
   ]
  },
  {
   "cell_type": "code",
   "execution_count": 7,
   "id": "fbc7969d-6cc8-4b45-95a4-f44a5dcdf767",
   "metadata": {},
   "outputs": [
    {
     "name": "stderr",
     "output_type": "stream",
     "text": [
      "C:\\ProgramData\\Anaconda3\\envs\\bio11\\lib\\site-packages\\napari_tools_menu\\__init__.py:165: FutureWarning: Public access to Window.qt_viewer is deprecated and will be removed in\n",
      "v0.5.0. It is considered an \"implementation detail\" of the napari\n",
      "application, not part of the napari viewer model. If your use case\n",
      "requires access to qt_viewer, please open an issue to discuss.\n",
      "  self.tools_menu = ToolsMenu(self, self.qt_viewer.viewer)\n"
     ]
    },
    {
     "data": {
      "text/plain": [
       "<Labels layer 'labels' at 0x20cb8e876d0>"
      ]
     },
     "execution_count": 7,
     "metadata": {},
     "output_type": "execute_result"
    }
   ],
   "source": [
    "viewer = napari.Viewer()\n",
    "viewer.add_image(image)\n",
    "viewer.add_labels(labels)"
   ]
  },
  {
   "cell_type": "code",
   "execution_count": null,
   "id": "fd956a3f-ed75-4c24-9e42-4b6d082b39b8",
   "metadata": {},
   "outputs": [],
   "source": []
  },
  {
   "cell_type": "code",
   "execution_count": 4,
   "id": "227943e9-f200-4aef-ac9b-5a2289f08ee2",
   "metadata": {},
   "outputs": [
    {
     "name": "stdout",
     "output_type": "stream",
     "text": [
      "Determining label statistics using scikit-image took 199.60640954971313 s\n",
      "Determining label statistics using scikit-image took 202.32297229766846 s\n",
      "Determining label statistics using scikit-image took 197.08836364746094 s\n",
      "Determining label statistics using scikit-image took 197.49772024154663 s\n",
      "Determining label statistics using scikit-image took 196.02650785446167 s\n",
      "Determining label statistics using scikit-image took 206.45450592041016 s\n",
      "Determining label statistics using scikit-image took 199.16013193130493 s\n",
      "Determining label statistics using scikit-image took 198.4992814064026 s\n",
      "Determining label statistics using scikit-image took 200.88135600090027 s\n",
      "Determining label statistics using scikit-image took 200.86510968208313 s\n"
     ]
    }
   ],
   "source": [
    "import time\n",
    "\n",
    "for i in range(0, 10):\n",
    "    start_time = time.time()\n",
    "    \n",
    "    # get dictionary of measurements\n",
    "    props = regionprops(labels, intensity_image=image, cache=True,)\n",
    "        \n",
    "    # read out arrays of values\n",
    "    \n",
    "    area = [s.area for s in props]\n",
    "    equivalent_diameter_area = [s.equivalent_diameter_area for s in props]\n",
    "    intensity_max = [s.intensity_max for s in props]\n",
    "    intensity_mean = [s.intensity_mean for s in props]\n",
    "    intensity_min = [s.intensity_min for s in props]\n",
    "    solidity = [s.solidity for s in props]\n",
    "        \n",
    "    print(\"Determining label statistics using scikit-image took \" + str(time.time() - start_time) + \" s\")"
   ]
  },
  {
   "cell_type": "code",
   "execution_count": 12,
   "id": "b4018528-203e-4830-83ea-c60196161b7d",
   "metadata": {},
   "outputs": [
    {
     "name": "stdout",
     "output_type": "stream",
     "text": [
      "Determining label statistics using scikit-image took 46.43080234527588 s\n",
      "Determining label statistics using scikit-image took 37.77589964866638 s\n",
      "Determining label statistics using scikit-image took 59.632957458496094 s\n",
      "Determining label statistics using scikit-image took 39.8056538105011 s\n",
      "Determining label statistics using scikit-image took 42.571964740753174 s\n",
      "Determining label statistics using scikit-image took 40.534313440322876 s\n",
      "Determining label statistics using scikit-image took 36.33266043663025 s\n",
      "Determining label statistics using scikit-image took 36.25474500656128 s\n",
      "Determining label statistics using scikit-image took 38.158676624298096 s\n",
      "Determining label statistics using scikit-image took 34.97175359725952 s\n"
     ]
    }
   ],
   "source": [
    "from napari_simpleitk_image_processing import label_statistics\n",
    "import pandas as pd\n",
    "\n",
    "for i in range(0, 10):\n",
    "    start_time = time.time()\n",
    "    \n",
    "    # get dictionary of measurements\n",
    "    props = label_statistics(image, labels, None, True, True, True, True, True, True)\n",
    "        \n",
    "    # read out arrays of values\n",
    "    content = pd.DataFrame(props)\n",
    "\n",
    "    intensity_max = content['maximum']\n",
    "    intensity_mean = content['mean']\n",
    "    intensity_min = content['minimum']\n",
    "    principal_moments0 = content['principal_moments0']\n",
    "        \n",
    "    print(\"Determining label statistics using scikit-image took \" + str(time.time() - start_time) + \" s\")"
   ]
  },
  {
   "cell_type": "code",
   "execution_count": 6,
   "id": "f890bffe-4823-4972-8b5e-f80ab6635781",
   "metadata": {},
   "outputs": [
    {
     "ename": "OutOfMemoryError",
     "evalue": "Out of memory allocating 3,771,187,200 bytes (allocated so far: 3,771,187,200 bytes).",
     "output_type": "error",
     "traceback": [
      "\u001b[1;31m---------------------------------------------------------------------------\u001b[0m",
      "\u001b[1;31mOutOfMemoryError\u001b[0m                          Traceback (most recent call last)",
      "Input \u001b[1;32mIn [6]\u001b[0m, in \u001b[0;36m<cell line: 4>\u001b[1;34m()\u001b[0m\n\u001b[0;32m      5\u001b[0m start_time \u001b[38;5;241m=\u001b[39m time\u001b[38;5;241m.\u001b[39mtime()\n\u001b[0;32m      7\u001b[0m \u001b[38;5;66;03m# get dictionary of measurements\u001b[39;00m\n\u001b[1;32m----> 8\u001b[0m props \u001b[38;5;241m=\u001b[39m \u001b[43mmeasurements\u001b[49m\u001b[43m(\u001b[49m\u001b[43mimage\u001b[49m\u001b[43m,\u001b[49m\u001b[43m \u001b[49m\u001b[43mlabels\u001b[49m\u001b[43m)\u001b[49m\n\u001b[0;32m     10\u001b[0m \u001b[38;5;66;03m# read out arrays of values\u001b[39;00m\n\u001b[0;32m     11\u001b[0m content \u001b[38;5;241m=\u001b[39m pd\u001b[38;5;241m.\u001b[39mDataFrame(props)\n",
      "File \u001b[1;32mC:\\ProgramData\\Anaconda3\\envs\\bio11\\lib\\site-packages\\napari_cupy_image_processing\\_cupy_image_processing.py:237\u001b[0m, in \u001b[0;36mmeasurements\u001b[1;34m(intensity_image, label_image, napari_viewer, size, intensity, position)\u001b[0m\n\u001b[0;32m    234\u001b[0m \u001b[38;5;28;01mif\u001b[39;00m intensity_image \u001b[38;5;129;01mis\u001b[39;00m \u001b[38;5;129;01mnot\u001b[39;00m \u001b[38;5;28;01mNone\u001b[39;00m \u001b[38;5;129;01mand\u001b[39;00m label_image \u001b[38;5;129;01mis\u001b[39;00m \u001b[38;5;129;01mnot\u001b[39;00m \u001b[38;5;28;01mNone\u001b[39;00m:\n\u001b[0;32m    236\u001b[0m     labels \u001b[38;5;241m=\u001b[39m cupy\u001b[38;5;241m.\u001b[39masarray(label_image)\n\u001b[1;32m--> 237\u001b[0m     image \u001b[38;5;241m=\u001b[39m \u001b[43mcupy\u001b[49m\u001b[38;5;241;43m.\u001b[39;49m\u001b[43masarray\u001b[49m\u001b[43m(\u001b[49m\u001b[43mintensity_image\u001b[49m\u001b[43m)\u001b[49m\u001b[38;5;241m.\u001b[39mastype(np\u001b[38;5;241m.\u001b[39mfloat32)\n\u001b[0;32m    239\u001b[0m     df \u001b[38;5;241m=\u001b[39m {}\n\u001b[0;32m    241\u001b[0m     \u001b[38;5;28;01mfor\u001b[39;00m l \u001b[38;5;129;01min\u001b[39;00m \u001b[38;5;28mrange\u001b[39m(\u001b[38;5;241m1\u001b[39m, labels\u001b[38;5;241m.\u001b[39mmax()\u001b[38;5;241m.\u001b[39mget() \u001b[38;5;241m+\u001b[39m \u001b[38;5;241m1\u001b[39m):\n",
      "File \u001b[1;32mC:\\ProgramData\\Anaconda3\\envs\\bio11\\lib\\site-packages\\cupy\\_creation\\from_data.py:76\u001b[0m, in \u001b[0;36masarray\u001b[1;34m(a, dtype, order)\u001b[0m\n\u001b[0;32m     49\u001b[0m \u001b[38;5;28;01mdef\u001b[39;00m \u001b[38;5;21masarray\u001b[39m(a, dtype\u001b[38;5;241m=\u001b[39m\u001b[38;5;28;01mNone\u001b[39;00m, order\u001b[38;5;241m=\u001b[39m\u001b[38;5;28;01mNone\u001b[39;00m):\n\u001b[0;32m     50\u001b[0m     \u001b[38;5;124;03m\"\"\"Converts an object to array.\u001b[39;00m\n\u001b[0;32m     51\u001b[0m \n\u001b[0;32m     52\u001b[0m \u001b[38;5;124;03m    This is equivalent to ``array(a, dtype, copy=False)``.\u001b[39;00m\n\u001b[1;32m   (...)\u001b[0m\n\u001b[0;32m     74\u001b[0m \n\u001b[0;32m     75\u001b[0m \u001b[38;5;124;03m    \"\"\"\u001b[39;00m\n\u001b[1;32m---> 76\u001b[0m     \u001b[38;5;28;01mreturn\u001b[39;00m \u001b[43m_core\u001b[49m\u001b[38;5;241;43m.\u001b[39;49m\u001b[43marray\u001b[49m\u001b[43m(\u001b[49m\u001b[43ma\u001b[49m\u001b[43m,\u001b[49m\u001b[43m \u001b[49m\u001b[43mdtype\u001b[49m\u001b[43m,\u001b[49m\u001b[43m \u001b[49m\u001b[38;5;28;43;01mFalse\u001b[39;49;00m\u001b[43m,\u001b[49m\u001b[43m \u001b[49m\u001b[43morder\u001b[49m\u001b[43m)\u001b[49m\n",
      "File \u001b[1;32mcupy\\_core\\core.pyx:2250\u001b[0m, in \u001b[0;36mcupy._core.core.array\u001b[1;34m()\u001b[0m\n",
      "File \u001b[1;32mcupy\\_core\\core.pyx:2271\u001b[0m, in \u001b[0;36mcupy._core.core.array\u001b[1;34m()\u001b[0m\n",
      "File \u001b[1;32mcupy\\_core\\core.pyx:2403\u001b[0m, in \u001b[0;36mcupy._core.core._array_default\u001b[1;34m()\u001b[0m\n",
      "File \u001b[1;32mcupy\\_core\\core.pyx:171\u001b[0m, in \u001b[0;36mcupy._core.core.ndarray.__init__\u001b[1;34m()\u001b[0m\n",
      "File \u001b[1;32mcupy\\cuda\\memory.pyx:698\u001b[0m, in \u001b[0;36mcupy.cuda.memory.alloc\u001b[1;34m()\u001b[0m\n",
      "File \u001b[1;32mcupy\\cuda\\memory.pyx:1375\u001b[0m, in \u001b[0;36mcupy.cuda.memory.MemoryPool.malloc\u001b[1;34m()\u001b[0m\n",
      "File \u001b[1;32mcupy\\cuda\\memory.pyx:1396\u001b[0m, in \u001b[0;36mcupy.cuda.memory.MemoryPool.malloc\u001b[1;34m()\u001b[0m\n",
      "File \u001b[1;32mcupy\\cuda\\memory.pyx:1076\u001b[0m, in \u001b[0;36mcupy.cuda.memory.SingleDeviceMemoryPool.malloc\u001b[1;34m()\u001b[0m\n",
      "File \u001b[1;32mcupy\\cuda\\memory.pyx:1097\u001b[0m, in \u001b[0;36mcupy.cuda.memory.SingleDeviceMemoryPool._malloc\u001b[1;34m()\u001b[0m\n",
      "File \u001b[1;32mcupy\\cuda\\memory.pyx:1335\u001b[0m, in \u001b[0;36mcupy.cuda.memory.SingleDeviceMemoryPool._try_malloc\u001b[1;34m()\u001b[0m\n",
      "\u001b[1;31mOutOfMemoryError\u001b[0m: Out of memory allocating 3,771,187,200 bytes (allocated so far: 3,771,187,200 bytes)."
     ]
    }
   ],
   "source": [
    "from napari_cupy_image_processing import measurements\n",
    "import time\n",
    "\n",
    "for i in range(0, 10):\n",
    "    start_time = time.time()\n",
    "    \n",
    "    # get dictionary of measurements\n",
    "    props = measurements(image, labels)\n",
    "        \n",
    "    # read out arrays of values\n",
    "    content = pd.DataFrame(props)\n",
    "\n",
    "    max_vector = content['maximum']\n",
    "    mean_vector = content['mean']\n",
    "    min_vector = content['minimum']\n",
    "    median = content['median']\n",
    "        \n",
    "    print(\"Determining label statistics using scikit-image took \" + str(time.time() - start_time) + \" s\")"
   ]
  },
  {
   "cell_type": "code",
   "execution_count": null,
   "id": "b156cb6e-a241-4d46-879b-e9730c9c2664",
   "metadata": {},
   "outputs": [],
   "source": []
  }
 ],
 "metadata": {
  "kernelspec": {
   "display_name": "Python 3 (ipykernel)",
   "language": "python",
   "name": "python3"
  },
  "language_info": {
   "codemirror_mode": {
    "name": "ipython",
    "version": 3
   },
   "file_extension": ".py",
   "mimetype": "text/x-python",
   "name": "python",
   "nbconvert_exporter": "python",
   "pygments_lexer": "ipython3",
   "version": "3.8.5"
  }
 },
 "nbformat": 4,
 "nbformat_minor": 5
}
