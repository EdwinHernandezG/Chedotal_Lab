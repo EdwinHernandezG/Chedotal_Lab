{
 "cells": [
  {
   "cell_type": "markdown",
   "metadata": {
    "id": "Q7c7V4yEqDc_"
   },
   "source": [
    "# Running cellpose locally with a GPU\n",
    "\n",
    "Notebook version to run cellpose locally with GPU access on windows and Linux systems, the code cells that are going to be executed are indicated with [ ] at the left, run them with the play button or ctrl + enter"
   ]
  },
  {
   "cell_type": "markdown",
   "metadata": {
    "id": "VbqFni8kuFar"
   },
   "source": [
    "## Setting up your notebook"
   ]
  },
  {
   "cell_type": "markdown",
   "metadata": {
    "id": "QUfSFlZgp1aV"
   },
   "source": [
    "We are going to setup everything in order to run the cellpose analysis. "
   ]
  },
  {
   "cell_type": "markdown",
   "metadata": {
    "id": "e2cBEO1PLuO7"
   },
   "source": [
    "Check CUDA version and GPU"
   ]
  },
  {
   "cell_type": "code",
   "execution_count": null,
   "metadata": {
    "colab": {
     "base_uri": "https://localhost:8080/"
    },
    "id": "Tt8hgC7rniP8",
    "outputId": "eda4c87d-497d-489e-854a-3f7cac1ca697"
   },
   "outputs": [],
   "source": [
    "!nvcc --version\n",
    "!nvidia-smi"
   ]
  },
  {
   "cell_type": "markdown",
   "metadata": {
    "id": "h_iAN7cAthma"
   },
   "source": [
    "Now we are going to import the libraries and check GPU (the first time you import cellpose the models will download)."
   ]
  },
  {
   "cell_type": "code",
   "execution_count": null,
   "metadata": {
    "colab": {
     "base_uri": "https://localhost:8080/"
    },
    "id": "hG3LSmJmLylT",
    "outputId": "44491854-c45f-40e2-ea8c-4c77b67d369b",
    "scrolled": true
   },
   "outputs": [],
   "source": [
    "import numpy as np\n",
    "import time, os, sys\n",
    "from urllib.parse import urlparse\n",
    "import tifffile as tf\n",
    "import skimage.io\n",
    "import zarr\n",
    "\n",
    "from urllib.parse import urlparse\n",
    "from cellpose import models, core\n",
    "\n",
    "use_GPU = core.use_gpu()\n",
    "print('>>> GPU activated? %d'%use_GPU)\n",
    "\n",
    "# call logger_setup to have output of cellpose written\n",
    "from cellpose.io import logger_setup\n",
    "logger_setup();\n"
   ]
  },
  {
   "cell_type": "markdown",
   "metadata": {
    "id": "d1Ta76yatmjH"
   },
   "source": [
    "### Load your images"
   ]
  },
  {
   "cell_type": "markdown",
   "metadata": {},
   "source": [
    "Here you can put the files that are going to be processed, just separate them with a \",\".\n",
    "As a guide you can copy the paths of several files in windows selecting them in the file explorer and *Shift + Rigth click* + *Copy as path*.\n",
    "They are copied with windows filepath structure, in order to be listed, just add an r before the \"."
   ]
  },
  {
   "cell_type": "code",
   "execution_count": null,
   "metadata": {
    "colab": {
     "base_uri": "https://localhost:8080/",
     "height": 771
    },
    "id": "ldNwr_zxMVha",
    "outputId": "3fb501f6-d38d-4036-aa95-4046eeaf52d9"
   },
   "outputs": [],
   "source": [
    "# REPLACE FILES WITH YOUR IMAGE PATHS\n",
    "files = [r\"I:\\Example_cellpose.tif\"]\n",
    "    \n",
    "imgs = [tf.imread(f) for f in files]\n",
    "nimg = len(imgs)"
   ]
  },
  {
   "cell_type": "markdown",
   "metadata": {
    "id": "acPatqlKt7EI"
   },
   "source": [
    "## Run cellpose 3D\n",
    "\n",
    "There are two ways to run cellpose in 3D, this cells shows both, choose which one works best for you.\n",
    "\n",
    "First way: computes flows from 2D slices and combines into 3D flows to create masks (Not so goog for me)\n",
    "\n",
    "The only thing that have to be changed is the model type nad the chanels in [A,B]; A should be your cytoplasm channel and B your nuclei channel. If there is no nuclei channel, just left 0.\n",
    "\n",
    "Also, remember to setup your estimated diameter in pixels."
   ]
  },
  {
   "cell_type": "code",
   "execution_count": null,
   "metadata": {
    "colab": {
     "base_uri": "https://localhost:8080/"
    },
    "id": "92RStllFN2Ek",
    "outputId": "7c164c5e-a427-4dfc-bba0-a274b660b49b",
    "tags": []
   },
   "outputs": [],
   "source": [
    "# DEFINE CELLPOSE MODEL\n",
    "# model_type='cyto', 'nuclei', 'cyto2' or 'omni'\n",
    "model = models.Cellpose(gpu=use_GPU, model_type='cyto2')\n",
    "\n",
    "# * with 3D you have to set the diameter manually (no auto detect) *\n",
    "\n",
    "### TWO WAYS TO RUN CELLPOSE IN 3D\n",
    "\n",
    "# 1. computes flows from 2D slices and combines into 3D flows to create masks\n",
    "print('running cellpose 2D slice flows => masks')\n",
    "masks, flows, styles, diams = model.eval(imgs, channels=[0,0], diameter=15, do_3D=True)\n"
   ]
  },
  {
   "cell_type": "markdown",
   "metadata": {
    "id": "e2x9eU3pYAY2",
    "tags": []
   },
   "source": [
    "Second way: computes masks in 2D slices and stitches masks in 3D based on mask overlap\n",
    "\n",
    "Note: Stitching (with stitch_threshold > 0) can also be used to track cells over time."
   ]
  },
  {
   "cell_type": "code",
   "execution_count": null,
   "metadata": {
    "colab": {
     "base_uri": "https://localhost:8080/"
    },
    "id": "jgn-P610YDnW",
    "outputId": "6c94e8f7-a76a-4df1-d7ea-0b12efda1ea1",
    "tags": []
   },
   "outputs": [],
   "source": [
    "# DEFINE CELLPOSE MODEL\n",
    "# model_type='cyto' or model_type='nuclei'\n",
    "model = models.Cellpose(gpu=use_GPU, model_type='cyto2')\n",
    "\n",
    "# 2. computes masks in 2D slices and stitches masks in 3D based on mask overlap\n",
    "print('running cellpose 2D + stitching masks')\n",
    "masks_stitched, flows_stitched, styles_stitched, _ = model.eval(imgs, channels=[1,2], diameter=40, do_3D=False, stitch_threshold=0.5)"
   ]
  },
  {
   "cell_type": "markdown",
   "metadata": {
    "tags": []
   },
   "source": [
    "### Save output\n",
    "\n",
    "You will see the files saved in the folder where you have your original file.\n",
    "\n",
    "You can choose to save the results as Tif files or Numpy arrays."
   ]
  },
  {
   "cell_type": "code",
   "execution_count": null,
   "metadata": {
    "tags": []
   },
   "outputs": [],
   "source": [
    "#SAVE AS TIFF\n",
    "\n",
    "from cellpose import io\n",
    "io.save_masks(imgs, masks_stitched, flows_stitched, files, tif=True, save_flows=True)"
   ]
  },
  {
   "cell_type": "code",
   "execution_count": null,
   "metadata": {},
   "outputs": [],
   "source": [
    "#SAVE AS NUMPY\n",
    "\n",
    "from cellpose import io\n",
    "io.masks_flows_to_seg(imgs, masks_stitched, flows_stitched, diams, files)"
   ]
  },
  {
   "cell_type": "markdown",
   "metadata": {
    "id": "MTrkz5oKYNuH"
   },
   "source": [
    "### Inspect the results in 3D using Napari"
   ]
  },
  {
   "cell_type": "markdown",
   "metadata": {},
   "source": [
    "Load and open Napari viewer"
   ]
  },
  {
   "cell_type": "code",
   "execution_count": null,
   "metadata": {},
   "outputs": [],
   "source": [
    "import napari\n",
    "viewer = napari.Viewer()"
   ]
  },
  {
   "cell_type": "markdown",
   "metadata": {},
   "source": [
    "Now you can drag ans drop your files to the viewer.\n",
    "\n",
    "If you have few files, you can run the next cell to load them in Napari."
   ]
  },
  {
   "cell_type": "code",
   "execution_count": null,
   "metadata": {},
   "outputs": [],
   "source": []
  }
 ],
 "metadata": {
  "accelerator": "GPU",
  "colab": {
   "collapsed_sections": [],
   "include_colab_link": true,
   "name": "run_cellpose_GPU.ipynb",
   "provenance": []
  },
  "kernelspec": {
   "display_name": "Python 3 (ipykernel)",
   "language": "python",
   "name": "python3"
  },
  "language_info": {
   "codemirror_mode": {
    "name": "ipython",
    "version": 3
   },
   "file_extension": ".py",
   "mimetype": "text/x-python",
   "name": "python",
   "nbconvert_exporter": "python",
   "pygments_lexer": "ipython3",
   "version": "3.8.5"
  }
 },
 "nbformat": 4,
 "nbformat_minor": 4
}
