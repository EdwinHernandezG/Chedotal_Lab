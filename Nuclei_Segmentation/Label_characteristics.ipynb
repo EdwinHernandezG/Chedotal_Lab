{
 "cells": [
  {
   "cell_type": "markdown",
   "id": "f2277da0-fb4c-4da0-bfe4-49af7e3b9562",
   "metadata": {},
   "source": [
    "# Label Characteristics"
   ]
  },
  {
   "cell_type": "markdown",
   "id": "15259f30-35cb-4556-8399-b4753c0b9fca",
   "metadata": {},
   "source": [
    "Depending on the quality of your segmentation, it will be interesting to filter your labels based on different characteristics of your dataset, like size, intensity, etc.\n",
    "\n",
    "In this case, the result using stardist and a generalistic ML confidence-based pixel classifier generates an over-segmentation. This issue will be easily solved by setting a mean intensity threshold to remove the low-intensity labels representing negative signal cells."
   ]
  },
  {
   "cell_type": "markdown",
   "id": "b6c502b1-b92f-4706-a46b-a6878c08beec",
   "metadata": {},
   "source": [
    "## Setting up your requirements\n",
    "\n",
    "We will use 'NumPy' to handle our arrays, 'napari' to visualize our data, 'Zarr' to load and save our results.\n",
    "\n",
    "Also, we will use two functions from 'scikit-image', 'measure_regionprops_table' to list the properties of our labels based on the raw data, and 'util_map_array' to extract the labels that we want. 'pandas' is going to be used to handle the extracted statistics.\n",
    "\n",
    "Last, we use 'matplotlib' to plot some graphs that will help us decide the limits to select the labels."
   ]
  },
  {
   "cell_type": "code",
   "execution_count": null,
   "id": "534bc077-e8ba-4901-9090-42208c0ec3b5",
   "metadata": {},
   "outputs": [],
   "source": [
    "import os\n",
    "import numpy as np\n",
    "import napari\n",
    "import pandas as pd\n",
    "import zarr as zr\n",
    "import matplotlib.pyplot as plt\n",
    "import time\n",
    "from napari_simpleitk_image_processing import label_statistics\n",
    "from skimage.measure import regionprops_table"
   ]
  },
  {
   "cell_type": "markdown",
   "id": "6a82a3f4-b465-4151-80c8-6f6e3aa99903",
   "metadata": {},
   "source": [
    "## Loading your data\n",
    "Here you have to indicate where your files are stored, you can use zarr format that will result in smaller and manageable files, but you can use tif files in the same way."
   ]
  },
  {
   "cell_type": "code",
   "execution_count": null,
   "id": "405b745b-2bd5-45de-b6c8-1bacefa69139",
   "metadata": {
    "tags": []
   },
   "outputs": [],
   "source": [
    "image_folder = r'D:\\EHG\\Gonad\\Raw'\n",
    "labels_folder = r'G:\\Stardist_results'\n",
    "results_folder = r'F:\\Label_Results'"
   ]
  },
  {
   "cell_type": "markdown",
   "id": "7e496188-1ff2-45ff-bb37-dccacff6fdcc",
   "metadata": {},
   "source": [
    "You can analize just the labels or get also statisticas based on the original image"
   ]
  },
  {
   "cell_type": "code",
   "execution_count": null,
   "id": "b890dc6b-6f10-4a85-a51e-8e112e02d820",
   "metadata": {},
   "outputs": [],
   "source": [
    "images = True\n",
    "labels = True"
   ]
  },
  {
   "cell_type": "markdown",
   "id": "3b893120-2cd7-453c-a54f-2e4de7408d3e",
   "metadata": {},
   "source": [
    "## Making the measurements\n",
    "We are going to setup the `matplotlib` characteristics to plot the result of our analysis"
   ]
  },
  {
   "cell_type": "code",
   "execution_count": null,
   "id": "7379d87a-7241-49df-8a0f-f53d341b2bd1",
   "metadata": {},
   "outputs": [],
   "source": [
    "%matplotlib inline\n",
    "%config InlineBackend.figure_format='retina'"
   ]
  },
  {
   "cell_type": "markdown",
   "id": "fe15cff1-b631-406b-a07a-d8d1531c5eed",
   "metadata": {},
   "source": [
    "Now we are going to proceed with the labels analysis. Remember that depending on the features calculated will increase the analysis time.\n",
    "We are going to use [`Simple-ITK`](https://github.com/haesleinhuepf/napari-simpleitk-image-processing) implementation in the napari plugin."
   ]
  },
  {
   "cell_type": "code",
   "execution_count": null,
   "id": "c2a0f034-51ba-4ddd-9a0b-1289b52e30e5",
   "metadata": {},
   "outputs": [],
   "source": [
    "for label in os.listdir(labels_folder):\n",
    "    print(\"getting statistics on: \"+label)\n",
    "    \n",
    "    lbls = zr.load(labels_folder+\"/\"+label)\n",
    "    short_name = os.path.splitext(label)\n",
    "    \n",
    "    if images:\n",
    "        for image in os.listdir(image_folder):\n",
    "            imgs = zr.load(image_folder+\"/\"+image)\n",
    "            start_time = time.time()\n",
    "            props = label_statistics(imgs, lbls, None, True, True, True, True, True, True)\n",
    "            content = pd.DataFrame(props)\n",
    "            content.to_csv(results_folder+'/'+str(short_name[0])+'.csv')\n",
    "            end_time = time.time()\n",
    "            print(\"Determining label statistics using simpleitk took \" + str(end_time - start_time) + \" s\")\n",
    "            max_vector = content['maximum']\n",
    "            mean_vector = content['mean']\n",
    "            min_vector = content['minimum']\n",
    "            feret_vector = content['feret_diameter']\n",
    "            pixel_vector = content['number_of_pixels']\n",
    "            sum_vector = content['sum']\n",
    "            rad_vector = content['equivalent_spherical_radius']\n",
    "            per_vector = content['perimeter']\n",
    "            flat_vector = content['flatness']\n",
    "            rou_vector = content['roundness']\n",
    "            \n",
    "            fig, axes = plt.subplots(5, 2, figsize=(20,20))\n",
    "            ax = axes.ravel()\n",
    "\n",
    "\n",
    "            ax[0].hist(max_vector, bins=200)\n",
    "            ax[0].set_ylabel('Number of cells')\n",
    "            ax[0].set_xlabel('Max Intensity (A.U.)')\n",
    "\n",
    "            ax[1].hist(mean_vector, bins=200)\n",
    "            ax[1].set_ylabel('Number of cells')\n",
    "            ax[1].set_xlabel('Mean Intensity (A.U.)')\n",
    "\n",
    "            ax[2].hist(min_vector, bins=200)\n",
    "            ax[2].set_ylabel('Number of cells')\n",
    "            ax[2].set_xlabel('Min Intensity (A.U.)')\n",
    "\n",
    "            ax[3].hist(feret_vector, bins=200)\n",
    "            ax[3].set_ylabel('Number of cells')\n",
    "            ax[3].set_xlabel('Feret diameter (um)') \n",
    "\n",
    "            ax[4].hist(pixel_vector, bins=200)\n",
    "            ax[4].set_ylabel('Number of cells')\n",
    "            ax[4].set_xlabel('Number of pixels')\n",
    "\n",
    "            ax[5].hist(sum_vector, bins=200)\n",
    "            ax[5].set_ylabel('Number of cells')\n",
    "            ax[5].set_xlabel('Sum intensity')\n",
    "\n",
    "            ax[6].hist(rad_vector, bins=200)\n",
    "            ax[6].set_ylabel('Number of cells')\n",
    "            ax[6].set_xlabel('radius (um)')\n",
    "\n",
    "            ax[7].hist(per_vector, bins=200)\n",
    "            ax[7].set_ylabel('Number of cells')\n",
    "            ax[7].set_xlabel('perimeter (um)')\n",
    "\n",
    "            ax[8].hist(flat_vector, bins=200)\n",
    "            ax[8].set_ylabel('Number of cells')\n",
    "            ax[8].set_xlabel('flatness')\n",
    "\n",
    "            ax[9].hist(rou_vector, bins=200)\n",
    "            ax[9].set_ylabel('Number of cells')\n",
    "            ax[9].set_xlabel('roundness')\n",
    "\n",
    "            fig.tight_layout()\n",
    "            \n",
    "            plt.savefig(results_folder+'/'+str(short_name[0])+'_statistics.png',bbox_inches='tight',pad_inches=0)\n",
    "            \n",
    "            \n",
    "            continue\n",
    "        \n",
    "    else:\n",
    "        start_time = time.time()\n",
    "        props = regionprops_table(lbls)\n",
    "        content = pd.DataFrame(props)\n",
    "        content.to_csv(results_folder+'/'+str(short_name[0])+'.csv')\n",
    "        end_time = time.time()\n",
    "        print(\"Determining label statistics using Scikit-Image took \" + str(end_time - start_time) + \" s\")\n",
    "        continue\n",
    "        \n",
    "print(\"Statistics completed\")   "
   ]
  },
  {
   "cell_type": "markdown",
   "id": "5a631ad1-3e7f-4eec-b87d-2f03cd2647c2",
   "metadata": {},
   "source": [
    "The histograms and the CSV files for each sample are goint to be stored in your results_folder "
   ]
  },
  {
   "cell_type": "code",
   "execution_count": null,
   "id": "ec33d362-319c-4a67-b8c5-3b8df8ca4fea",
   "metadata": {},
   "outputs": [],
   "source": []
  }
 ],
 "metadata": {
  "kernelspec": {
   "display_name": "Python 3 (ipykernel)",
   "language": "python",
   "name": "python3"
  },
  "language_info": {
   "codemirror_mode": {
    "name": "ipython",
    "version": 3
   },
   "file_extension": ".py",
   "mimetype": "text/x-python",
   "name": "python",
   "nbconvert_exporter": "python",
   "pygments_lexer": "ipython3",
   "version": "3.9.12"
  }
 },
 "nbformat": 4,
 "nbformat_minor": 5
}
