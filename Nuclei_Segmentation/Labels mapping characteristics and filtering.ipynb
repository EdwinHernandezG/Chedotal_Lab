{
 "cells": [
  {
   "cell_type": "markdown",
   "id": "9aad4860",
   "metadata": {},
   "source": [
    "# Labels mapping characteristics and filtering"
   ]
  },
  {
   "cell_type": "markdown",
   "id": "99b83a4c",
   "metadata": {},
   "source": [
    "Depending on the quality of your segmentation, it will be interesting to filter your labels based on different characteristics of your dataset, like size, intensity, etc.\n",
    "\n",
    "In this case, the result using stardist and a generalistic ML confidence-based pixel classifier generates an over-segmentation. This issue will be easily solved by setting a mean intensity threshold to remove the low-intensity labels representing negative signal cells."
   ]
  },
  {
   "cell_type": "markdown",
   "id": "80e0c4ed",
   "metadata": {},
   "source": [
    "## Setting up your requirements\n",
    "\n",
    "We will use 'NumPy' to handle our arrays, 'napari' to visualize our data, 'Zarr' to load and save our results.\n",
    "\n",
    "Also, we will use two functions from 'scikit-image', 'measure_regionprops_table' to list the properties of our labels based on the raw data, and 'util_map_array' to extract the labels that we want. 'pandas' is going to be used to handle the extracted statistics.\n",
    "\n",
    "Last, we use 'matplotlib' to plot some graphs that will help us decide the limits to select the labels."
   ]
  },
  {
   "cell_type": "code",
   "execution_count": 1,
   "id": "e6729322",
   "metadata": {},
   "outputs": [],
   "source": [
    "import numpy as np\n",
    "import napari\n",
    "import pandas\n",
    "import zarr\n",
    "import matplotlib.pyplot as plt\n",
    "import SimpleITK as sitk\n",
    "#import tiffile as tf\n",
    "#from skimage.measure import regionprops_table\n",
    "#from skimage.util import map_array"
   ]
  },
  {
   "cell_type": "markdown",
   "id": "8971f8d1",
   "metadata": {},
   "source": [
    "### Loading your data\n",
    "Here you have to indicate where your files are stored, you can use zarr format that will result in smaller and manageable files, but you can use tif files in the same way."
   ]
  },
  {
   "cell_type": "code",
   "execution_count": 2,
   "id": "6ba030a8",
   "metadata": {},
   "outputs": [],
   "source": [
    "# load raw data\n",
    "\n",
    "image = zarr.load(r\"D:\\EHG\\results\\New folder\\14-43-57_testis_3483_5plvap_6sma_7sox9_12x_1x_2u_pcw109_Sox9.aivia.tif3.zarr\")\n",
    "#image = tf.imread(r\"F:\\stardist_seg\\raw.tif\")\n",
    "\n",
    "# Load the segmented image\n",
    "\n",
    "#labels = sitk.ReadImage(r\"D:\\EHG\\results\\New folder\\14-43-57_testis_3483_5plvap_6sma_7sox9_12x_1x_2u_lr_blaze_mosaic2_SOX9_Want_labels2.ome.tif\", sitk.sitkInt32)\n",
    "labels = zarr.load(r\"D:\\EHG\\results\\New folder\\14-43-57_testis_3483_5plvap_6sma_7sox9_12x_1x_2u_lr_blaze_mosaic2_SOX9_Want_labels2.ome.tif2.zarr\")\n",
    "#labels = tf.imread(r\"F:\\stardist_seg\\labels.tif\")\n",
    "\n",
    "#intensity_labels = zarr.load(r\"F:\\stardist_seg\\lab_intensity.zarr\")"
   ]
  },
  {
   "cell_type": "markdown",
   "id": "5e4c0e8c",
   "metadata": {
    "tags": []
   },
   "source": [
    "### Inspect your data using Napari (Optional)\n",
    "\n",
    "We are going to use Napari to visualize our data"
   ]
  },
  {
   "cell_type": "code",
   "execution_count": 3,
   "id": "850112f9",
   "metadata": {
    "tags": []
   },
   "outputs": [
    {
     "name": "stdout",
     "output_type": "stream",
     "text": [
      "Assistant skips harvesting pyclesperanto as it's not installed.\n"
     ]
    },
    {
     "name": "stderr",
     "output_type": "stream",
     "text": [
      "C:\\Users\\Linux\\.conda\\envs\\bio11\\lib\\site-packages\\napari_tools_menu\\__init__.py:168: FutureWarning: Public access to Window.qt_viewer is deprecated and will be removed in\n",
      "v0.5.0. It is considered an \"implementation detail\" of the napari\n",
      "application, not part of the napari viewer model. If your use case\n",
      "requires access to qt_viewer, please open an issue to discuss.\n",
      "  self.tools_menu = ToolsMenu(self, self.qt_viewer.viewer)\n"
     ]
    }
   ],
   "source": [
    "viewer = napari.Viewer()"
   ]
  },
  {
   "cell_type": "markdown",
   "id": "5335abeb",
   "metadata": {},
   "source": [
    "Then, we add the datasets to Napari"
   ]
  },
  {
   "cell_type": "code",
   "execution_count": 4,
   "id": "1cef9b2e",
   "metadata": {
    "tags": []
   },
   "outputs": [
    {
     "name": "stderr",
     "output_type": "stream",
     "text": [
      "C:\\Users\\Linux\\.conda\\envs\\bio11\\lib\\site-packages\\napari\\utils\\events\\event.py:926: RuntimeWarning: coroutine 'get_msg' was never awaited\n",
      "  self.add(**emitters)  # type: ignore\n",
      "RuntimeWarning: Enable tracemalloc to get the object allocation traceback\n"
     ]
    },
    {
     "data": {
      "text/plain": [
       "<Image layer 'labels' at 0x152ce13c370>"
      ]
     },
     "execution_count": 4,
     "metadata": {},
     "output_type": "execute_result"
    }
   ],
   "source": [
    "viewer.add_image(image)\n",
    "viewer.add_image(labels)\n",
    "#viewer.add_labels(labels)"
   ]
  },
  {
   "cell_type": "code",
   "execution_count": 5,
   "id": "e242b8e8-a6af-4bac-96bf-51014d9b2b5e",
   "metadata": {
    "scrolled": true,
    "tags": []
   },
   "outputs": [],
   "source": [
    "viewer.layers['labels'].scale = [3.69, 1, 1]\n",
    "viewer.layers['image'].scale = [3.69, 1, 1]\n",
    "#viewer.layers['intensity_labels'].scale = [3.69, 1, 1]\n"
   ]
  },
  {
   "cell_type": "code",
   "execution_count": null,
   "id": "9cbbfd8f-f666-423a-b251-9b1ec6be2fba",
   "metadata": {},
   "outputs": [],
   "source": [
    "import SimpleITK as sitk\n",
    "label = sitk.Cast(labels,sitk.sitkFloat32)"
   ]
  },
  {
   "cell_type": "markdown",
   "id": "c17c345f",
   "metadata": {},
   "source": [
    "### Extracting the labels features\n",
    "\n",
    "Using the 'regioprops_table' function, we can extract some label characteristics that will help us to decide which threshold can be applied for or case. \n"
   ]
  },
  {
   "cell_type": "code",
   "execution_count": 6,
   "id": "d7104998",
   "metadata": {
    "tags": []
   },
   "outputs": [
    {
     "name": "stdout",
     "output_type": "stream",
     "text": [
      "Determining label statistics using simpleitk took 284.2031829357147 s\n",
      "Determining label statistics using simpleitk took 270.6198070049286 s\n",
      "Determining label statistics using simpleitk took 259.5943591594696 s\n",
      "Determining label statistics using simpleitk took 276.0875005722046 s\n",
      "Determining label statistics using simpleitk took 292.1665713787079 s\n",
      "Determining label statistics using simpleitk took 283.9790163040161 s\n",
      "Determining label statistics using simpleitk took 315.1365752220154 s\n",
      "Determining label statistics using simpleitk took 295.5159184932709 s\n",
      "Determining label statistics using simpleitk took 281.6130805015564 s\n",
      "Determining label statistics using simpleitk took 287.7093257904053 s\n"
     ]
    }
   ],
   "source": [
    "from napari_simpleitk_image_processing import label_statistics\n",
    "import pandas as pd\n",
    "import time\n",
    "\n",
    "for i in range(0, 10):\n",
    "    start_time = time.time()\n",
    "    \n",
    "    # get dictionary of measurements \n",
    "    props = label_statistics(image, labels, None, True, True, True, True, True, True)\n",
    "        \n",
    "    # read out arrays of values\n",
    "    content = pd.DataFrame(props)\n",
    "\n",
    "    max_vector = content['maximum']\n",
    "    mean_vector = content['mean']\n",
    "    min_vector = content['minimum']\n",
    "    feret_vector = content['feret_diameter']\n",
    "    pixel_vector = content['number_of_pixels']\n",
    "    sum_vector = content['sum']\n",
    "    rad_vector = content['equivalent_spherical_radius']\n",
    "    per_vector = content['perimeter']\n",
    "    flat_vector = content['flatness']\n",
    "    rou_vector = content['roundness']\n",
    "        \n",
    "    print(\"Determining label statistics using simpleitk took \" + str(time.time() - start_time) + \" s\")"
   ]
  },
  {
   "cell_type": "markdown",
   "id": "83ee4c30",
   "metadata": {
    "tags": []
   },
   "source": [
    "Then, we can use pandas to structure the results array."
   ]
  },
  {
   "cell_type": "code",
   "execution_count": null,
   "id": "e1195499",
   "metadata": {
    "tags": []
   },
   "outputs": [],
   "source": [
    "content.to_csv(r\"D:\\EHG\\results\\New folder\\14-43-57_testis_3483_5plvap_6sma_7sox9_12x_1x_2u_pcw109_Sox9.csv\")"
   ]
  },
  {
   "cell_type": "markdown",
   "id": "422754e8",
   "metadata": {},
   "source": [
    "We can retrieve the different vectors of interest to be evaluated."
   ]
  },
  {
   "cell_type": "markdown",
   "id": "55a7a137",
   "metadata": {},
   "source": [
    "Then, we can get a look of our labels using matplotlib to plot the frequency histograms."
   ]
  },
  {
   "cell_type": "code",
   "execution_count": null,
   "id": "da96c5a6",
   "metadata": {},
   "outputs": [],
   "source": [
    "%matplotlib inline\n",
    "%config InlineBackend.figure_format='retina'"
   ]
  },
  {
   "cell_type": "code",
   "execution_count": null,
   "id": "846baad6",
   "metadata": {},
   "outputs": [],
   "source": [
    "fig, axes = plt.subplots(5, 2, figsize=(20,20))\n",
    "ax = axes.ravel()\n",
    "\n",
    "\n",
    "ax[0].hist(max_vector, bins=200)\n",
    "ax[0].set_ylabel('Number of cells')\n",
    "ax[0].set_xlabel('Max Intensity (A.U.)')\n",
    "\n",
    "ax[1].hist(mean_vector, bins=200)\n",
    "ax[1].set_ylabel('Number of cells')\n",
    "ax[1].set_xlabel('Mean Intensity (A.U.)')\n",
    "\n",
    "ax[2].hist(min_vector, bins=200)\n",
    "ax[2].set_ylabel('Number of cells')\n",
    "ax[2].set_xlabel('Min Intensity (A.U.)')\n",
    "\n",
    "ax[3].hist(feret_vector, bins=200)\n",
    "ax[3].set_ylabel('Number of cells')\n",
    "ax[3].set_xlabel('Feret diameter (um)') \n",
    "\n",
    "ax[4].hist(pixel_vector, bins=200)\n",
    "ax[4].set_ylabel('Number of cells')\n",
    "ax[4].set_xlabel('Number of pixels')\n",
    "\n",
    "ax[5].hist(sum_vector, bins=200)\n",
    "ax[5].set_ylabel('Number of cells')\n",
    "ax[5].set_xlabel('Sum intensity')\n",
    "\n",
    "ax[6].hist(rad_vector, bins=200)\n",
    "ax[6].set_ylabel('Number of cells')\n",
    "ax[6].set_xlabel('radius (um)')\n",
    "\n",
    "ax[7].hist(per_vector, bins=200)\n",
    "ax[7].set_ylabel('Number of cells')\n",
    "ax[7].set_xlabel('perimeter (um)')\n",
    "\n",
    "ax[8].hist(flat_vector, bins=200)\n",
    "ax[8].set_ylabel('Number of cells')\n",
    "ax[8].set_xlabel('flatness')\n",
    "\n",
    "ax[9].hist(rou_vector, bins=200)\n",
    "ax[9].set_ylabel('Number of cells')\n",
    "ax[9].set_xlabel('roundness')\n",
    "\n",
    "fig.tight_layout()"
   ]
  },
  {
   "cell_type": "markdown",
   "id": "ab79556d",
   "metadata": {
    "tags": []
   },
   "source": [
    "From those histograms we can see that there are two populations of cells, this allow us to think that cells that have a instensity of 4000 or higher ca be considerated positives.\n",
    "\n",
    "### Selecting labels above a given intensity threshold\n",
    "\n",
    "To generate the labels image of the nuclei with an intensity higher than 4000 we can use the 'map_array' funtion from 'scikit-image' mapping the *product* of the boolean array with the labels."
   ]
  },
  {
   "cell_type": "code",
   "execution_count": 22,
   "id": "e53540b3-afbb-4142-8a47-ef4199615862",
   "metadata": {
    "tags": []
   },
   "outputs": [
    {
     "data": {
      "text/plain": [
       "0         False\n",
       "1         False\n",
       "2         False\n",
       "3         False\n",
       "4         False\n",
       "          ...  \n",
       "612439    False\n",
       "612440    False\n",
       "612441    False\n",
       "612442    False\n",
       "612443    False\n",
       "Name: equivalent_spherical_radius, Length: 612444, dtype: bool"
      ]
     },
     "execution_count": 22,
     "metadata": {},
     "output_type": "execute_result"
    }
   ],
   "source": [
    "content['equivalent_spherical_radius']\n"
   ]
  },
  {
   "cell_type": "code",
   "execution_count": 19,
   "id": "57f4da6b-6ed9-4f9a-bfb7-ab9f49182ecb",
   "metadata": {},
   "outputs": [],
   "source": [
    "max_vec = content['maximum']\n",
    "mean_vec = content['mean']\n",
    "min_vec = content['minimum']\n",
    "feret_vec = content['feret_diameter']\n",
    "pixel_vec = content['number_of_pixels']\n",
    "sum_vec = content['sum']\n",
    "rad_vec = content['equivalent_spherical_radius']\n",
    "per_vec = content['perimeter']\n",
    "flat_vec = content['flatness']\n",
    "rou_vec = content['roundness']    "
   ]
  },
  {
   "cell_type": "code",
   "execution_count": 21,
   "id": "99ed69d1-9383-40b6-9124-24333dc42088",
   "metadata": {},
   "outputs": [
    {
     "data": {
      "image/png": "[encoded data removed]",
      "text/plain": [
       "<Figure size 720x720 with 10 Axes>"
      ]
     },
     "metadata": {
      "needs_background": "light"
     },
     "output_type": "display_data"
    }
   ],
   "source": [
    "fig, axes = plt.subplots(5, 2, figsize=(10,10))\n",
    "ax = axes.ravel()\n",
    "\n",
    "\n",
    "ax[0].hist(max_vec, bins=300)\n",
    "ax[0].set_ylabel('Number of cells')\n",
    "ax[0].set_xlabel('Max Intensity (A.U.)')\n",
    "\n",
    "ax[1].hist(mean_vec, bins=100)\n",
    "ax[1].set_ylabel('Number of cells')\n",
    "ax[1].set_xlabel('Mean Intensity (A.U.)')\n",
    "\n",
    "ax[2].hist(min_vec, bins=100)\n",
    "ax[2].set_ylabel('Number of cells')\n",
    "ax[2].set_xlabel('Min Intensity (A.U.)')\n",
    "\n",
    "ax[3].hist(feret_vec, bins=100)\n",
    "ax[3].set_ylabel('Number of cells')\n",
    "ax[3].set_xlabel('Feret diameter (um)') \n",
    "\n",
    "ax[4].hist(pixel_vec, bins=300)\n",
    "ax[4].set_ylabel('Number of cells')\n",
    "ax[4].set_xlabel('Number of pixels')\n",
    "\n",
    "ax[5].hist(sum_vec, bins=100)\n",
    "ax[5].set_ylabel('Number of cells')\n",
    "ax[5].set_xlabel('Sum intensity')\n",
    "\n",
    "ax[6].hist(rad_vec, bins=100)\n",
    "ax[6].set_ylabel('Number of cells')\n",
    "ax[6].set_xlabel('radius (um)')\n",
    "\n",
    "ax[7].hist(per_vec, bins=100)\n",
    "ax[7].set_ylabel('Number of cells')\n",
    "ax[7].set_xlabel('perimeter (um)')\n",
    "\n",
    "ax[8].hist(flat_vec, bins=100)\n",
    "ax[8].set_ylabel('Number of cells')\n",
    "ax[8].set_xlabel('flatness')\n",
    "\n",
    "ax[9].hist(rou_vec, bins=100)\n",
    "ax[9].set_ylabel('Number of cells')\n",
    "ax[9].set_xlabel('roundness')\n",
    "\n",
    "fig.tight_layout()"
   ]
  },
  {
   "cell_type": "code",
   "execution_count": 7,
   "id": "111dc70a",
   "metadata": {
    "tags": []
   },
   "outputs": [
    {
     "ename": "TypeError",
     "evalue": "The dtype of an array to be remapped should be integer.",
     "output_type": "error",
     "traceback": [
      "\u001b[1;31m---------------------------------------------------------------------------\u001b[0m",
      "\u001b[1;31mTypeError\u001b[0m                                 Traceback (most recent call last)",
      "Input \u001b[1;32mIn [7]\u001b[0m, in \u001b[0;36m<cell line: 3>\u001b[1;34m()\u001b[0m\n\u001b[0;32m      1\u001b[0m \u001b[38;5;28;01mfrom\u001b[39;00m \u001b[38;5;21;01mskimage\u001b[39;00m\u001b[38;5;21;01m.\u001b[39;00m\u001b[38;5;21;01mutil\u001b[39;00m \u001b[38;5;28;01mimport\u001b[39;00m map_array\n\u001b[1;32m----> 3\u001b[0m intensity_labels  \u001b[38;5;241m=\u001b[39m \u001b[43mmap_array\u001b[49m\u001b[43m(\u001b[49m\n\u001b[0;32m      4\u001b[0m \u001b[43m    \u001b[49m\u001b[43mlabels\u001b[49m\u001b[43m,\u001b[49m\n\u001b[0;32m      5\u001b[0m \u001b[43m    \u001b[49m\u001b[43mlabel_ids\u001b[49m\u001b[43m \u001b[49m\u001b[38;5;241;43m:=\u001b[39;49m\u001b[43m \u001b[49m\u001b[43mnp\u001b[49m\u001b[38;5;241;43m.\u001b[39;49m\u001b[43masarray\u001b[49m\u001b[43m(\u001b[49m\u001b[43mcontent\u001b[49m\u001b[43m[\u001b[49m\u001b[38;5;124;43m'\u001b[39;49m\u001b[38;5;124;43mlabel\u001b[39;49m\u001b[38;5;124;43m'\u001b[39;49m\u001b[43m]\u001b[49m\u001b[43m)\u001b[49m\u001b[43m,\u001b[49m\n\u001b[0;32m      6\u001b[0m \u001b[43m    \u001b[49m\u001b[43mlabel_ids\u001b[49m\u001b[43m \u001b[49m\u001b[38;5;241;43m*\u001b[39;49m\u001b[43m \u001b[49m\u001b[43mnp\u001b[49m\u001b[38;5;241;43m.\u001b[39;49m\u001b[43masarray\u001b[49m\u001b[43m(\u001b[49m\u001b[43mcontent\u001b[49m\u001b[43m[\u001b[49m\u001b[38;5;124;43m'\u001b[39;49m\u001b[38;5;124;43mequivalent_spherical_radius\u001b[39;49m\u001b[38;5;124;43m'\u001b[39;49m\u001b[43m]\u001b[49m\u001b[43m \u001b[49m\u001b[38;5;241;43m>\u001b[39;49m\u001b[43m \u001b[49m\u001b[38;5;241;43m3\u001b[39;49m\u001b[43m)\u001b[49m\u001b[43m,\u001b[49m\n\u001b[0;32m      7\u001b[0m \u001b[43m)\u001b[49m\n",
      "File \u001b[1;32m~\\.conda\\envs\\bio11\\lib\\site-packages\\skimage\\util\\_map_array.py:27\u001b[0m, in \u001b[0;36mmap_array\u001b[1;34m(input_arr, input_vals, output_vals, out)\u001b[0m\n\u001b[0;32m     24\u001b[0m \u001b[38;5;28;01mfrom\u001b[39;00m \u001b[38;5;21;01m.\u001b[39;00m\u001b[38;5;21;01m_remap\u001b[39;00m \u001b[38;5;28;01mimport\u001b[39;00m _map_array\n\u001b[0;32m     26\u001b[0m \u001b[38;5;28;01mif\u001b[39;00m \u001b[38;5;129;01mnot\u001b[39;00m np\u001b[38;5;241m.\u001b[39missubdtype(input_arr\u001b[38;5;241m.\u001b[39mdtype, np\u001b[38;5;241m.\u001b[39minteger):\n\u001b[1;32m---> 27\u001b[0m     \u001b[38;5;28;01mraise\u001b[39;00m \u001b[38;5;167;01mTypeError\u001b[39;00m(\n\u001b[0;32m     28\u001b[0m         \u001b[38;5;124m'\u001b[39m\u001b[38;5;124mThe dtype of an array to be remapped should be integer.\u001b[39m\u001b[38;5;124m'\u001b[39m\n\u001b[0;32m     29\u001b[0m     )\n\u001b[0;32m     30\u001b[0m \u001b[38;5;66;03m# We ravel the input array for simplicity of iteration in Cython:\u001b[39;00m\n\u001b[0;32m     31\u001b[0m orig_shape \u001b[38;5;241m=\u001b[39m input_arr\u001b[38;5;241m.\u001b[39mshape\n",
      "\u001b[1;31mTypeError\u001b[0m: The dtype of an array to be remapped should be integer."
     ]
    }
   ],
   "source": [
    "from skimage.util import map_array\n",
    "\n",
    "intensity_labels  = map_array(\n",
    "    labels,\n",
    "    label_ids := np.asarray(content['label']),\n",
    "    label_ids * np.asarray(content['equivalent_spherical_radius'] > 3),\n",
    ")"
   ]
  },
  {
   "cell_type": "markdown",
   "id": "fd3fb34f",
   "metadata": {},
   "source": [
    "Then we can add our new labels to Napari"
   ]
  },
  {
   "cell_type": "code",
   "execution_count": null,
   "id": "386e5ff3",
   "metadata": {},
   "outputs": [],
   "source": [
    "viewer.add_labels(intensity_labels)"
   ]
  },
  {
   "cell_type": "markdown",
   "id": "04983666",
   "metadata": {},
   "source": [
    "### Saving the new labels\n",
    "\n",
    "We can save our new generated labels as *zarr* file using the 'convenience.save' function"
   ]
  },
  {
   "cell_type": "code",
   "execution_count": null,
   "id": "b6a12504",
   "metadata": {
    "tags": []
   },
   "outputs": [],
   "source": [
    "zarr.convenience.save(r\"D:\\EHG\\Explants\\COUPTFII\\EH3930_SAG7_Explant-3_5-COUPTFII.zarr\", intensity_labels)"
   ]
  },
  {
   "cell_type": "markdown",
   "id": "b0c6e228",
   "metadata": {},
   "source": [
    "### Getting the properties of the new set of labels\n",
    "Finally, we can extract the properties of our new set of labels and format them with pandas"
   ]
  },
  {
   "cell_type": "code",
   "execution_count": null,
   "id": "1aee6276",
   "metadata": {
    "tags": []
   },
   "outputs": [],
   "source": [
    "for i in range(0, 10):\n",
    "    start_time = time.time()\n",
    "    \n",
    "    # get dictionary of measurements\n",
    "    props_int = label_statistics(image, intensity_labels, None, True, True, True, True, True, True)\n",
    "    \n",
    "    # read out arrays of values\n",
    "    content_int = pandas.DataFrame(props_int)\n",
    "    \n",
    "    max_vec = content_int['maximum']\n",
    "    mean_vec = content_int['mean']\n",
    "    min_vec = content_int['minimum']\n",
    "    feret_vec = content_int['feret_diameter']\n",
    "    pixel_vec = content_int['number_of_pixels']\n",
    "    sum_vec = content_int['sum']\n",
    "    rad_vec = content_int['equivalent_spherical_radius']\n",
    "    per_vec = content_int['perimeter']\n",
    "    flat_vec = content_int['flatness']\n",
    "    rou_vec = content_int['roundness']    \n",
    "\n",
    "print(\"Determining label statistics using simpleitk took \" + str(time.time() - start_time) + \" s\")"
   ]
  },
  {
   "cell_type": "code",
   "execution_count": null,
   "id": "901f21cf",
   "metadata": {
    "tags": []
   },
   "outputs": [],
   "source": [
    "content_int.to_excel(\"D:\\EHG\\Explants\\COUPTFII\\EH3930_SAG7_Explant-3_5-COUPTFII.xlsx\")"
   ]
  },
  {
   "cell_type": "markdown",
   "id": "8aca2c26",
   "metadata": {},
   "source": [
    "Here, we can see the final count of cells in the dataset"
   ]
  },
  {
   "cell_type": "code",
   "execution_count": null,
   "id": "d25ae9b5-f05c-4a6d-9116-6d2af2d8af44",
   "metadata": {},
   "outputs": [],
   "source": [
    "fig, axes = plt.subplots(5, 2, figsize=(10,10))\n",
    "ax = axes.ravel()\n",
    "\n",
    "\n",
    "ax[0].hist(max_vec, bins=100)\n",
    "ax[0].set_ylabel('Number of cells')\n",
    "ax[0].set_xlabel('Max Intensity (A.U.)')\n",
    "\n",
    "ax[1].hist(mean_vec, bins=100)\n",
    "ax[1].set_ylabel('Number of cells')\n",
    "ax[1].set_xlabel('Mean Intensity (A.U.)')\n",
    "\n",
    "ax[2].hist(min_vec, bins=100)\n",
    "ax[2].set_ylabel('Number of cells')\n",
    "ax[2].set_xlabel('Min Intensity (A.U.)')\n",
    "\n",
    "ax[3].hist(feret_vec, bins=100)\n",
    "ax[3].set_ylabel('Number of cells')\n",
    "ax[3].set_xlabel('Feret diameter (um)') \n",
    "\n",
    "ax[4].hist(pixel_vec, bins=100)\n",
    "ax[4].set_ylabel('Number of cells')\n",
    "ax[4].set_xlabel('Number of pixels')\n",
    "\n",
    "ax[5].hist(sum_vec, bins=100)\n",
    "ax[5].set_ylabel('Number of cells')\n",
    "ax[5].set_xlabel('Sum intensity')\n",
    "\n",
    "ax[6].hist(rad_vec, bins=100)\n",
    "ax[6].set_ylabel('Number of cells')\n",
    "ax[6].set_xlabel('radius (um)')\n",
    "\n",
    "ax[7].hist(per_vec, bins=100)\n",
    "ax[7].set_ylabel('Number of cells')\n",
    "ax[7].set_xlabel('perimeter (um)')\n",
    "\n",
    "ax[8].hist(flat_vec, bins=100)\n",
    "ax[8].set_ylabel('Number of cells')\n",
    "ax[8].set_xlabel('flatness')\n",
    "\n",
    "ax[9].hist(rou_vec, bins=100)\n",
    "ax[9].set_ylabel('Number of cells')\n",
    "ax[9].set_xlabel('roundness')\n",
    "\n",
    "fig.tight_layout()"
   ]
  },
  {
   "cell_type": "code",
   "execution_count": null,
   "id": "bc61aba6-5057-496e-ad2d-fbfdb747b0d1",
   "metadata": {},
   "outputs": [],
   "source": [
    "int_labels = map_array(\n",
    "    labels,\n",
    "    label_ids := np.asarray(content_int['label']),\n",
    "    label_ids * np.asarray(content_int['minimum'] > 1000),\n",
    ")"
   ]
  },
  {
   "cell_type": "code",
   "execution_count": null,
   "id": "0bee0a98-ab0a-4084-a146-5f3b19570a02",
   "metadata": {},
   "outputs": [],
   "source": [
    "zarr.convenience.save(r\"D:\\EHG\\Explants\\COUPTFII\\EH3930_SAG7_Explant-3_5-COUPTFII.zarr\", int_labels)"
   ]
  },
  {
   "cell_type": "code",
   "execution_count": null,
   "id": "0b524fd8-a322-4578-97cf-7c91d04af536",
   "metadata": {},
   "outputs": [],
   "source": [
    "for i in range(0, 10):\n",
    "    start_time = time.time()\n",
    "    \n",
    "    # get dictionary of measurements\n",
    "    props2_int = label_statistics(image, int_labels, None, True, True, True, True, True, True)\n",
    "    \n",
    "    # read out arrays of values\n",
    "    content_int = pandas.DataFrame(props2_int)\n",
    "    \n",
    "    max_vec = content_int['maximum']\n",
    "    mean_vec = content_int['mean']\n",
    "    min_vec = content_int['minimum']\n",
    "    feret_vec = content_int['feret_diameter']\n",
    "    pixel_vec = content_int['number_of_pixels']\n",
    "    sum_vec = content_int['sum']\n",
    "    rad_vec = content_int['equivalent_spherical_radius']\n",
    "    per_vec = content_int['perimeter']\n",
    "    flat_vec = content_int['flatness']\n",
    "    rou_vec = content_int['roundness']    \n",
    "\n",
    "print(\"Determining label statistics using simpleitk took \" + str(time.time() - start_time) + \" s\")"
   ]
  },
  {
   "cell_type": "code",
   "execution_count": null,
   "id": "aaab7870-9325-41a8-a3ca-a839f30e358d",
   "metadata": {},
   "outputs": [],
   "source": [
    "content_int"
   ]
  },
  {
   "cell_type": "code",
   "execution_count": null,
   "id": "7b013aea-43ee-4be1-9be8-0bfaa2547c21",
   "metadata": {},
   "outputs": [],
   "source": [
    "!pip install napari-error-reporter"
   ]
  }
 ],
 "metadata": {
  "kernelspec": {
   "display_name": "Python 3 (ipykernel)",
   "language": "python",
   "name": "python3"
  },
  "language_info": {
   "codemirror_mode": {
    "name": "ipython",
    "version": 3
   },
   "file_extension": ".py",
   "mimetype": "text/x-python",
   "name": "python",
   "nbconvert_exporter": "python",
   "pygments_lexer": "ipython3",
   "version": "3.10.4"
  }
 },
 "nbformat": 4,
 "nbformat_minor": 5
}
