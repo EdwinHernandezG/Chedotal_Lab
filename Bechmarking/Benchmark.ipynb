{
 "cells": [
  {
   "cell_type": "markdown",
   "id": "da029296-5721-4280-b5e0-04077a6b5f70",
   "metadata": {},
   "source": [
    "# Regionprops / napari_simpleitk_image_processing_label_statistics / napari_cupy_image_processing_measurements comparison\n",
    "\n",
    "Benchmark feedback for Robert Haase"
   ]
  },
  {
   "cell_type": "code",
   "execution_count": 1,
   "id": "cd0dfdcd-55d3-4aa2-a81d-46266437d5b4",
   "metadata": {},
   "outputs": [],
   "source": [
    "import numpy as np\n",
    "import zarr\n",
    "from skimage.measure import regionprops\n",
    "from skimage.util import map_array\n",
    "import warnings\n",
    "warnings.filterwarnings(\"ignore\")"
   ]
  },
  {
   "cell_type": "code",
   "execution_count": 2,
   "id": "f9340d6f-d8f0-4e85-9723-c7b173c2c044",
   "metadata": {},
   "outputs": [],
   "source": [
    "# load raw data\n",
    "\n",
    "image = zarr.load(r\"D:\\EHG\\Explants\\INSL3\\C2-EH3919_DMSOEtOH_Explant-2_5-COUPTFII_6-INSL3_7-CYP17A1-1s_12x_1z_Blaze_C0.ome_Processed.aivia_Processed.aivia.tif8.zarr\")\n",
    "\n",
    "# Load the segmented image\n",
    "\n",
    "labels = zarr.load(\"D:\\EHG\\Explants\\INSL3\\Labels\\C2-EH3919_DMSOEtOH_Explant-2_5-COUPTFII_6-INSL3_7-CYP17A1-1s_12x_1z_Blaze_C0.ome_Processed.aivia_Processed.aivia_cp_masks.tif5.zarr\")"
   ]
  },
  {
   "cell_type": "code",
   "execution_count": 3,
   "id": "d4fe9611-4690-4060-bd03-998963cc14b1",
   "metadata": {},
   "outputs": [],
   "source": [
    "import napari"
   ]
  },
  {
   "cell_type": "code",
   "execution_count": 4,
   "id": "fbc7969d-6cc8-4b45-95a4-f44a5dcdf767",
   "metadata": {},
   "outputs": [
    {
     "data": {
      "text/plain": [
       "<Labels layer 'labels' at 0x207a31ac9d0>"
      ]
     },
     "execution_count": 4,
     "metadata": {},
     "output_type": "execute_result"
    }
   ],
   "source": [
    "viewer = napari.Viewer()\n",
    "viewer.add_image(image)\n",
    "viewer.add_labels(labels)"
   ]
  },
  {
   "cell_type": "code",
   "execution_count": null,
   "id": "227943e9-f200-4aef-ac9b-5a2289f08ee2",
   "metadata": {
    "tags": []
   },
   "outputs": [],
   "source": [
    "import time\n",
    "\n",
    "for i in range(0, 10):\n",
    "    start_time = time.time()\n",
    "    \n",
    "    # get dictionary of measurements\n",
    "    props = regionprops(labels, intensity_image=image, cache=True,)\n",
    "        \n",
    "    # read out arrays of values\n",
    "    \n",
    "    area = [s.area for s in props]\n",
    "    equivalent_diameter_area = [s.equivalent_diameter_area for s in props]\n",
    "    intensity_max = [s.intensity_max for s in props]\n",
    "    intensity_mean = [s.intensity_mean for s in props]\n",
    "    intensity_min = [s.intensity_min for s in props]\n",
    "    solidity = [s.solidity for s in props]\n",
    "        \n",
    "    print(\"Determining label statistics using scikit-image took \" + str(time.time() - start_time) + \" s\")"
   ]
  },
  {
   "cell_type": "code",
   "execution_count": null,
   "id": "b4018528-203e-4830-83ea-c60196161b7d",
   "metadata": {},
   "outputs": [],
   "source": [
    "from napari_simpleitk_image_processing import label_statistics\n",
    "import pandas as pd\n",
    "\n",
    "for i in range(0, 10):\n",
    "    start_time = time.time()\n",
    "    \n",
    "    # get dictionary of measurements\n",
    "    props = label_statistics(image, labels, None, True, True, True, True, True, True)\n",
    "        \n",
    "    # read out arrays of values\n",
    "    content = pd.DataFrame(props)\n",
    "\n",
    "    intensity_max = content['maximum']\n",
    "    intensity_mean = content['mean']\n",
    "    intensity_min = content['minimum']\n",
    "    principal_moments0 = content['principal_moments0']\n",
    "        \n",
    "    print(\"Determining label statistics using simpleitk took \" + str(time.time() - start_time) + \" s\")"
   ]
  },
  {
   "cell_type": "code",
   "execution_count": null,
   "id": "f890bffe-4823-4972-8b5e-f80ab6635781",
   "metadata": {
    "tags": []
   },
   "outputs": [],
   "source": [
    "from napari_cupy_image_processing import measurements\n",
    "\n",
    "for i in range(0, 10):\n",
    "    start_time = time.time()\n",
    "    \n",
    "    # get dictionary of measurements\n",
    "    props = measurements(image, labels)\n",
    "        \n",
    "    # read out arrays of values\n",
    "    content = pd.DataFrame(props)\n",
    "\n",
    "    max_vector = content['maximum']\n",
    "    mean_vector = content['mean']\n",
    "    min_vector = content['minimum']\n",
    "    median = content['median']\n",
    "        \n",
    "    print(\"Determining label statistics using cupy took \" + str(time.time() - start_time) + \" s\")"
   ]
  },
  {
   "cell_type": "code",
   "execution_count": 5,
   "id": "12a61160-6ae5-456e-bbda-83154899bc27",
   "metadata": {},
   "outputs": [],
   "source": [
    "def measures(\n",
    "        image_layer : viewer.layers['image'],\n",
    "        labels_layer: viewer.layers['labels'],\n",
    "        napari_viewer : napari.Viewer = None,\n",
    "        size: bool = True,\n",
    "        intensity: bool = True,\n",
    "        position: bool = False):\n",
    "    \n",
    "    import cupy\n",
    "    from cupyx.scipy import ndimage\n",
    "\n",
    "    if image_layer is not None and labels_layer is not None:\n",
    "\n",
    "        labels = cupy.asarray(labels_layer.data)\n",
    "        image = cupy.asarray(image_layer.data)\n",
    "\n",
    "        df = {}\n",
    "\n",
    "        for l in range(1, labels.max().get() + 1):\n",
    "            _append_to_column(df, \"label\", l)\n",
    "            if position:\n",
    "                for i, x in enumerate(ndimage.center_of_mass(image, labels, l)):\n",
    "                    _append_to_column(df, \"center_of_mass_\" + str(i), x.get())\n",
    "                for i, x in enumerate(ndimage.minimum_position(image, labels, l)):\n",
    "                    _append_to_column(df, \"minimum_position_\" + str(i), x)\n",
    "                for i, x in enumerate(ndimage.maximum_position(image, labels, l)):\n",
    "                    _append_to_column(df, \"maximum_position_\" + str(i), x)\n",
    "\n",
    "            mean = None\n",
    "            if intensity:\n",
    "                x = ndimage.mean(image, labels, l)\n",
    "                mean = x.get()\n",
    "                _append_to_column(df, \"mean\", x.get())\n",
    "                x = ndimage.minimum(image, labels, l)\n",
    "                _append_to_column(df, \"minimum\", x.get())\n",
    "                x = ndimage.maximum(image, labels, l)\n",
    "                _append_to_column(df, \"maximum\", x.get())\n",
    "                x = ndimage.median(image, labels, l)\n",
    "                _append_to_column(df, \"median\", x.get())\n",
    "                x = ndimage.standard_deviation(image, labels, l)\n",
    "                _append_to_column(df, \"standard_deviation\", x.get())\n",
    "\n",
    "            if size:\n",
    "                sum_labels = ndimage.sum_labels(image, labels, l).get()\n",
    "                if mean is None:\n",
    "                    mean = ndimage.mean(image, labels, l).get()\n",
    "                pixel_count = sum_labels / mean\n",
    "                _append_to_column(df, \"pixel_count\", pixel_count)\n",
    "\n",
    "        result = {}\n",
    "        for k, v in df.items():\n",
    "            result[k] = np.asarray(v).tolist()\n",
    "\n",
    "        return result\n",
    "        \n",
    "\n",
    "def _append_to_column(dictionary, column_name, value):\n",
    "    if column_name not in dictionary.keys():\n",
    "        dictionary[column_name] = []\n",
    "    dictionary[column_name].append(value)"
   ]
  },
  {
   "cell_type": "code",
   "execution_count": null,
   "id": "e6f8404e-941a-453a-95cf-8496952cabf2",
   "metadata": {
    "tags": []
   },
   "outputs": [],
   "source": [
    "import time\n",
    "\n",
    "for i in range(0, 10):\n",
    "    start_time = time.time()\n",
    "    \n",
    "    # get dictionary of measurements\n",
    "    props = measures(image, labels)\n",
    "        \n",
    "    # read out arrays of values\n",
    "    content = pd.DataFrame(props)\n",
    "\n",
    "    max_vector = content['maximum']\n",
    "    mean_vector = content['mean']\n",
    "    min_vector = content['minimum']\n",
    "    median = content['median']\n",
    "        \n",
    "    print(\"Determining label statistics using cupy took \" + str(time.time() - start_time) + \" s\")"
   ]
  },
  {
   "cell_type": "code",
   "execution_count": null,
   "id": "93fbb7bc-ae61-48fd-b9d9-baf0b773f043",
   "metadata": {},
   "outputs": [],
   "source": []
  }
 ],
 "metadata": {
  "kernelspec": {
   "display_name": "Python 3 (ipykernel)",
   "language": "python",
   "name": "python3"
  },
  "language_info": {
   "codemirror_mode": {
    "name": "ipython",
    "version": 3
   },
   "file_extension": ".py",
   "mimetype": "text/x-python",
   "name": "python",
   "nbconvert_exporter": "python",
   "pygments_lexer": "ipython3",
   "version": "3.8.5"
  }
 },
 "nbformat": 4,
 "nbformat_minor": 5
}
