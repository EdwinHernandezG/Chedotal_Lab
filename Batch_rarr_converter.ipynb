{
 "cells": [
  {
   "cell_type": "code",
   "execution_count": 1,
   "id": "f86b7bbf-d617-451d-81d8-bbc1a5bedc61",
   "metadata": {},
   "outputs": [],
   "source": [
    "# Call dependencies\n",
    "\n",
    "import os\n",
    "import zarr\n",
    "import tifffile as tf"
   ]
  },
  {
   "cell_type": "code",
   "execution_count": 2,
   "id": "2465e627-0280-4a96-8a84-9fed6694b88d",
   "metadata": {},
   "outputs": [],
   "source": [
    "# Folder location\n",
    "\n",
    "Data_folder = r'D:\\EHG\\Explants\\CYP17A1\\Raw'"
   ]
  },
  {
   "cell_type": "code",
   "execution_count": 3,
   "id": "0d4ae148-2fe7-47c1-ab3f-3f128d68dfd2",
   "metadata": {},
   "outputs": [
    {
     "name": "stdout",
     "output_type": "stream",
     "text": [
      "D:\\EHG\\Explants\\CYP17A1\\Raw\\C3-EH3919_cyclo25_explant-1_5-couptfii_6-insl3_7-cyp17a1-1s_12x_1z_blaze_C0_Processed.aivia_Processed.aivia.tif81.zarr converted\n",
      "D:\\EHG\\Explants\\CYP17A1\\Raw\\C3-EH3919_cyclo25_explant-2_5-couptfii_6-insl3_7-cyp17a1-1s_12x_1z_blaze_C0.ome_Processed.aivia_Processed.aivia.tif26.zarr converted\n",
      "D:\\EHG\\Explants\\CYP17A1\\Raw\\C3-EH3919_cyclo25_explant-3_5-couptfii_6-insl3_7-cyp17a1-1s_12x_1z_blaze_C0.ome_Processed.aivia_Processed.aivia.tif13.zarr converted\n",
      "D:\\EHG\\Explants\\CYP17A1\\Raw\\C3-EH3919_DMSOEtOH_Explant-1_5-COUPTFII_6-INSL3_7-CYP17A1-1s_12x_1z_Blaze_C0.ome_Processed.aivia_Processed.aivia.tif14.zarr converted\n",
      "D:\\EHG\\Explants\\CYP17A1\\Raw\\C3-EH3919_DMSOEtOH_Explant-2_5-COUPTFII_6-INSL3_7-CYP17A1-1s_12x_1z_Blaze_C0.ome_Processed.aivia_Processed.aivia.tif15.zarr converted\n",
      "D:\\EHG\\Explants\\CYP17A1\\Raw\\C3-EH3919_DMSOEtOH_Explant-3_5-COUPTFII_6-INSL3_7-CYP17A1-12x_1z_Blaze_C0.ome_Processed.aivia_Processed.aivia.tif16.zarr converted\n",
      "D:\\EHG\\Explants\\CYP17A1\\Raw\\C3-EH3919_SAG7_Explant-1_5-COUPTFII_6-INSL3_7-CYP17A1-1s_12x_1z_Blaze.aivia_Processed.aivia.tif17.zarr converted\n",
      "D:\\EHG\\Explants\\CYP17A1\\Raw\\C3-EH3919_SAG7_Explant-2_5-COUPTFII_6-INSL3_7-CYP17A1-1s_12x_166z_STITCHED_C0.aivia_Processed.aivia.tif18.zarr converted\n",
      "D:\\EHG\\Explants\\CYP17A1\\Raw\\C3-EH3919_SAG7_Explant-3_5-COUPTFII_6-INSL3_7-CYP17A1-1s_12x_1z_Blaze_C0.ome_Processed.aivia_Processed.aivia.tif27.zarr converted\n",
      "D:\\EHG\\Explants\\CYP17A1\\Raw\\C3-EH3930_cyclo25_explant-1_5-couptfii_6-insl3_7-cyp17a1-1s_12x_1z_blaze_C0.ome_Processed.aivia_Processed.aivia.tif42.zarr converted\n",
      "D:\\EHG\\Explants\\CYP17A1\\Raw\\C3-EH3930_cyclo25_explant-2_5-couptfii_6-insl3_7-cyp17a1-1s_12x_1z_blaze_C0.ome_Processed.aivia_Processed.aivia.tif43.zarr converted\n",
      "D:\\EHG\\Explants\\CYP17A1\\Raw\\C3-EH3930_cyclo25_explant-3_5-couptfii_6-insl3_7-cyp17a1-1s_12x_1z_blaze_C0.ome_Processed.aivia_Processed.aivia.tif44.zarr converted\n",
      "D:\\EHG\\Explants\\CYP17A1\\Raw\\C3-EH3930_cyclo25_explant-4_5-couptfii_6-insl3_7-cyp17a1-1s_12x_1z_blaze_C0.ome_Processed.aivia_Processed.aivia.tif45.zarr converted\n",
      "D:\\EHG\\Explants\\CYP17A1\\Raw\\C3-EH3930_DMSOEtOH_Explant-1_5-COUPTFII_6-INSL3_7-CYP17A1-1s_12x_1z_Blaze.ome_Processed.aivia_Processed.aivia.tif46.zarr converted\n",
      "D:\\EHG\\Explants\\CYP17A1\\Raw\\C3-EH3930_DMSOEtOH_Explant-2_5-COUPTFII_6-INSL3_7-CYP17A1-1s_12x_1z_Blaze.ome_Processed.aivia_Processed.aivia.tif47.zarr converted\n",
      "D:\\EHG\\Explants\\CYP17A1\\Raw\\C3-EH3930_DMSOEtOH_Explant-3_5-COUPTFII_6-INSL3_7-CYP17A1-1s_12x_1z_Blaze_C0.ome_Processed.aivia_Processed.aivia.tif28.zarr converted\n",
      "D:\\EHG\\Explants\\CYP17A1\\Raw\\C3-EH3930_SAG7_Explant-1_5-COUPTFII_6-INSL3_7-CYP17A1-1s_12x_1z_Blaze_C0.ome_Processed.aivia_Processed.aivia.tif60.zarr converted\n",
      "D:\\EHG\\Explants\\CYP17A1\\Raw\\C3-EH3930_SAG7_Explant-2_5-COUPTFII_6-INSL3_7-CYP17A1-1s_12x_1z_Blaze_C0.ome_Processed.aivia_Processed.aivia.tif61.zarr converted\n",
      "D:\\EHG\\Explants\\CYP17A1\\Raw\\C3-EH3930_SAG7_Explant-3_5-COUPTFII_6-INSL3_7-CYP17A1-1s_12x_1z_Blaze_C0.ome_Processed.aivia_Processed.aivia.tif62.zarr converted\n",
      "D:\\EHG\\Explants\\CYP17A1\\Raw\\C3-EH3931_cyclo25_explant-1_5-couptfii_6-insl3_7-cyp17a1-1s_12x_1z_blaze_C0.ome_Processed.aivia_Processed.aivia.tif63.zarr converted\n",
      "D:\\EHG\\Explants\\CYP17A1\\Raw\\C3-EH3931_cyclo25_explant-2_5-couptfii_6-insl3_7-cyp17a1-1s_12x_1z_blaze_C0.ome_Processed.aivia_Processed.aivia.tif64.zarr converted\n",
      "D:\\EHG\\Explants\\CYP17A1\\Raw\\C3-EH3931_cyclo25_explant-3_5-couptfii_6-insl3_7-cyp17a1-1s_12x_1z_blaze_C0.ome_Processed.aivia_Processed.aivia.tif65.zarr converted\n",
      "D:\\EHG\\Explants\\CYP17A1\\Raw\\C3-EH3931_cyclo25_explant-4_5-couptfii_6-insl3_7-cyp17a1-1s_12x_1z_blaze_C0.ome_Processed.aivia_Processed.aivia.tif29.zarr converted\n",
      "D:\\EHG\\Explants\\CYP17A1\\Raw\\C3-EH3931_DMSOEtOH_Explant-1_5-COUPTFII_6-INSL3_7-CYP17A1-1s_12x_1z_Blaze_C0.aivia_Processed.aivia.tif82.zarr converted\n",
      "D:\\EHG\\Explants\\CYP17A1\\Raw\\C3-EH3931_DMSOEtOH_Explant-2_5-COUPTFII_6-INSL3_7-CYP17A1-1s_12x_1z_Blaze_C0.ome_Processed.aivia_Processed.aivia.tif83.zarr converted\n",
      "D:\\EHG\\Explants\\CYP17A1\\Raw\\C3-EH3931_DMSOEtOH_Explant-3_5-COUPTFII_6-INSL3_7-CYP17A1-1s_12x_1z_Blaze_C0.ome_Processed.aivia_Processed.aivia.tif84.zarr converted\n",
      "D:\\EHG\\Explants\\CYP17A1\\Raw\\C3-EH3931_SAG7_Explant-1_5-COUPTFII_6-INSL3_7-CYP17A1-1s_12x_1z_Blaze_C0.ome_Processed.aivia_Processed.aivia.tif85.zarr converted\n",
      "D:\\EHG\\Explants\\CYP17A1\\Raw\\C3-EH3931_SAG7_Explant-2_5-COUPTFII_6-INSL3_7-CYP17A1-1s_12x_1z_Blaze_stitched_C0.ome_Processed.aivia_Processed.aivia.tif86.zarr converted\n",
      "D:\\EHG\\Explants\\CYP17A1\\Raw\\C3-EH3931_SAG7_Explant-3_5-COUPTFII_6-INSL3_7-CYP17A1-1s_12x_1z_Blaze_C0.ome_Processed.aivia_Processed.aivia.tif87.zarr converted\n"
     ]
    }
   ],
   "source": [
    "# File Indexation and convertion\n",
    "c=1\n",
    "\n",
    "for filename in os.listdir(Data_folder):\n",
    "    if filename.endswith(\".zarr\"):\n",
    "        im = zarr.load(Data_folder+'/'+filename)\n",
    "        name= filename+str(c)+'.tif'\n",
    "        tf.imwrite(Data_folder+'/'+name, im)\n",
    "        c+=1\n",
    "        print(os.path.join(Data_folder, filename)+' converted')\n",
    "        continue\n",
    "    else:\n",
    "        continue"
   ]
  },
  {
   "cell_type": "code",
   "execution_count": null,
   "id": "00e0b222-6a38-4bc2-9a14-20233e22c4d5",
   "metadata": {},
   "outputs": [],
   "source": []
  }
 ],
 "metadata": {
  "kernelspec": {
   "display_name": "Python 3 (ipykernel)",
   "language": "python",
   "name": "python3"
  },
  "language_info": {
   "codemirror_mode": {
    "name": "ipython",
    "version": 3
   },
   "file_extension": ".py",
   "mimetype": "text/x-python",
   "name": "python",
   "nbconvert_exporter": "python",
   "pygments_lexer": "ipython3",
   "version": "3.9.12"
  }
 },
 "nbformat": 4,
 "nbformat_minor": 5
}
