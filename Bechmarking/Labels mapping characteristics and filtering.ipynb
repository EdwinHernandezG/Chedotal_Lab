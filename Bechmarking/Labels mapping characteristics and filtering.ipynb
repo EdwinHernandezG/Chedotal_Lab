{
 "cells": [
  {
   "cell_type": "markdown",
   "id": "9aad4860",
   "metadata": {},
   "source": [
    "# Labels mapping characteristics and filtering"
   ]
  },
  {
   "cell_type": "markdown",
   "id": "99b83a4c",
   "metadata": {},
   "source": [
    "Depending on the quality of your segmentation, it will be interesting to filter your labels based on different characteristics of your dataset, like size, intensity, etc.\n",
    "\n",
    "In this case, the result using stardist and a generalistic ML confidence-based pixel classifier generates an over-segmentation. This issue will be easily solved by setting a mean intensity threshold to remove the low-intensity labels representing negative signal cells."
   ]
  },
  {
   "cell_type": "markdown",
   "id": "80e0c4ed",
   "metadata": {},
   "source": [
    "### Setting up your requirements\n",
    "\n",
    "We will use 'NumPy' to handle our arrays, 'napari' to visualize our data, 'Zarr' to load and save our results.\n",
    "\n",
    "Also, we will use two functions from 'scikit-image', 'measure_regionprops_table' to list the properties of our labels based on the raw data, and 'util_map_array' to extract the labels that we want. 'pandas' is going to be used to handle the extracted statistics.\n",
    "\n",
    "Last, we use 'matplotlib' to plot some graphs that will help us decide the limits to select the labels."
   ]
  },
  {
   "cell_type": "code",
   "execution_count": 1,
   "id": "e6729322",
   "metadata": {
    "tags": []
   },
   "outputs": [],
   "source": [
    "import numpy as np\n",
    "import napari\n",
    "import pandas\n",
    "import zarr\n",
    "import matplotlib.pyplot as plt\n",
    "#import tiffile as tf\n",
    "#from skimage.measure import regionprops_table\n",
    "from skimage.util import map_array\n",
    "from napari_cupy_image_processing import measurements\n",
    "#from napari_simpleitk_image_processing import label_statistics"
   ]
  },
  {
   "cell_type": "markdown",
   "id": "8971f8d1",
   "metadata": {},
   "source": [
    "### Loading your data\n",
    "Here you have to indicate where your files are stored, you can use zarr format that will result in smaller and manageable files, but you can use tif files in the same way."
   ]
  },
  {
   "cell_type": "code",
   "execution_count": 2,
   "id": "6ba030a8",
   "metadata": {},
   "outputs": [],
   "source": [
    "# load raw data\n",
    "\n",
    "image = zarr.load(\"D:\\EHG\\Explants\\INSL3\\C2-eh3931_cyclo25_explant-1_5-couptfii_6-insl3_7-cyp17a1-1s_12x_1z_blaze_C0.ome_Processed.aivia_Processed.aivia.tif56.zarr\")\n",
    "#image = tf.imread(r\"F:\\stardist_seg\\raw.tif\")\n",
    "\n",
    "# Load the segmented image\n",
    "\n",
    "labels = zarr.load(\"D:\\EHG\\Explants\\INSL3\\Labels\\C2-eh3931_cyclo25_explant-1_5-couptfii_6-insl3_7-cyp17a1-1s_12x_1z_blaze_C0.ome_Processed.aivia_Processed.aivia_cp_masks.tif20.zarr\")\n",
    "#labels = tf.imread(r\"F:\\stardist_seg\\labels.tif\")\n",
    "\n",
    "#intensity_labels = zarr.load(r\"F:\\stardist_seg\\lab_intensity.zarr\")"
   ]
  },
  {
   "cell_type": "markdown",
   "id": "5e4c0e8c",
   "metadata": {},
   "source": [
    "### Inspect your data using Napari\n",
    "\n",
    "We are going to use Napari to visualize our data"
   ]
  },
  {
   "cell_type": "code",
   "execution_count": 12,
   "id": "850112f9",
   "metadata": {},
   "outputs": [
    {
     "name": "stderr",
     "output_type": "stream",
     "text": [
      "C:\\Users\\Linux\\.conda\\envs\\bio11\\lib\\site-packages\\napari_tools_menu\\__init__.py:165: FutureWarning: Public access to Window.qt_viewer is deprecated and will be removed in\n",
      "v0.5.0. It is considered an \"implementation detail\" of the napari\n",
      "application, not part of the napari viewer model. If your use case\n",
      "requires access to qt_viewer, please open an issue to discuss.\n",
      "  self.tools_menu = ToolsMenu(self, self.qt_viewer.viewer)\n",
      "WARNING: QWindowsWindow::setGeometry: Unable to set geometry 3440x1377+0+30 (frame: 3458x1424-9-8) on QWidgetWindow/\"_QtMainWindowClassWindow\" on \"\\\\.\\DISPLAY145\". Resulting geometry: 1924x1055+0+30 (frame: 1942x1102-9-8) margins: 9, 38, 9, 9 minimum size: 612x570 MINMAXINFO maxSize=0,0 maxpos=0,0 mintrack=630,617 maxtrack=0,0)\n"
     ]
    }
   ],
   "source": [
    "viewer = napari.Viewer()"
   ]
  },
  {
   "cell_type": "markdown",
   "id": "5335abeb",
   "metadata": {},
   "source": [
    "Then, we add the datasets to Napari"
   ]
  },
  {
   "cell_type": "code",
   "execution_count": 13,
   "id": "1cef9b2e",
   "metadata": {},
   "outputs": [
    {
     "name": "stderr",
     "output_type": "stream",
     "text": [
      "C:\\Users\\Linux\\.conda\\envs\\bio11\\lib\\weakref.py:355: RuntimeWarning: coroutine 'get_msg' was never awaited\n",
      "  self._iterating = set()\n",
      "RuntimeWarning: Enable tracemalloc to get the object allocation traceback\n"
     ]
    },
    {
     "data": {
      "text/plain": [
       "<Labels layer 'labels' at 0x11e121b12e0>"
      ]
     },
     "execution_count": 13,
     "metadata": {},
     "output_type": "execute_result"
    }
   ],
   "source": [
    "viewer.add_image(image)\n",
    "viewer.add_labels(labels)\n",
    "#viewer.add_labels(intensity_labels)"
   ]
  },
  {
   "cell_type": "markdown",
   "id": "c17c345f",
   "metadata": {},
   "source": [
    "### Extracting the labels features\n",
    "\n",
    "Using the 'regioprops_table' function, we can extract some label characteristics that will help us to decide which threshold can be applied for or case. \n"
   ]
  },
  {
   "cell_type": "code",
   "execution_count": null,
   "id": "61bc6848-2a92-4e80-a5f2-22d2f30d98b4",
   "metadata": {},
   "outputs": [],
   "source": [
    "def measurements(\n",
    "        image_layer : viewer.layers['image'],\n",
    "        labels_layer: viewer.layers['labels'],\n",
    "        napari_viewer : napari.Viewer = None,\n",
    "        size: bool = True,\n",
    "        intensity: bool = True,\n",
    "        position: bool = False):\n",
    "    \n",
    "    import cupy\n",
    "    from cupyx.scipy import ndimage\n",
    "\n",
    "    if image_layer is not None and labels_layer is not None:\n",
    "\n",
    "        labels = cupy.asarray(labels_layer.data)\n",
    "        image = cupy.asarray(image_layer.data).astype(np.float32)\n",
    "\n",
    "        df = {}\n",
    "\n",
    "        for l in range(1, labels.max().get() + 1):\n",
    "            _append_to_column(df, \"label\", l)\n",
    "            if position:\n",
    "                for i, x in enumerate(ndimage.center_of_mass(image, labels, l)):\n",
    "                    _append_to_column(df, \"center_of_mass_\" + str(i), x.get())\n",
    "                for i, x in enumerate(ndimage.minimum_position(image, labels, l)):\n",
    "                    _append_to_column(df, \"minimum_position_\" + str(i), x)\n",
    "                for i, x in enumerate(ndimage.maximum_position(image, labels, l)):\n",
    "                    _append_to_column(df, \"maximum_position_\" + str(i), x)\n",
    "\n",
    "            mean = None\n",
    "            if intensity:\n",
    "                x = ndimage.mean(image, labels, l)\n",
    "                mean = x.get()\n",
    "                _append_to_column(df, \"mean\", x.get())\n",
    "                x = ndimage.minimum(image, labels, l)\n",
    "                _append_to_column(df, \"minimum\", x.get())\n",
    "                x = ndimage.maximum(image, labels, l)\n",
    "                _append_to_column(df, \"maximum\", x.get())\n",
    "                x = ndimage.median(image, labels, l)\n",
    "                _append_to_column(df, \"median\", x.get())\n",
    "                x = ndimage.standard_deviation(image, labels, l)\n",
    "                _append_to_column(df, \"standard_deviation\", x.get())\n",
    "\n",
    "            if size:\n",
    "                sum_labels = ndimage.sum_labels(image, labels, l).get()\n",
    "                if mean is None:\n",
    "                    mean = ndimage.mean(image, labels, l).get()\n",
    "                pixel_count = sum_labels / mean\n",
    "                _append_to_column(df, \"pixel_count\", pixel_count)\n",
    "\n",
    "        result = {}\n",
    "        for k, v in df.items():\n",
    "            result[k] = np.asarray(v).tolist()\n",
    "\n",
    "        return result\n",
    "        \n",
    "\n",
    "def _append_to_column(dictionary, column_name, value):\n",
    "    if column_name not in dictionary.keys():\n",
    "        dictionary[column_name] = []\n",
    "    dictionary[column_name].append(value)"
   ]
  },
  {
   "cell_type": "code",
   "execution_count": 3,
   "id": "d924b7b7-451e-42c0-a574-a2d15089cddd",
   "metadata": {
    "tags": []
   },
   "outputs": [],
   "source": [
    "props = measurements(image, labels)"
   ]
  },
  {
   "cell_type": "markdown",
   "id": "83ee4c30",
   "metadata": {},
   "source": [
    "Then, we can use pandas to structure the results array."
   ]
  },
  {
   "cell_type": "code",
   "execution_count": 4,
   "id": "e1195499",
   "metadata": {},
   "outputs": [
    {
     "data": {
      "text/html": [
       "<div>\n",
       "<style scoped>\n",
       "    .dataframe tbody tr th:only-of-type {\n",
       "        vertical-align: middle;\n",
       "    }\n",
       "\n",
       "    .dataframe tbody tr th {\n",
       "        vertical-align: top;\n",
       "    }\n",
       "\n",
       "    .dataframe thead th {\n",
       "        text-align: right;\n",
       "    }\n",
       "</style>\n",
       "<table border=\"1\" class=\"dataframe\">\n",
       "  <thead>\n",
       "    <tr style=\"text-align: right;\">\n",
       "      <th></th>\n",
       "      <th>label</th>\n",
       "      <th>mean</th>\n",
       "      <th>minimum</th>\n",
       "      <th>maximum</th>\n",
       "      <th>median</th>\n",
       "      <th>standard_deviation</th>\n",
       "      <th>pixel_count</th>\n",
       "    </tr>\n",
       "  </thead>\n",
       "  <tbody>\n",
       "    <tr>\n",
       "      <th>0</th>\n",
       "      <td>1</td>\n",
       "      <td>1183.012320</td>\n",
       "      <td>108.0</td>\n",
       "      <td>2087.0</td>\n",
       "      <td>1253.0</td>\n",
       "      <td>421.316895</td>\n",
       "      <td>487.0</td>\n",
       "    </tr>\n",
       "    <tr>\n",
       "      <th>1</th>\n",
       "      <td>2</td>\n",
       "      <td>1730.654618</td>\n",
       "      <td>1444.0</td>\n",
       "      <td>2327.0</td>\n",
       "      <td>1704.0</td>\n",
       "      <td>139.557332</td>\n",
       "      <td>249.0</td>\n",
       "    </tr>\n",
       "    <tr>\n",
       "      <th>2</th>\n",
       "      <td>3</td>\n",
       "      <td>1546.525773</td>\n",
       "      <td>1362.0</td>\n",
       "      <td>1776.0</td>\n",
       "      <td>1537.0</td>\n",
       "      <td>101.404779</td>\n",
       "      <td>97.0</td>\n",
       "    </tr>\n",
       "    <tr>\n",
       "      <th>3</th>\n",
       "      <td>4</td>\n",
       "      <td>1375.880000</td>\n",
       "      <td>1217.0</td>\n",
       "      <td>1556.0</td>\n",
       "      <td>1375.0</td>\n",
       "      <td>70.344591</td>\n",
       "      <td>125.0</td>\n",
       "    </tr>\n",
       "    <tr>\n",
       "      <th>4</th>\n",
       "      <td>5</td>\n",
       "      <td>1383.360769</td>\n",
       "      <td>806.0</td>\n",
       "      <td>2141.0</td>\n",
       "      <td>1395.0</td>\n",
       "      <td>289.586166</td>\n",
       "      <td>1300.0</td>\n",
       "    </tr>\n",
       "    <tr>\n",
       "      <th>...</th>\n",
       "      <td>...</td>\n",
       "      <td>...</td>\n",
       "      <td>...</td>\n",
       "      <td>...</td>\n",
       "      <td>...</td>\n",
       "      <td>...</td>\n",
       "      <td>...</td>\n",
       "    </tr>\n",
       "    <tr>\n",
       "      <th>2376</th>\n",
       "      <td>2377</td>\n",
       "      <td>1346.992000</td>\n",
       "      <td>1149.0</td>\n",
       "      <td>1542.0</td>\n",
       "      <td>1351.0</td>\n",
       "      <td>82.770671</td>\n",
       "      <td>125.0</td>\n",
       "    </tr>\n",
       "    <tr>\n",
       "      <th>2377</th>\n",
       "      <td>2378</td>\n",
       "      <td>1554.818182</td>\n",
       "      <td>1346.0</td>\n",
       "      <td>1700.0</td>\n",
       "      <td>1556.0</td>\n",
       "      <td>70.597990</td>\n",
       "      <td>110.0</td>\n",
       "    </tr>\n",
       "    <tr>\n",
       "      <th>2378</th>\n",
       "      <td>2379</td>\n",
       "      <td>1502.434211</td>\n",
       "      <td>1317.0</td>\n",
       "      <td>1661.0</td>\n",
       "      <td>1495.0</td>\n",
       "      <td>87.175611</td>\n",
       "      <td>76.0</td>\n",
       "    </tr>\n",
       "    <tr>\n",
       "      <th>2379</th>\n",
       "      <td>2380</td>\n",
       "      <td>665.346939</td>\n",
       "      <td>465.0</td>\n",
       "      <td>857.0</td>\n",
       "      <td>670.0</td>\n",
       "      <td>73.165049</td>\n",
       "      <td>49.0</td>\n",
       "    </tr>\n",
       "    <tr>\n",
       "      <th>2380</th>\n",
       "      <td>2381</td>\n",
       "      <td>1724.000000</td>\n",
       "      <td>1466.0</td>\n",
       "      <td>1959.0</td>\n",
       "      <td>1710.5</td>\n",
       "      <td>110.759136</td>\n",
       "      <td>58.0</td>\n",
       "    </tr>\n",
       "  </tbody>\n",
       "</table>\n",
       "<p>2381 rows × 7 columns</p>\n",
       "</div>"
      ],
      "text/plain": [
       "      label         mean  minimum  maximum  median  standard_deviation  \\\n",
       "0         1  1183.012320    108.0   2087.0  1253.0          421.316895   \n",
       "1         2  1730.654618   1444.0   2327.0  1704.0          139.557332   \n",
       "2         3  1546.525773   1362.0   1776.0  1537.0          101.404779   \n",
       "3         4  1375.880000   1217.0   1556.0  1375.0           70.344591   \n",
       "4         5  1383.360769    806.0   2141.0  1395.0          289.586166   \n",
       "...     ...          ...      ...      ...     ...                 ...   \n",
       "2376   2377  1346.992000   1149.0   1542.0  1351.0           82.770671   \n",
       "2377   2378  1554.818182   1346.0   1700.0  1556.0           70.597990   \n",
       "2378   2379  1502.434211   1317.0   1661.0  1495.0           87.175611   \n",
       "2379   2380   665.346939    465.0    857.0   670.0           73.165049   \n",
       "2380   2381  1724.000000   1466.0   1959.0  1710.5          110.759136   \n",
       "\n",
       "      pixel_count  \n",
       "0           487.0  \n",
       "1           249.0  \n",
       "2            97.0  \n",
       "3           125.0  \n",
       "4          1300.0  \n",
       "...           ...  \n",
       "2376        125.0  \n",
       "2377        110.0  \n",
       "2378         76.0  \n",
       "2379         49.0  \n",
       "2380         58.0  \n",
       "\n",
       "[2381 rows x 7 columns]"
      ]
     },
     "execution_count": 4,
     "metadata": {},
     "output_type": "execute_result"
    }
   ],
   "source": [
    "content = pandas.DataFrame(props)\n",
    "content"
   ]
  },
  {
   "cell_type": "markdown",
   "id": "422754e8",
   "metadata": {},
   "source": [
    "We can retrieve the different vectors of interest to be evaluated."
   ]
  },
  {
   "cell_type": "code",
   "execution_count": 5,
   "id": "6a4b5a7c",
   "metadata": {},
   "outputs": [],
   "source": [
    "max_vector = content['maximum']\n",
    "mean_vector = content['mean']\n",
    "min_vector = content['minimum']\n",
    "sol_vector = content['median']"
   ]
  },
  {
   "cell_type": "markdown",
   "id": "55a7a137",
   "metadata": {},
   "source": [
    "Then, we can get a look of our labels using matplotlib to plot the frequency histograms."
   ]
  },
  {
   "cell_type": "code",
   "execution_count": 6,
   "id": "da96c5a6",
   "metadata": {},
   "outputs": [],
   "source": [
    "%matplotlib inline\n",
    "%config InlineBackend.figure_format='retina'"
   ]
  },
  {
   "cell_type": "code",
   "execution_count": 7,
   "id": "846baad6",
   "metadata": {},
   "outputs": [
    {
     "data": {
      "image/png": "[encoded data removed]",
      "text/plain": [
       "<Figure size 432x288 with 4 Axes>"
      ]
     },
     "metadata": {
      "image/png": {
       "height": 279,
       "width": 424
      },
      "needs_background": "light"
     },
     "output_type": "display_data"
    }
   ],
   "source": [
    "fig, axes = plt.subplots(2, 2)\n",
    "ax = axes.ravel()\n",
    "\n",
    "ax[0].hist(max_vector, bins=100)\n",
    "ax[0].set_ylabel('Number of cells')\n",
    "ax[0].set_xlabel('Max Intensity (A.U.)')\n",
    "\n",
    "ax[1].hist(mean_vector, bins=100)\n",
    "ax[1].set_ylabel('Number of cells')\n",
    "ax[1].set_xlabel('Mean Intensity (A.U.)')\n",
    "\n",
    "ax[2].hist(min_vector, bins=100)\n",
    "ax[2].set_ylabel('Number of cells')\n",
    "ax[2].set_xlabel('Min Intensity (A.U.)')\n",
    "\n",
    "ax[3].hist(sol_vector, bins=100)\n",
    "ax[3].set_ylabel('Number of cells')\n",
    "ax[3].set_xlabel('Median intensity (A.U.)') \n",
    "\n",
    "fig.tight_layout()"
   ]
  },
  {
   "cell_type": "markdown",
   "id": "ab79556d",
   "metadata": {},
   "source": [
    "From those histograms we can see that there are two populations of cells, this allow us to think that cells that have a instensity of 4000 or higher ca be considerated positives.\n",
    "\n",
    "### Selecting labels above a given intensity threshold\n",
    "\n",
    "To generate the labels image of the nuclei with an intensity higher than 4000 we can use the 'map_array' funtion from 'scikit-image' mapping the *product* of the boolean array with the labels."
   ]
  },
  {
   "cell_type": "code",
   "execution_count": 8,
   "id": "111dc70a",
   "metadata": {},
   "outputs": [],
   "source": [
    "intensity_labels = map_array(\n",
    "    labels,\n",
    "    label_ids := np.asarray(content['label']),\n",
    "    label_ids * np.asarray(content['mean'] > 1500),\n",
    ")"
   ]
  },
  {
   "cell_type": "markdown",
   "id": "fd3fb34f",
   "metadata": {},
   "source": [
    "Then we can add our new labels to Napari"
   ]
  },
  {
   "cell_type": "code",
   "execution_count": 14,
   "id": "386e5ff3",
   "metadata": {},
   "outputs": [
    {
     "data": {
      "text/plain": [
       "<Labels layer 'intensity_labels' at 0x11e1ea8a280>"
      ]
     },
     "execution_count": 14,
     "metadata": {},
     "output_type": "execute_result"
    }
   ],
   "source": [
    "viewer.add_labels(intensity_labels)"
   ]
  },
  {
   "cell_type": "markdown",
   "id": "04983666",
   "metadata": {},
   "source": [
    "### Saving the new labels\n",
    "\n",
    "We can save our new generated labels as *zarr* file using the 'convenience.save' function"
   ]
  },
  {
   "cell_type": "code",
   "execution_count": 9,
   "id": "b6a12504",
   "metadata": {},
   "outputs": [],
   "source": [
    "zarr.convenience.save(r\"D:\\EHG\\Explants\\INSL3\\results\\eh3931_cyclo25_explant-insl3.zarr\", intensity_labels)"
   ]
  },
  {
   "cell_type": "markdown",
   "id": "b0c6e228",
   "metadata": {
    "tags": []
   },
   "source": [
    "### Getting the properties of the new set of labels\n",
    "Finally, we can extract the properties of our new set of labels and format them with pandas"
   ]
  },
  {
   "cell_type": "code",
   "execution_count": 11,
   "id": "1532072b-7bc4-4525-be57-f3c8db9b1ed7",
   "metadata": {
    "tags": []
   },
   "outputs": [
    {
     "ename": "ValueError",
     "evalue": "zero-size array to reduction operation cupy_min which has no identity",
     "output_type": "error",
     "traceback": [
      "\u001b[1;31m---------------------------------------------------------------------------\u001b[0m",
      "\u001b[1;31mValueError\u001b[0m                                Traceback (most recent call last)",
      "Input \u001b[1;32mIn [11]\u001b[0m, in \u001b[0;36m<module>\u001b[1;34m\u001b[0m\n\u001b[1;32m----> 1\u001b[0m props_int \u001b[38;5;241m=\u001b[39m \u001b[43mmeasurements\u001b[49m\u001b[43m(\u001b[49m\u001b[43mimage\u001b[49m\u001b[43m,\u001b[49m\u001b[43m \u001b[49m\u001b[43mintensity_labels\u001b[49m\u001b[43m)\u001b[49m\n",
      "File \u001b[1;32m~\\.conda\\envs\\bio11\\lib\\site-packages\\napari_cupy_image_processing\\_cupy_image_processing.py:256\u001b[0m, in \u001b[0;36mmeasurements\u001b[1;34m(intensity_image, label_image, napari_viewer, size, intensity, position)\u001b[0m\n\u001b[0;32m    254\u001b[0m mean \u001b[38;5;241m=\u001b[39m x\u001b[38;5;241m.\u001b[39mget()\n\u001b[0;32m    255\u001b[0m _append_to_column(df, \u001b[38;5;124m\"\u001b[39m\u001b[38;5;124mmean\u001b[39m\u001b[38;5;124m\"\u001b[39m, x\u001b[38;5;241m.\u001b[39mget())\n\u001b[1;32m--> 256\u001b[0m x \u001b[38;5;241m=\u001b[39m \u001b[43mndimage\u001b[49m\u001b[38;5;241;43m.\u001b[39;49m\u001b[43mminimum\u001b[49m\u001b[43m(\u001b[49m\u001b[43mimage\u001b[49m\u001b[43m,\u001b[49m\u001b[43m \u001b[49m\u001b[43mlabels\u001b[49m\u001b[43m,\u001b[49m\u001b[43m \u001b[49m\u001b[43ml\u001b[49m\u001b[43m)\u001b[49m\n\u001b[0;32m    257\u001b[0m _append_to_column(df, \u001b[38;5;124m\"\u001b[39m\u001b[38;5;124mminimum\u001b[39m\u001b[38;5;124m\"\u001b[39m, x\u001b[38;5;241m.\u001b[39mget())\n\u001b[0;32m    258\u001b[0m x \u001b[38;5;241m=\u001b[39m ndimage\u001b[38;5;241m.\u001b[39mmaximum(image, labels, l)\n",
      "File \u001b[1;32m~\\.conda\\envs\\bio11\\lib\\site-packages\\cupyx\\scipy\\ndimage\\measurements.py:799\u001b[0m, in \u001b[0;36mminimum\u001b[1;34m(input, labels, index)\u001b[0m\n\u001b[0;32m    774\u001b[0m \u001b[38;5;28;01mdef\u001b[39;00m \u001b[38;5;21mminimum\u001b[39m(\u001b[38;5;28minput\u001b[39m, labels\u001b[38;5;241m=\u001b[39m\u001b[38;5;28;01mNone\u001b[39;00m, index\u001b[38;5;241m=\u001b[39m\u001b[38;5;28;01mNone\u001b[39;00m):\n\u001b[0;32m    775\u001b[0m     \u001b[38;5;124;03m\"\"\"Calculate the minimum of the values of an array over labeled regions.\u001b[39;00m\n\u001b[0;32m    776\u001b[0m \n\u001b[0;32m    777\u001b[0m \u001b[38;5;124;03m    Args:\u001b[39;00m\n\u001b[1;32m   (...)\u001b[0m\n\u001b[0;32m    797\u001b[0m \u001b[38;5;124;03m    .. seealso:: :func:`scipy.ndimage.minimum`\u001b[39;00m\n\u001b[0;32m    798\u001b[0m \u001b[38;5;124;03m    \"\"\"\u001b[39;00m\n\u001b[1;32m--> 799\u001b[0m     \u001b[38;5;28;01mreturn\u001b[39;00m \u001b[43m_select\u001b[49m\u001b[43m(\u001b[49m\u001b[38;5;28;43minput\u001b[39;49m\u001b[43m,\u001b[49m\u001b[43m \u001b[49m\u001b[43mlabels\u001b[49m\u001b[43m,\u001b[49m\u001b[43m \u001b[49m\u001b[43mindex\u001b[49m\u001b[43m,\u001b[49m\u001b[43m \u001b[49m\u001b[43mfind_min\u001b[49m\u001b[38;5;241;43m=\u001b[39;49m\u001b[38;5;28;43;01mTrue\u001b[39;49;00m\u001b[43m)\u001b[49m[\u001b[38;5;241m0\u001b[39m]\n",
      "File \u001b[1;32m~\\.conda\\envs\\bio11\\lib\\site-packages\\cupyx\\scipy\\ndimage\\measurements.py:666\u001b[0m, in \u001b[0;36m_select\u001b[1;34m(input, labels, index, find_min, find_max, find_min_positions, find_max_positions, find_median)\u001b[0m\n\u001b[0;32m    664\u001b[0m     \u001b[38;5;28;01mif\u001b[39;00m find_positions:\n\u001b[0;32m    665\u001b[0m         masked_positions \u001b[38;5;241m=\u001b[39m positions[mask]\n\u001b[1;32m--> 666\u001b[0m     \u001b[38;5;28;01mreturn\u001b[39;00m \u001b[43msingle_group\u001b[49m\u001b[43m(\u001b[49m\u001b[38;5;28;43minput\u001b[39;49m\u001b[43m[\u001b[49m\u001b[43mmask\u001b[49m\u001b[43m]\u001b[49m\u001b[43m,\u001b[49m\u001b[43m \u001b[49m\u001b[43mmasked_positions\u001b[49m\u001b[43m)\u001b[49m\n\u001b[0;32m    668\u001b[0m index \u001b[38;5;241m=\u001b[39m cupy\u001b[38;5;241m.\u001b[39masarray(index)\n\u001b[0;32m    670\u001b[0m safe_int \u001b[38;5;241m=\u001b[39m _safely_castable_to_int(labels\u001b[38;5;241m.\u001b[39mdtype)\n",
      "File \u001b[1;32m~\\.conda\\envs\\bio11\\lib\\site-packages\\cupyx\\scipy\\ndimage\\measurements.py:637\u001b[0m, in \u001b[0;36m_select.<locals>.single_group\u001b[1;34m(vals, positions)\u001b[0m\n\u001b[0;32m    635\u001b[0m result \u001b[38;5;241m=\u001b[39m []\n\u001b[0;32m    636\u001b[0m \u001b[38;5;28;01mif\u001b[39;00m find_min:\n\u001b[1;32m--> 637\u001b[0m     result \u001b[38;5;241m+\u001b[39m\u001b[38;5;241m=\u001b[39m [\u001b[43mvals\u001b[49m\u001b[38;5;241;43m.\u001b[39;49m\u001b[43mmin\u001b[49m\u001b[43m(\u001b[49m\u001b[43m)\u001b[49m]\n\u001b[0;32m    638\u001b[0m \u001b[38;5;28;01mif\u001b[39;00m find_min_positions:\n\u001b[0;32m    639\u001b[0m     result \u001b[38;5;241m+\u001b[39m\u001b[38;5;241m=\u001b[39m [positions[vals \u001b[38;5;241m==\u001b[39m vals\u001b[38;5;241m.\u001b[39mmin()][\u001b[38;5;241m0\u001b[39m]]\n",
      "File \u001b[1;32mcupy\\_core\\core.pyx:944\u001b[0m, in \u001b[0;36mcupy._core.core.ndarray.min\u001b[1;34m()\u001b[0m\n",
      "File \u001b[1;32mcupy\\_core\\core.pyx:952\u001b[0m, in \u001b[0;36mcupy._core.core.ndarray.min\u001b[1;34m()\u001b[0m\n",
      "File \u001b[1;32mcupy\\_core\\_routines_statistics.pyx:61\u001b[0m, in \u001b[0;36mcupy._core._routines_statistics._ndarray_min\u001b[1;34m()\u001b[0m\n",
      "File \u001b[1;32mcupy\\_core\\_reduction.pyx:567\u001b[0m, in \u001b[0;36mcupy._core._reduction._SimpleReductionKernel.__call__\u001b[1;34m()\u001b[0m\n",
      "File \u001b[1;32mcupy\\_core\\_reduction.pyx:332\u001b[0m, in \u001b[0;36mcupy._core._reduction._AbstractReductionKernel._call\u001b[1;34m()\u001b[0m\n",
      "\u001b[1;31mValueError\u001b[0m: zero-size array to reduction operation cupy_min which has no identity"
     ]
    }
   ],
   "source": [
    "props_int = measurements(image, intensity_labels)"
   ]
  },
  {
   "cell_type": "code",
   "execution_count": null,
   "id": "901f21cf",
   "metadata": {},
   "outputs": [],
   "source": [
    "content_int = pandas.DataFrame(props_int)\n",
    "content_int"
   ]
  },
  {
   "cell_type": "markdown",
   "id": "8aca2c26",
   "metadata": {},
   "source": [
    "Here, we can see that we count finally *31439* cells in the dataset"
   ]
  },
  {
   "cell_type": "code",
   "execution_count": null,
   "id": "5f014bff",
   "metadata": {},
   "outputs": [],
   "source": []
  }
 ],
 "metadata": {
  "kernelspec": {
   "display_name": "Python 3 (ipykernel)",
   "language": "python",
   "name": "python3"
  },
  "language_info": {
   "codemirror_mode": {
    "name": "ipython",
    "version": 3
   },
   "file_extension": ".py",
   "mimetype": "text/x-python",
   "name": "python",
   "nbconvert_exporter": "python",
   "pygments_lexer": "ipython3",
   "version": "3.8.5"
  }
 },
 "nbformat": 4,
 "nbformat_minor": 5
}
