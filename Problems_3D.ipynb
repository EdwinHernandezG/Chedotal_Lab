{
 "cells": [
  {
   "cell_type": "markdown",
   "id": "1922ce19-e4a2-4014-a3e7-173659822050",
   "metadata": {},
   "source": [
    "# Problems with 3D dataset rendering"
   ]
  },
  {
   "cell_type": "markdown",
   "id": "3f882c93-d834-42f5-b596-c956d48e24d5",
   "metadata": {},
   "source": [
    "## One by one loading using Aicsimage"
   ]
  },
  {
   "cell_type": "code",
   "execution_count": null,
   "id": "ef0048b1-7f40-4585-8199-2e113ce9f004",
   "metadata": {},
   "outputs": [],
   "source": [
    "import os\n",
    "from aicsimageio import AICSImage\n",
    "from aicsimageio.readers import BioformatsReader"
   ]
  },
  {
   "cell_type": "code",
   "execution_count": null,
   "id": "1c13533f-ac60-40ae-ac13-813dfb697946",
   "metadata": {
    "tags": []
   },
   "outputs": [],
   "source": [
    "import napari\n",
    "\n",
    "v = napari.Viewer()\n",
    "\n",
    "img = r\"G:\\Stardist_results\\EH3574_Oct4.tif\"\n",
    "short_name = os.path.splitext(img)\n",
    "\n",
    "storeim = AICSImage(img, reader=BioformatsReader)\n",
    "image= storeim.dask_data\n",
    "storeim.xarray_dask_data\n",
    "        \n",
    "v.add_image(image, name='Image '+str(short_name[0]), contrast_limits=[0,10000])\n",
    "        \n",
    "print(img+' is in Napari')\n",
    "print(image.shape, image.size, image.dtype)"
   ]
  },
  {
   "cell_type": "code",
   "execution_count": null,
   "id": "0ab3250d-e667-4feb-b44b-12ec58a190cb",
   "metadata": {},
   "outputs": [],
   "source": [
    "lbl = r\"G:\\Stardist_results\\EH3574_Oct4_lb.tif\"\n",
    "short_namel = os.path.splitext(lbl)\n",
    "\n",
    "storelb = AICSImage(lbl, reader=BioformatsReader)\n",
    "labels = storelb.dask_data\n",
    "storelb.xarray_dask_data\n",
    "        \n",
    "v.add_labels(labels, name='label '+str(short_namel[0]))\n",
    "        \n",
    "print(lbl+' is in Napari')\n",
    "print(labels.shape, labels.size, labels.dtype)"
   ]
  },
  {
   "cell_type": "markdown",
   "id": "268ff289-17a6-46a3-a099-0e17111c6ecd",
   "metadata": {},
   "source": [
    "## Load with dask-image"
   ]
  },
  {
   "cell_type": "code",
   "execution_count": null,
   "id": "d0235f92-4032-417f-9825-96d88bff4309",
   "metadata": {},
   "outputs": [],
   "source": [
    "import napari\n",
    "from dask_image.imread import imread"
   ]
  },
  {
   "cell_type": "code",
   "execution_count": null,
   "id": "9a88c8ab-4da2-49f9-8d93-751821405573",
   "metadata": {},
   "outputs": [],
   "source": [
    "v = napari.Viewer()\n",
    "img = imread(r\"G:\\Stardist_results\\EH3574_Oct4.tif\")\n",
    "v.add_image(img, contrast_limits=[0,10000], multiscale=False)\n",
    "print(img+' is in Napari')\n",
    "print(image.shape, image.size, image.dtype)"
   ]
  },
  {
   "cell_type": "code",
   "execution_count": null,
   "id": "bc5fd620-40f2-406f-aa58-2cdd72631666",
   "metadata": {},
   "outputs": [],
   "source": [
    "lbl = imread(r\"G:\\Stardist_results\\EH3574_Oct4_lb.tif\")\n",
    "v.add_labels(lbl, multiscale=False)\n",
    "print(lbl+' is in Napari')\n",
    "print(labels.shape, labels.size, labels.dtype)"
   ]
  },
  {
   "cell_type": "markdown",
   "id": "7834c728-ca60-4bd5-905c-8900baadf89a",
   "metadata": {
    "tags": []
   },
   "source": [
    "## Convert to ngff and load in Napari"
   ]
  },
  {
   "cell_type": "code",
   "execution_count": 1,
   "id": "6f6b1081-7ac9-469f-ba74-4550372a2f49",
   "metadata": {
    "tags": []
   },
   "outputs": [],
   "source": [
    "import napari\n",
    "import os\n",
    "import zarr\n",
    "import tifffile as tf\n",
    "from ome_zarr.writer import write_image as writeimg\n",
    "from ome_zarr.writer import write_labels as writelbl\n",
    "from ome_zarr.io import parse_url"
   ]
  },
  {
   "cell_type": "code",
   "execution_count": null,
   "id": "a4857e75-3d0b-4c3d-ad24-f78071ac7094",
   "metadata": {
    "tags": []
   },
   "outputs": [],
   "source": [
    "path = r\"G:\\Stardist_results\\test_ngff_image\"\n",
    "\n",
    "img = tf.imread(r'G:\\Stardist_results\\EH3574_Oct4.tif')\n",
    "store = parse_url(path, mode=\"w\").store\n",
    "root = zarr.group(store=store)\n",
    "\n",
    "writeimg(image=img, group=root, axes=\"zyx\", storage_options=dict(chunks=(1, 7177, 4117)))\n",
    "\n",
    "#print(img+' is in Napari')\n",
    "print(img.shape, img.size, img.dtype)\n",
    "#"
   ]
  },
  {
   "cell_type": "code",
   "execution_count": 2,
   "id": "33040997-8db6-4e73-8978-8ff7b70e91d0",
   "metadata": {},
   "outputs": [
    {
     "name": "stdout",
     "output_type": "stream",
     "text": [
      "(1053, 7177, 4117) 31113737577 int32\n"
     ]
    }
   ],
   "source": [
    "path2 = r\"G:\\Stardist_results\\test_ngff_labels\"\n",
    "\n",
    "lbl = tf.imread(r'G:\\Stardist_results\\EH3574_Oct4_lb.tif')\n",
    "store = parse_url(path2, mode=\"w\").store\n",
    "root = zarr.group(store=store)\n",
    "\n",
    "writeimg(image=lbl, group=root, axes=\"zyx\", storage_options=dict(chunks=(1, 7177, 4117)))\n",
    "\n",
    "#print(img+' is in Napari')\n",
    "print(lbl.shape, lbl.size, lbl.dtype)"
   ]
  },
  {
   "cell_type": "code",
   "execution_count": null,
   "id": "df575979-d597-460d-b0b6-e2ac47b45fbd",
   "metadata": {},
   "outputs": [],
   "source": [
    "def convert_label_data(in_path, group, resolution, units, label_name, colors=None):\n",
    "    # load the input data from ome.tif\n",
    "    vol = tf.imread(r'G:\\Stardist_results\\EH3574_Oct4_lb.tif')\n",
    "    if vol.ndim != 3:\n",
    "        print(\"Labels have unexpected shape\", vol.shape, \"for\", in_path, label_name)\n",
    "        print(\"Adding these labels will be skipped\")\n",
    "        return\n",
    "\n",
    "    # create scale pyramid\n",
    "    scaler = ome_zarr.scale.Scaler()\n",
    "    mip = scaler.nearest(vol)\n",
    "\n",
    "    # specify the axis and transformation metadata\n",
    "    axis_names = tuple(\"zyx\")\n",
    "    axes, trafos = get_axes_and_trafos(mip, axis_names, units, resolution)\n",
    "\n",
    "    # provide additional storage options for zarr\n",
    "    storage_opts = get_storage_opts(axis_names)\n",
    "\n",
    "    ome_zarr.writer.write_multiscale_labels(\n",
    "        mip, group, label_name,\n",
    "        axes=axes, coordinate_transformations=trafos,\n",
    "        storage_options=storage_opts, colors=colors\n",
    "    )"
   ]
  },
  {
   "cell_type": "code",
   "execution_count": null,
   "id": "b1a663ad-2ed9-4f09-bb9b-9038b1ba030a",
   "metadata": {},
   "outputs": [],
   "source": [
    "lbl = tf.imread(r'G:\\Stardist_results\\EH3574_Oct4_lb.tif')\n",
    "scaler = ome_zarr.scale.Scaler()\n",
    "mip = scaler.nearest(lbl)"
   ]
  }
 ],
 "metadata": {
  "kernelspec": {
   "display_name": "Python 3 (ipykernel)",
   "language": "python",
   "name": "python3"
  },
  "language_info": {
   "codemirror_mode": {
    "name": "ipython",
    "version": 3
   },
   "file_extension": ".py",
   "mimetype": "text/x-python",
   "name": "python",
   "nbconvert_exporter": "python",
   "pygments_lexer": "ipython3",
   "version": "3.9.12"
  }
 },
 "nbformat": 4,
 "nbformat_minor": 5
}
