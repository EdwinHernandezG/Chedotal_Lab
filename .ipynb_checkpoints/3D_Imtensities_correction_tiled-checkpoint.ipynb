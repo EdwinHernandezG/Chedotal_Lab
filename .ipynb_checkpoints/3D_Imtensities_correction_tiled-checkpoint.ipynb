{
 "cells": [
  {
   "cell_type": "markdown",
   "id": "7d177b55-591a-49ef-8e65-dd1ca7a8cd2e",
   "metadata": {},
   "source": [
    "# Correct intensities in a 3D dataset, tiled with DASK"
   ]
  },
  {
   "cell_type": "markdown",
   "id": "0f6cdcbd-7a22-4fe1-b4f2-f52565520b2e",
   "metadata": {},
   "source": [
    "## Dataset preparation"
   ]
  },
  {
   "cell_type": "markdown",
   "id": "2f303be5-465f-4e52-a0db-a994429fa1d3",
   "metadata": {},
   "source": [
    "### Import dependencies"
   ]
  },
  {
   "cell_type": "code",
   "execution_count": 1,
   "id": "bf2f028e-50e7-4770-ae0d-a24e492b3e24",
   "metadata": {},
   "outputs": [],
   "source": [
    "import dask.array as da\n",
    "from skimage import exposure, io\n",
    "from dask.distributed import Client\n",
    "import numpy as np"
   ]
  },
  {
   "cell_type": "markdown",
   "id": "01cd6bb8-3d60-4160-a92a-d2f42a81cb4d",
   "metadata": {},
   "source": [
    "### Activate DASK client"
   ]
  },
  {
   "cell_type": "code",
   "execution_count": 2,
   "id": "b554e166-1922-4ee8-91c5-f0be0f415f78",
   "metadata": {},
   "outputs": [
    {
     "data": {
      "text/html": [
       "<div>\n",
       "    <div style=\"width: 24px; height: 24px; background-color: #e1e1e1; border: 3px solid #9D9D9D; border-radius: 5px; position: absolute;\"> </div>\n",
       "    <div style=\"margin-left: 48px;\">\n",
       "        <h3 style=\"margin-bottom: 0px;\">Client</h3>\n",
       "        <p style=\"color: #9D9D9D; margin-bottom: 0px;\">Client-4f62ddd9-805c-11ed-affc-2c4d544bb80b</p>\n",
       "        <table style=\"width: 100%; text-align: left;\">\n",
       "\n",
       "        <tr>\n",
       "        \n",
       "            <td style=\"text-align: left;\"><strong>Connection method:</strong> Cluster object</td>\n",
       "            <td style=\"text-align: left;\"><strong>Cluster type:</strong> distributed.LocalCluster</td>\n",
       "        \n",
       "        </tr>\n",
       "\n",
       "        \n",
       "            <tr>\n",
       "                <td style=\"text-align: left;\">\n",
       "                    <strong>Dashboard: </strong> <a href=\"http://127.0.0.1:8787/status\" target=\"_blank\">http://127.0.0.1:8787/status</a>\n",
       "                </td>\n",
       "                <td style=\"text-align: left;\"></td>\n",
       "            </tr>\n",
       "        \n",
       "\n",
       "        </table>\n",
       "\n",
       "        \n",
       "\n",
       "        \n",
       "            <details>\n",
       "            <summary style=\"margin-bottom: 20px;\"><h3 style=\"display: inline;\">Cluster Info</h3></summary>\n",
       "            <div class=\"jp-RenderedHTMLCommon jp-RenderedHTML jp-mod-trusted jp-OutputArea-output\">\n",
       "    <div style=\"width: 24px; height: 24px; background-color: #e1e1e1; border: 3px solid #9D9D9D; border-radius: 5px; position: absolute;\">\n",
       "    </div>\n",
       "    <div style=\"margin-left: 48px;\">\n",
       "        <h3 style=\"margin-bottom: 0px; margin-top: 0px;\">LocalCluster</h3>\n",
       "        <p style=\"color: #9D9D9D; margin-bottom: 0px;\">78faabb0</p>\n",
       "        <table style=\"width: 100%; text-align: left;\">\n",
       "            <tr>\n",
       "                <td style=\"text-align: left;\">\n",
       "                    <strong>Dashboard:</strong> <a href=\"http://127.0.0.1:8787/status\" target=\"_blank\">http://127.0.0.1:8787/status</a>\n",
       "                </td>\n",
       "                <td style=\"text-align: left;\">\n",
       "                    <strong>Workers:</strong> 4\n",
       "                </td>\n",
       "            </tr>\n",
       "            <tr>\n",
       "                <td style=\"text-align: left;\">\n",
       "                    <strong>Total threads:</strong> 8\n",
       "                </td>\n",
       "                <td style=\"text-align: left;\">\n",
       "                    <strong>Total memory:</strong> 31.93 GiB\n",
       "                </td>\n",
       "            </tr>\n",
       "            \n",
       "            <tr>\n",
       "    <td style=\"text-align: left;\"><strong>Status:</strong> running</td>\n",
       "    <td style=\"text-align: left;\"><strong>Using processes:</strong> True</td>\n",
       "</tr>\n",
       "\n",
       "            \n",
       "        </table>\n",
       "\n",
       "        <details>\n",
       "            <summary style=\"margin-bottom: 20px;\">\n",
       "                <h3 style=\"display: inline;\">Scheduler Info</h3>\n",
       "            </summary>\n",
       "\n",
       "            <div style=\"\">\n",
       "    <div>\n",
       "        <div style=\"width: 24px; height: 24px; background-color: #FFF7E5; border: 3px solid #FF6132; border-radius: 5px; position: absolute;\"> </div>\n",
       "        <div style=\"margin-left: 48px;\">\n",
       "            <h3 style=\"margin-bottom: 0px;\">Scheduler</h3>\n",
       "            <p style=\"color: #9D9D9D; margin-bottom: 0px;\">Scheduler-708706a9-d1fa-49c8-9b1d-e1794496609e</p>\n",
       "            <table style=\"width: 100%; text-align: left;\">\n",
       "                <tr>\n",
       "                    <td style=\"text-align: left;\">\n",
       "                        <strong>Comm:</strong> tcp://127.0.0.1:55208\n",
       "                    </td>\n",
       "                    <td style=\"text-align: left;\">\n",
       "                        <strong>Workers:</strong> 4\n",
       "                    </td>\n",
       "                </tr>\n",
       "                <tr>\n",
       "                    <td style=\"text-align: left;\">\n",
       "                        <strong>Dashboard:</strong> <a href=\"http://127.0.0.1:8787/status\" target=\"_blank\">http://127.0.0.1:8787/status</a>\n",
       "                    </td>\n",
       "                    <td style=\"text-align: left;\">\n",
       "                        <strong>Total threads:</strong> 8\n",
       "                    </td>\n",
       "                </tr>\n",
       "                <tr>\n",
       "                    <td style=\"text-align: left;\">\n",
       "                        <strong>Started:</strong> Just now\n",
       "                    </td>\n",
       "                    <td style=\"text-align: left;\">\n",
       "                        <strong>Total memory:</strong> 31.93 GiB\n",
       "                    </td>\n",
       "                </tr>\n",
       "            </table>\n",
       "        </div>\n",
       "    </div>\n",
       "\n",
       "    <details style=\"margin-left: 48px;\">\n",
       "        <summary style=\"margin-bottom: 20px;\">\n",
       "            <h3 style=\"display: inline;\">Workers</h3>\n",
       "        </summary>\n",
       "\n",
       "        \n",
       "        <div style=\"margin-bottom: 20px;\">\n",
       "            <div style=\"width: 24px; height: 24px; background-color: #DBF5FF; border: 3px solid #4CC9FF; border-radius: 5px; position: absolute;\"> </div>\n",
       "            <div style=\"margin-left: 48px;\">\n",
       "            <details>\n",
       "                <summary>\n",
       "                    <h4 style=\"margin-bottom: 0px; display: inline;\">Worker: 0</h4>\n",
       "                </summary>\n",
       "                <table style=\"width: 100%; text-align: left;\">\n",
       "                    <tr>\n",
       "                        <td style=\"text-align: left;\">\n",
       "                            <strong>Comm: </strong> tcp://127.0.0.1:55227\n",
       "                        </td>\n",
       "                        <td style=\"text-align: left;\">\n",
       "                            <strong>Total threads: </strong> 2\n",
       "                        </td>\n",
       "                    </tr>\n",
       "                    <tr>\n",
       "                        <td style=\"text-align: left;\">\n",
       "                            <strong>Dashboard: </strong> <a href=\"http://127.0.0.1:55228/status\" target=\"_blank\">http://127.0.0.1:55228/status</a>\n",
       "                        </td>\n",
       "                        <td style=\"text-align: left;\">\n",
       "                            <strong>Memory: </strong> 7.98 GiB\n",
       "                        </td>\n",
       "                    </tr>\n",
       "                    <tr>\n",
       "                        <td style=\"text-align: left;\">\n",
       "                            <strong>Nanny: </strong> tcp://127.0.0.1:55214\n",
       "                        </td>\n",
       "                        <td style=\"text-align: left;\"></td>\n",
       "                    </tr>\n",
       "                    <tr>\n",
       "                        <td colspan=\"2\" style=\"text-align: left;\">\n",
       "                            <strong>Local directory: </strong> C:\\Users\\Usuario\\AppData\\Local\\Temp\\dask-worker-space\\worker-lqp9g9si\n",
       "                        </td>\n",
       "                    </tr>\n",
       "\n",
       "                    \n",
       "\n",
       "                    \n",
       "\n",
       "                </table>\n",
       "            </details>\n",
       "            </div>\n",
       "        </div>\n",
       "        \n",
       "        <div style=\"margin-bottom: 20px;\">\n",
       "            <div style=\"width: 24px; height: 24px; background-color: #DBF5FF; border: 3px solid #4CC9FF; border-radius: 5px; position: absolute;\"> </div>\n",
       "            <div style=\"margin-left: 48px;\">\n",
       "            <details>\n",
       "                <summary>\n",
       "                    <h4 style=\"margin-bottom: 0px; display: inline;\">Worker: 1</h4>\n",
       "                </summary>\n",
       "                <table style=\"width: 100%; text-align: left;\">\n",
       "                    <tr>\n",
       "                        <td style=\"text-align: left;\">\n",
       "                            <strong>Comm: </strong> tcp://127.0.0.1:55230\n",
       "                        </td>\n",
       "                        <td style=\"text-align: left;\">\n",
       "                            <strong>Total threads: </strong> 2\n",
       "                        </td>\n",
       "                    </tr>\n",
       "                    <tr>\n",
       "                        <td style=\"text-align: left;\">\n",
       "                            <strong>Dashboard: </strong> <a href=\"http://127.0.0.1:55232/status\" target=\"_blank\">http://127.0.0.1:55232/status</a>\n",
       "                        </td>\n",
       "                        <td style=\"text-align: left;\">\n",
       "                            <strong>Memory: </strong> 7.98 GiB\n",
       "                        </td>\n",
       "                    </tr>\n",
       "                    <tr>\n",
       "                        <td style=\"text-align: left;\">\n",
       "                            <strong>Nanny: </strong> tcp://127.0.0.1:55212\n",
       "                        </td>\n",
       "                        <td style=\"text-align: left;\"></td>\n",
       "                    </tr>\n",
       "                    <tr>\n",
       "                        <td colspan=\"2\" style=\"text-align: left;\">\n",
       "                            <strong>Local directory: </strong> C:\\Users\\Usuario\\AppData\\Local\\Temp\\dask-worker-space\\worker-ts453k_p\n",
       "                        </td>\n",
       "                    </tr>\n",
       "\n",
       "                    \n",
       "\n",
       "                    \n",
       "\n",
       "                </table>\n",
       "            </details>\n",
       "            </div>\n",
       "        </div>\n",
       "        \n",
       "        <div style=\"margin-bottom: 20px;\">\n",
       "            <div style=\"width: 24px; height: 24px; background-color: #DBF5FF; border: 3px solid #4CC9FF; border-radius: 5px; position: absolute;\"> </div>\n",
       "            <div style=\"margin-left: 48px;\">\n",
       "            <details>\n",
       "                <summary>\n",
       "                    <h4 style=\"margin-bottom: 0px; display: inline;\">Worker: 2</h4>\n",
       "                </summary>\n",
       "                <table style=\"width: 100%; text-align: left;\">\n",
       "                    <tr>\n",
       "                        <td style=\"text-align: left;\">\n",
       "                            <strong>Comm: </strong> tcp://127.0.0.1:55236\n",
       "                        </td>\n",
       "                        <td style=\"text-align: left;\">\n",
       "                            <strong>Total threads: </strong> 2\n",
       "                        </td>\n",
       "                    </tr>\n",
       "                    <tr>\n",
       "                        <td style=\"text-align: left;\">\n",
       "                            <strong>Dashboard: </strong> <a href=\"http://127.0.0.1:55237/status\" target=\"_blank\">http://127.0.0.1:55237/status</a>\n",
       "                        </td>\n",
       "                        <td style=\"text-align: left;\">\n",
       "                            <strong>Memory: </strong> 7.98 GiB\n",
       "                        </td>\n",
       "                    </tr>\n",
       "                    <tr>\n",
       "                        <td style=\"text-align: left;\">\n",
       "                            <strong>Nanny: </strong> tcp://127.0.0.1:55213\n",
       "                        </td>\n",
       "                        <td style=\"text-align: left;\"></td>\n",
       "                    </tr>\n",
       "                    <tr>\n",
       "                        <td colspan=\"2\" style=\"text-align: left;\">\n",
       "                            <strong>Local directory: </strong> C:\\Users\\Usuario\\AppData\\Local\\Temp\\dask-worker-space\\worker-56yb902f\n",
       "                        </td>\n",
       "                    </tr>\n",
       "\n",
       "                    \n",
       "\n",
       "                    \n",
       "\n",
       "                </table>\n",
       "            </details>\n",
       "            </div>\n",
       "        </div>\n",
       "        \n",
       "        <div style=\"margin-bottom: 20px;\">\n",
       "            <div style=\"width: 24px; height: 24px; background-color: #DBF5FF; border: 3px solid #4CC9FF; border-radius: 5px; position: absolute;\"> </div>\n",
       "            <div style=\"margin-left: 48px;\">\n",
       "            <details>\n",
       "                <summary>\n",
       "                    <h4 style=\"margin-bottom: 0px; display: inline;\">Worker: 3</h4>\n",
       "                </summary>\n",
       "                <table style=\"width: 100%; text-align: left;\">\n",
       "                    <tr>\n",
       "                        <td style=\"text-align: left;\">\n",
       "                            <strong>Comm: </strong> tcp://127.0.0.1:55231\n",
       "                        </td>\n",
       "                        <td style=\"text-align: left;\">\n",
       "                            <strong>Total threads: </strong> 2\n",
       "                        </td>\n",
       "                    </tr>\n",
       "                    <tr>\n",
       "                        <td style=\"text-align: left;\">\n",
       "                            <strong>Dashboard: </strong> <a href=\"http://127.0.0.1:55234/status\" target=\"_blank\">http://127.0.0.1:55234/status</a>\n",
       "                        </td>\n",
       "                        <td style=\"text-align: left;\">\n",
       "                            <strong>Memory: </strong> 7.98 GiB\n",
       "                        </td>\n",
       "                    </tr>\n",
       "                    <tr>\n",
       "                        <td style=\"text-align: left;\">\n",
       "                            <strong>Nanny: </strong> tcp://127.0.0.1:55211\n",
       "                        </td>\n",
       "                        <td style=\"text-align: left;\"></td>\n",
       "                    </tr>\n",
       "                    <tr>\n",
       "                        <td colspan=\"2\" style=\"text-align: left;\">\n",
       "                            <strong>Local directory: </strong> C:\\Users\\Usuario\\AppData\\Local\\Temp\\dask-worker-space\\worker-w5aw5hd4\n",
       "                        </td>\n",
       "                    </tr>\n",
       "\n",
       "                    \n",
       "\n",
       "                    \n",
       "\n",
       "                </table>\n",
       "            </details>\n",
       "            </div>\n",
       "        </div>\n",
       "        \n",
       "\n",
       "    </details>\n",
       "</div>\n",
       "\n",
       "        </details>\n",
       "    </div>\n",
       "</div>\n",
       "            </details>\n",
       "        \n",
       "\n",
       "    </div>\n",
       "</div>"
      ],
      "text/plain": [
       "<Client: 'tcp://127.0.0.1:55208' processes=4 threads=8, memory=31.93 GiB>"
      ]
     },
     "execution_count": 2,
     "metadata": {},
     "output_type": "execute_result"
    }
   ],
   "source": [
    "client = Client()\n",
    "client"
   ]
  },
  {
   "cell_type": "markdown",
   "id": "679d018e-0848-49cd-8754-2b0efb507ac1",
   "metadata": {},
   "source": [
    "### Load the image and convert to a DASK array"
   ]
  },
  {
   "cell_type": "code",
   "execution_count": 3,
   "id": "0f3d6d3c-5ab6-4e64-a5dc-294b4f5256a4",
   "metadata": {},
   "outputs": [],
   "source": [
    "# Load the image using Dask\n",
    "img = da.from_array(io.imread(r\"E:\\Users\\Usuario\\Desktop\\221209\\First batch\\TH_WT\\11-50-10_TH_WT_Blaze2.tif\"))"
   ]
  },
  {
   "cell_type": "code",
   "execution_count": 4,
   "id": "e72c1be3-9e10-4e89-86a9-103af1ce85cb",
   "metadata": {},
   "outputs": [
    {
     "data": {
      "text/html": [
       "<table>\n",
       "    <tr>\n",
       "        <td>\n",
       "            <table style=\"border-collapse: collapse;\">\n",
       "                <thead>\n",
       "                    <tr>\n",
       "                        <td> </td>\n",
       "                        <th> Array </th>\n",
       "                        <th> Chunk </th>\n",
       "                    </tr>\n",
       "                </thead>\n",
       "                <tbody>\n",
       "                    \n",
       "                    <tr>\n",
       "                        <th> Bytes </th>\n",
       "                        <td> 2.18 GiB </td>\n",
       "                        <td> 127.65 MiB </td>\n",
       "                    </tr>\n",
       "                    \n",
       "                    <tr>\n",
       "                        <th> Shape </th>\n",
       "                        <td> (865, 1384, 977) </td>\n",
       "                        <td> (406, 406, 406) </td>\n",
       "                    </tr>\n",
       "                    <tr>\n",
       "                        <th> Dask graph </th>\n",
       "                        <td colspan=\"2\"> 36 chunks in 1 graph layer </td>\n",
       "                    </tr>\n",
       "                    <tr>\n",
       "                        <th> Data type </th>\n",
       "                        <td colspan=\"2\"> uint16 numpy.ndarray </td>\n",
       "                    </tr>\n",
       "                </tbody>\n",
       "            </table>\n",
       "        </td>\n",
       "        <td>\n",
       "        <svg width=\"188\" height=\"214\" style=\"stroke:rgb(0,0,0);stroke-width:1\" >\n",
       "\n",
       "  <!-- Horizontal lines -->\n",
       "  <line x1=\"10\" y1=\"0\" x2=\"54\" y2=\"44\" style=\"stroke-width:2\" />\n",
       "  <line x1=\"10\" y1=\"35\" x2=\"54\" y2=\"79\" />\n",
       "  <line x1=\"10\" y1=\"70\" x2=\"54\" y2=\"114\" />\n",
       "  <line x1=\"10\" y1=\"105\" x2=\"54\" y2=\"149\" />\n",
       "  <line x1=\"10\" y1=\"120\" x2=\"54\" y2=\"164\" style=\"stroke-width:2\" />\n",
       "\n",
       "  <!-- Vertical lines -->\n",
       "  <line x1=\"10\" y1=\"0\" x2=\"10\" y2=\"120\" style=\"stroke-width:2\" />\n",
       "  <line x1=\"30\" y1=\"20\" x2=\"30\" y2=\"140\" />\n",
       "  <line x1=\"51\" y1=\"41\" x2=\"51\" y2=\"161\" />\n",
       "  <line x1=\"54\" y1=\"44\" x2=\"54\" y2=\"164\" style=\"stroke-width:2\" />\n",
       "\n",
       "  <!-- Colored Rectangle -->\n",
       "  <polygon points=\"10.0,0.0 54.11764705882353,44.11764705882353 54.11764705882353,164.11764705882354 10.0,120.0\" style=\"fill:#ECB172A0;stroke-width:0\"/>\n",
       "\n",
       "  <!-- Horizontal lines -->\n",
       "  <line x1=\"10\" y1=\"0\" x2=\"94\" y2=\"0\" style=\"stroke-width:2\" />\n",
       "  <line x1=\"30\" y1=\"20\" x2=\"115\" y2=\"20\" />\n",
       "  <line x1=\"51\" y1=\"41\" x2=\"136\" y2=\"41\" />\n",
       "  <line x1=\"54\" y1=\"44\" x2=\"138\" y2=\"44\" style=\"stroke-width:2\" />\n",
       "\n",
       "  <!-- Vertical lines -->\n",
       "  <line x1=\"10\" y1=\"0\" x2=\"54\" y2=\"44\" style=\"stroke-width:2\" />\n",
       "  <line x1=\"45\" y1=\"0\" x2=\"89\" y2=\"44\" />\n",
       "  <line x1=\"80\" y1=\"0\" x2=\"124\" y2=\"44\" />\n",
       "  <line x1=\"94\" y1=\"0\" x2=\"138\" y2=\"44\" style=\"stroke-width:2\" />\n",
       "\n",
       "  <!-- Colored Rectangle -->\n",
       "  <polygon points=\"10.0,0.0 94.71098265895954,0.0 138.82862971778306,44.11764705882353 54.11764705882353,44.11764705882353\" style=\"fill:#ECB172A0;stroke-width:0\"/>\n",
       "\n",
       "  <!-- Horizontal lines -->\n",
       "  <line x1=\"54\" y1=\"44\" x2=\"138\" y2=\"44\" style=\"stroke-width:2\" />\n",
       "  <line x1=\"54\" y1=\"79\" x2=\"138\" y2=\"79\" />\n",
       "  <line x1=\"54\" y1=\"114\" x2=\"138\" y2=\"114\" />\n",
       "  <line x1=\"54\" y1=\"149\" x2=\"138\" y2=\"149\" />\n",
       "  <line x1=\"54\" y1=\"164\" x2=\"138\" y2=\"164\" style=\"stroke-width:2\" />\n",
       "\n",
       "  <!-- Vertical lines -->\n",
       "  <line x1=\"54\" y1=\"44\" x2=\"54\" y2=\"164\" style=\"stroke-width:2\" />\n",
       "  <line x1=\"89\" y1=\"44\" x2=\"89\" y2=\"164\" />\n",
       "  <line x1=\"124\" y1=\"44\" x2=\"124\" y2=\"164\" />\n",
       "  <line x1=\"138\" y1=\"44\" x2=\"138\" y2=\"164\" style=\"stroke-width:2\" />\n",
       "\n",
       "  <!-- Colored Rectangle -->\n",
       "  <polygon points=\"54.11764705882353,44.11764705882353 138.82862971778306,44.11764705882353 138.82862971778306,164.11764705882354 54.11764705882353,164.11764705882354\" style=\"fill:#ECB172A0;stroke-width:0\"/>\n",
       "\n",
       "  <!-- Text -->\n",
       "  <text x=\"96.473138\" y=\"184.117647\" font-size=\"1.0rem\" font-weight=\"100\" text-anchor=\"middle\" >977</text>\n",
       "  <text x=\"158.828630\" y=\"104.117647\" font-size=\"1.0rem\" font-weight=\"100\" text-anchor=\"middle\" transform=\"rotate(-90,158.828630,104.117647)\">1384</text>\n",
       "  <text x=\"22.058824\" y=\"162.058824\" font-size=\"1.0rem\" font-weight=\"100\" text-anchor=\"middle\" transform=\"rotate(45,22.058824,162.058824)\">865</text>\n",
       "</svg>\n",
       "        </td>\n",
       "    </tr>\n",
       "</table>"
      ],
      "text/plain": [
       "dask.array<array, shape=(865, 1384, 977), dtype=uint16, chunksize=(406, 406, 406), chunktype=numpy.ndarray>"
      ]
     },
     "execution_count": 4,
     "metadata": {},
     "output_type": "execute_result"
    }
   ],
   "source": [
    "img"
   ]
  },
  {
   "cell_type": "markdown",
   "id": "2dca3da6-0853-47bb-900d-70e9655d630d",
   "metadata": {},
   "source": [
    " ### Rechunck to a desired chunk size"
   ]
  },
  {
   "cell_type": "code",
   "execution_count": 5,
   "id": "d75b584c-2545-47f6-be54-79ff15aec176",
   "metadata": {},
   "outputs": [
    {
     "name": "stdout",
     "output_type": "stream",
     "text": [
      "[216 346 244]\n"
     ]
    }
   ],
   "source": [
    "# Chunking factor\n",
    "\n",
    "factor = np.array([10,10,10])\t# even numbers\n",
    "\n",
    "desired_chunksize = np.array(img.shape)//factor\n",
    "\n",
    "print(desired_chunksize)"
   ]
  },
  {
   "cell_type": "code",
   "execution_count": 6,
   "id": "732b82d8-cee5-4fbd-8000-bb39b30265b2",
   "metadata": {},
   "outputs": [],
   "source": [
    "img_chk = img.rechunk(desired_chunksize)"
   ]
  },
  {
   "cell_type": "code",
   "execution_count": 7,
   "id": "cba5c496-e7c8-4e97-bec6-7efc9de2c83e",
   "metadata": {},
   "outputs": [
    {
     "data": {
      "text/html": [
       "<table>\n",
       "    <tr>\n",
       "        <td>\n",
       "            <table style=\"border-collapse: collapse;\">\n",
       "                <thead>\n",
       "                    <tr>\n",
       "                        <td> </td>\n",
       "                        <th> Array </th>\n",
       "                        <th> Chunk </th>\n",
       "                    </tr>\n",
       "                </thead>\n",
       "                <tbody>\n",
       "                    \n",
       "                    <tr>\n",
       "                        <th> Bytes </th>\n",
       "                        <td> 2.18 GiB </td>\n",
       "                        <td> 34.78 MiB </td>\n",
       "                    </tr>\n",
       "                    \n",
       "                    <tr>\n",
       "                        <th> Shape </th>\n",
       "                        <td> (865, 1384, 977) </td>\n",
       "                        <td> (216, 346, 244) </td>\n",
       "                    </tr>\n",
       "                    <tr>\n",
       "                        <th> Dask graph </th>\n",
       "                        <td colspan=\"2\"> 100 chunks in 2 graph layers </td>\n",
       "                    </tr>\n",
       "                    <tr>\n",
       "                        <th> Data type </th>\n",
       "                        <td colspan=\"2\"> uint16 numpy.ndarray </td>\n",
       "                    </tr>\n",
       "                </tbody>\n",
       "            </table>\n",
       "        </td>\n",
       "        <td>\n",
       "        <svg width=\"188\" height=\"214\" style=\"stroke:rgb(0,0,0);stroke-width:1\" >\n",
       "\n",
       "  <!-- Horizontal lines -->\n",
       "  <line x1=\"10\" y1=\"0\" x2=\"54\" y2=\"44\" style=\"stroke-width:2\" />\n",
       "  <line x1=\"10\" y1=\"30\" x2=\"54\" y2=\"74\" />\n",
       "  <line x1=\"10\" y1=\"60\" x2=\"54\" y2=\"104\" />\n",
       "  <line x1=\"10\" y1=\"90\" x2=\"54\" y2=\"134\" />\n",
       "  <line x1=\"10\" y1=\"120\" x2=\"54\" y2=\"164\" style=\"stroke-width:2\" />\n",
       "\n",
       "  <!-- Vertical lines -->\n",
       "  <line x1=\"10\" y1=\"0\" x2=\"10\" y2=\"120\" style=\"stroke-width:2\" />\n",
       "  <line x1=\"21\" y1=\"11\" x2=\"21\" y2=\"131\" />\n",
       "  <line x1=\"32\" y1=\"22\" x2=\"32\" y2=\"142\" />\n",
       "  <line x1=\"43\" y1=\"33\" x2=\"43\" y2=\"153\" />\n",
       "  <line x1=\"54\" y1=\"44\" x2=\"54\" y2=\"164\" />\n",
       "  <line x1=\"54\" y1=\"44\" x2=\"54\" y2=\"164\" style=\"stroke-width:2\" />\n",
       "\n",
       "  <!-- Colored Rectangle -->\n",
       "  <polygon points=\"10.0,0.0 54.11764705882353,44.11764705882353 54.11764705882353,164.11764705882354 10.0,120.0\" style=\"fill:#ECB172A0;stroke-width:0\"/>\n",
       "\n",
       "  <!-- Horizontal lines -->\n",
       "  <line x1=\"10\" y1=\"0\" x2=\"94\" y2=\"0\" style=\"stroke-width:2\" />\n",
       "  <line x1=\"21\" y1=\"11\" x2=\"105\" y2=\"11\" />\n",
       "  <line x1=\"32\" y1=\"22\" x2=\"116\" y2=\"22\" />\n",
       "  <line x1=\"43\" y1=\"33\" x2=\"127\" y2=\"33\" />\n",
       "  <line x1=\"54\" y1=\"44\" x2=\"138\" y2=\"44\" />\n",
       "  <line x1=\"54\" y1=\"44\" x2=\"138\" y2=\"44\" style=\"stroke-width:2\" />\n",
       "\n",
       "  <!-- Vertical lines -->\n",
       "  <line x1=\"10\" y1=\"0\" x2=\"54\" y2=\"44\" style=\"stroke-width:2\" />\n",
       "  <line x1=\"31\" y1=\"0\" x2=\"75\" y2=\"44\" />\n",
       "  <line x1=\"52\" y1=\"0\" x2=\"96\" y2=\"44\" />\n",
       "  <line x1=\"73\" y1=\"0\" x2=\"117\" y2=\"44\" />\n",
       "  <line x1=\"94\" y1=\"0\" x2=\"138\" y2=\"44\" />\n",
       "  <line x1=\"94\" y1=\"0\" x2=\"138\" y2=\"44\" style=\"stroke-width:2\" />\n",
       "\n",
       "  <!-- Colored Rectangle -->\n",
       "  <polygon points=\"10.0,0.0 94.71098265895954,0.0 138.82862971778306,44.11764705882353 54.11764705882353,44.11764705882353\" style=\"fill:#ECB172A0;stroke-width:0\"/>\n",
       "\n",
       "  <!-- Horizontal lines -->\n",
       "  <line x1=\"54\" y1=\"44\" x2=\"138\" y2=\"44\" style=\"stroke-width:2\" />\n",
       "  <line x1=\"54\" y1=\"74\" x2=\"138\" y2=\"74\" />\n",
       "  <line x1=\"54\" y1=\"104\" x2=\"138\" y2=\"104\" />\n",
       "  <line x1=\"54\" y1=\"134\" x2=\"138\" y2=\"134\" />\n",
       "  <line x1=\"54\" y1=\"164\" x2=\"138\" y2=\"164\" style=\"stroke-width:2\" />\n",
       "\n",
       "  <!-- Vertical lines -->\n",
       "  <line x1=\"54\" y1=\"44\" x2=\"54\" y2=\"164\" style=\"stroke-width:2\" />\n",
       "  <line x1=\"75\" y1=\"44\" x2=\"75\" y2=\"164\" />\n",
       "  <line x1=\"96\" y1=\"44\" x2=\"96\" y2=\"164\" />\n",
       "  <line x1=\"117\" y1=\"44\" x2=\"117\" y2=\"164\" />\n",
       "  <line x1=\"138\" y1=\"44\" x2=\"138\" y2=\"164\" />\n",
       "  <line x1=\"138\" y1=\"44\" x2=\"138\" y2=\"164\" style=\"stroke-width:2\" />\n",
       "\n",
       "  <!-- Colored Rectangle -->\n",
       "  <polygon points=\"54.11764705882353,44.11764705882353 138.82862971778306,44.11764705882353 138.82862971778306,164.11764705882354 54.11764705882353,164.11764705882354\" style=\"fill:#ECB172A0;stroke-width:0\"/>\n",
       "\n",
       "  <!-- Text -->\n",
       "  <text x=\"96.473138\" y=\"184.117647\" font-size=\"1.0rem\" font-weight=\"100\" text-anchor=\"middle\" >977</text>\n",
       "  <text x=\"158.828630\" y=\"104.117647\" font-size=\"1.0rem\" font-weight=\"100\" text-anchor=\"middle\" transform=\"rotate(-90,158.828630,104.117647)\">1384</text>\n",
       "  <text x=\"22.058824\" y=\"162.058824\" font-size=\"1.0rem\" font-weight=\"100\" text-anchor=\"middle\" transform=\"rotate(45,22.058824,162.058824)\">865</text>\n",
       "</svg>\n",
       "        </td>\n",
       "    </tr>\n",
       "</table>"
      ],
      "text/plain": [
       "dask.array<rechunk-merge, shape=(865, 1384, 977), dtype=uint16, chunksize=(216, 346, 244), chunktype=numpy.ndarray>"
      ]
     },
     "execution_count": 7,
     "metadata": {},
     "output_type": "execute_result"
    }
   ],
   "source": [
    "img_chk"
   ]
  },
  {
   "cell_type": "markdown",
   "id": "e83e2c1e-cb89-4f67-86c3-485102619ebe",
   "metadata": {},
   "source": [
    "## Set up your processing type (choose one)"
   ]
  },
  {
   "cell_type": "markdown",
   "id": "efec336e-a0ea-4a35-a077-226fb44404fb",
   "metadata": {},
   "source": [
    "### CLAHE"
   ]
  },
  {
   "cell_type": "code",
   "execution_count": null,
   "id": "0d525921-f254-4825-80e1-e3e60947e4b1",
   "metadata": {},
   "outputs": [],
   "source": [
    "def procedure(img_chk):\n",
    "    print(\"proceduring\", img_chk.shape)\n",
    "    return exposure.equalize_adapthist(img_chk, clip_limit = 0.03)"
   ]
  },
  {
   "cell_type": "markdown",
   "id": "7e0b2369-b8f8-48aa-b9cf-7d1369242406",
   "metadata": {},
   "source": [
    "### Histogram equalization"
   ]
  },
  {
   "cell_type": "code",
   "execution_count": 8,
   "id": "67e36ee0-873c-4824-9b92-571250efc112",
   "metadata": {},
   "outputs": [],
   "source": [
    "def procedure(img_chk):\n",
    "    print(\"proceduring\", img_chk.shape)\n",
    "    return exposure.equalize_hist(img_chk)"
   ]
  },
  {
   "cell_type": "markdown",
   "id": "9a943d0c-c598-4679-8a5d-3748042df8c0",
   "metadata": {},
   "source": [
    "### Contrast stretching"
   ]
  },
  {
   "cell_type": "code",
   "execution_count": null,
   "id": "ab9e9179-c33c-46d2-8c92-f7b40847d7bf",
   "metadata": {},
   "outputs": [],
   "source": [
    "def procedure(img_chk):\n",
    "    print(\"proceduring\", img_chk.shape)\n",
    "    p1, p99 = np.percentile(img, (2, 98))\n",
    "    return exposure.rescale_intensity(img_chk, in_range=(p1, p99))"
   ]
  },
  {
   "cell_type": "markdown",
   "id": "720e0606-bc7f-4978-87cc-25bcfd3ca2b1",
   "metadata": {},
   "source": [
    "### Adjust your overlapping"
   ]
  },
  {
   "cell_type": "code",
   "execution_count": 9,
   "id": "85836d42-abff-44fc-9f8f-c26595b011d8",
   "metadata": {},
   "outputs": [
    {
     "name": "stdout",
     "output_type": "stream",
     "text": [
      "proceduring (0, 0, 0)\n",
      "proceduring (1, 1, 1)\n"
     ]
    },
    {
     "name": "stderr",
     "output_type": "stream",
     "text": [
      "C:\\Users\\Usuario\\anaconda3\\envs\\devbio-napari-env\\lib\\site-packages\\skimage\\_shared\\utils.py:394: UserWarning: This might be a color image. The histogram will be computed on the flattened image. You can instead apply this function to each color channel, or set channel_axis.\n",
      "  return func(*args, **kwargs)\n",
      "C:\\Users\\Usuario\\anaconda3\\envs\\devbio-napari-env\\lib\\site-packages\\skimage\\_shared\\utils.py:394: UserWarning: This might be a color image. The histogram will be computed on the flattened image. You can instead apply this function to each color channel, or set channel_axis.\n",
      "  return func(*args, **kwargs)\n"
     ]
    }
   ],
   "source": [
    "overlap_width = [10,10,10]\n",
    "tile_map = da.map_overlap(procedure, img_chk, depth=overlap_width, boundary='nearest')"
   ]
  },
  {
   "cell_type": "markdown",
   "id": "9d8adafd-c676-4d5c-be1c-159aa0379fac",
   "metadata": {},
   "source": [
    "## Process your dataset"
   ]
  },
  {
   "cell_type": "code",
   "execution_count": 10,
   "id": "619b2e88-6558-4f62-b71e-19b767fc05ed",
   "metadata": {},
   "outputs": [
    {
     "name": "stdout",
     "output_type": "stream",
     "text": [
      "float64 (865, 1384, 977) 1169625320\n"
     ]
    }
   ],
   "source": [
    "result = tile_map.compute()\n",
    "print(result.dtype, result.shape, result.size)"
   ]
  },
  {
   "cell_type": "markdown",
   "id": "8c1eb5ce-b5f7-4fe0-b239-ceea9643a733",
   "metadata": {},
   "source": [
    "## Convert back to 16B and save your corrected dataset"
   ]
  },
  {
   "cell_type": "code",
   "execution_count": 11,
   "id": "6e096ae1-02ea-4856-9107-80f5d8858910",
   "metadata": {},
   "outputs": [
    {
     "name": "stdout",
     "output_type": "stream",
     "text": [
      "uint16 (865, 1384, 977) 1169625320\n"
     ]
    }
   ],
   "source": [
    "from skimage.util import img_as_uint\n",
    "img_stack_uint = img_as_uint(result)\n",
    "print(img_stack_uint.dtype, img_stack_uint.shape, img_stack_uint.size)"
   ]
  },
  {
   "cell_type": "code",
   "execution_count": 12,
   "id": "9e187a87-da03-4b8b-a9e2-6b5180295161",
   "metadata": {},
   "outputs": [],
   "source": [
    "io.imsave(r\"E:\\Users\\Usuario\\Desktop\\221209\\First batch\\11-50-10_TH_WT_Blaze2_eq_2.tif\", img_stack_uint)"
   ]
  },
  {
   "cell_type": "code",
   "execution_count": null,
   "id": "4f067953-9f11-4c8b-a743-ef092632a51a",
   "metadata": {},
   "outputs": [],
   "source": []
  }
 ],
 "metadata": {
  "kernelspec": {
   "display_name": "Python 3 (ipykernel)",
   "language": "python",
   "name": "python3"
  },
  "language_info": {
   "codemirror_mode": {
    "name": "ipython",
    "version": 3
   },
   "file_extension": ".py",
   "mimetype": "text/x-python",
   "name": "python",
   "nbconvert_exporter": "python",
   "pygments_lexer": "ipython3",
   "version": "3.9.15"
  }
 },
 "nbformat": 4,
 "nbformat_minor": 5
}
