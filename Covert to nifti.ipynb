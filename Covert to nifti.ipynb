{
 "cells": [
  {
   "cell_type": "code",
   "execution_count": 1,
   "id": "c44086cd-40be-4484-97d0-4376c64289eb",
   "metadata": {},
   "outputs": [],
   "source": [
    "import os\n",
    "from skimage.io import imread\n",
    "import numpy as np\n",
    "import nibabel\n",
    "from time import perf_counter as pf\n"
   ]
  },
  {
   "cell_type": "code",
   "execution_count": null,
   "id": "1bae6268-a4ee-46b3-8fe3-76055071ae25",
   "metadata": {},
   "outputs": [],
   "source": [
    "t = pf() # Track save speed\n",
    "# Load the volume using skimage.io.imread()\n",
    "filename = \"G:\\Sox9_Cords\\Clean_masks\\EH3126\\binary_postprocessed_4s2.tif\"\n",
    "volume = imread(filename).astype(np.uint8)\n",
    "\n",
    "# Save the volume as NIfTI file using nibabel\n",
    "save_path = os.path.splitext(filename)[0] + '.nii'\n",
    "\n",
    "# Transpose the volume so the shape matches the original when saving w/ nibabel\n",
    "image = nibabel.Nifti1Image(volume.transpose(), np.eye(4))\n",
    "nibabel.save(image, save_path)\n",
    "\n",
    "print (f\"Save time: {pf() - t:0.2f} seconds.\")"
   ]
  }
 ],
 "metadata": {
  "kernelspec": {
   "display_name": "Python 3 (ipykernel)",
   "language": "python",
   "name": "python3"
  },
  "language_info": {
   "codemirror_mode": {
    "name": "ipython",
    "version": 3
   },
   "file_extension": ".py",
   "mimetype": "text/x-python",
   "name": "python",
   "nbconvert_exporter": "python",
   "pygments_lexer": "ipython3",
   "version": "3.8.8"
  }
 },
 "nbformat": 4,
 "nbformat_minor": 5
}
