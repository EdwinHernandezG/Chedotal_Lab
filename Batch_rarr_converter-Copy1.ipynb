{
 "cells": [
  {
   "cell_type": "code",
   "execution_count": 1,
   "id": "f86b7bbf-d617-451d-81d8-bbc1a5bedc61",
   "metadata": {},
   "outputs": [],
   "source": [
    "# Call dependencies\n",
    "\n",
    "import os\n",
    "import zarr\n",
    "import tifffile as tf\n",
    "from zipfile import ZIP_DEFLATED"
   ]
  },
  {
   "cell_type": "code",
   "execution_count": 2,
   "id": "2465e627-0280-4a96-8a84-9fed6694b88d",
   "metadata": {},
   "outputs": [],
   "source": [
    "# Folder location\n",
    "\n",
    "Data_folder = 'D:\\EHG\\Gonad\\Raw'"
   ]
  },
  {
   "cell_type": "code",
   "execution_count": null,
   "id": "0d4ae148-2fe7-47c1-ab3f-3f128d68dfd2",
   "metadata": {},
   "outputs": [],
   "source": [
    "# File Indexation and convertion\n",
    "c=1\n",
    "\n",
    "for filename in os.listdir(Data_folder):\n",
    "    if filename.endswith(\".zarr\"):\n",
    "        im = zarr.open(Data_folder+'/'+filename)\n",
    "        name= filename+str(c)+'.tif'\n",
    "        tf.imwrite(Data_folder+'/'+name, im)\n",
    "        c+=1\n",
    "        print(os.path.join(Data_folder, filename)+' converted')\n",
    "        continue\n",
    "    else:\n",
    "        continue"
   ]
  },
  {
   "cell_type": "code",
   "execution_count": null,
   "id": "00e0b222-6a38-4bc2-9a14-20233e22c4d5",
   "metadata": {},
   "outputs": [],
   "source": []
  }
 ],
 "metadata": {
  "kernelspec": {
   "display_name": "Python 3 (ipykernel)",
   "language": "python",
   "name": "python3"
  },
  "language_info": {
   "codemirror_mode": {
    "name": "ipython",
    "version": 3
   },
   "file_extension": ".py",
   "mimetype": "text/x-python",
   "name": "python",
   "nbconvert_exporter": "python",
   "pygments_lexer": "ipython3",
   "version": "3.9.12"
  }
 },
 "nbformat": 4,
 "nbformat_minor": 5
}
