{
 "cells": [
  {
   "cell_type": "code",
   "execution_count": null,
   "id": "4570ff32-8f12-495f-bf17-f6e6b276ed8e",
   "metadata": {},
   "outputs": [],
   "source": [
    "import napari\n",
    "import numpy as np\n",
    "import skan\n",
    "import scipy.ndimage as ndi\n",
    "from skimage.morphology import skeletonize\n",
    "import tifffile as tf"
   ]
  },
  {
   "cell_type": "code",
   "execution_count": null,
   "id": "f042f7a5-eb8d-477c-a442-fc2831b2155c",
   "metadata": {},
   "outputs": [],
   "source": [
    "binary = tf.imread(r\"G:\\Sox9_Cords\\Clean_masks\\S4\\07-00-55_EH4116_XY_TestisMeso_5-PLVAP_6-Pax8_7-Sox9_12x_166z_S4.tif\")\n",
    "binary_skeleton = skeletonize(binary)\n",
    "skeleton = skan.Skeleton(binary_skeleton)"
   ]
  },
  {
   "cell_type": "code",
   "execution_count": null,
   "id": "38f84bd7-6959-4beb-98df-b2701784d4ef",
   "metadata": {},
   "outputs": [],
   "source": []
  }
 ],
 "metadata": {
  "kernelspec": {
   "display_name": "Python 3 (ipykernel)",
   "language": "python",
   "name": "python3"
  },
  "language_info": {
   "codemirror_mode": {
    "name": "ipython",
    "version": 3
   },
   "file_extension": ".py",
   "mimetype": "text/x-python",
   "name": "python",
   "nbconvert_exporter": "python",
   "pygments_lexer": "ipython3",
   "version": "3.9.12"
  }
 },
 "nbformat": 4,
 "nbformat_minor": 5
}
