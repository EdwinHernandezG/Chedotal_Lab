{
 "cells": [
  {
   "cell_type": "code",
   "execution_count": null,
   "id": "b568143a-ada7-4a6d-82da-c8102e8b8101",
   "metadata": {},
   "outputs": [],
   "source": [
    "!pip install skimage\n",
    "!pip install tifffile"
   ]
  },
  {
   "cell_type": "code",
   "execution_count": null,
   "id": "f2024bf9-ddd5-4522-9685-e0e902905c2f",
   "metadata": {},
   "outputs": [],
   "source": [
    "import numpy as np\n",
    "from tifffile import imread, imwrite\n",
    "import pandas as pd\n",
    "from skimage.measure import regionprops_table"
   ]
  },
  {
   "cell_type": "code",
   "execution_count": null,
   "id": "4d880e02-e953-4a3e-8f0e-499c3d0cc728",
   "metadata": {},
   "outputs": [],
   "source": [
    "image_location = r\"E:\\Aivia\\11-52-32_AC300_Whole_PCW6-5_4X_06Z_5-MHC_6-chAT_7-Pax7_4u_lr_Sy16b_ROI-57_Image\\11-52-32_AC300_Whole_PCW6-5_4X_06Z_5-MHC_6-chAT_7-Pax7_4u_lr_Sy16b_ROI-57_C-1_Z_aivia.aivia.tif\"\n",
    "mask_location = r\"E:\\Aivia\\11-52-32_AC300_Whole_PCW6-5_4X_06Z_5-MHC_6-chAT_7-Pax7_4u_lr_Sy16b_ROI-57_Mask\\11-52-32_AC300_Whole_PCW6-5_4X_06Z_5-MHC_6-chAT_7-Pax7_4u_lr_Sy16b_Mask.tif\"\n",
    "result_folder = r'E:\\Aivia\\masked_c'"
   ]
  },
  {
   "cell_type": "code",
   "execution_count": null,
   "id": "0fdf3740-36ce-4f12-9020-2ace90a87b88",
   "metadata": {},
   "outputs": [],
   "source": [
    "image_data = imread(image_location)\n",
    "mask_data = imread(mask_location)\n",
    "\n",
    "import time\n",
    "\n",
    "start_time = time.time()\n",
    "\n",
    "# get dictionary of measurements \n",
    "props = regionprops_table(mask_data, properties=['label'])\n",
    "        \n",
    "# read out arrays of values\n",
    "content = pd.DataFrame(props)\n",
    "\n",
    "label_vector = content['label']\n",
    "        \n",
    "print(\"Determining label statistics using scikit-image took \" + str(time.time() - start_time) + \" s\")  \n",
    "\n",
    "content"
   ]
  },
  {
   "cell_type": "code",
   "execution_count": null,
   "id": "52e2f334-0bfc-496c-b953-ed10091b9e33",
   "metadata": {},
   "outputs": [],
   "source": [
    "c=1\n",
    "\n",
    "for index in range(0, label_vector.max()):\n",
    "    start_time = time.time()\n",
    "    output_data = np.empty_like(image_data)\n",
    "    output_data = np.where(mask_data==c, image_data, 0)\n",
    "    output_data = output_data.astype(image_data.dtype)\n",
    "    name= '/label_'+str(c)+'.tif'\n",
    "    imwrite(result_folder+'/'+name, output_data, compression ='zlib')\n",
    "    print(\"Creating mask \"+ str(c) +\" tooks \"+ str(time.time() - start_time) + \" s\")  \n",
    "    c+=1\n",
    "     \n",
    "    "
   ]
  },
  {
   "cell_type": "code",
   "execution_count": null,
   "id": "cff02585-cd4f-47f9-9448-ab02e0dd9360",
   "metadata": {},
   "outputs": [],
   "source": [
    "for label in range (label_vector):\n",
    "    print (label)"
   ]
  },
  {
   "cell_type": "code",
   "execution_count": null,
   "id": "bcb4032a-0535-4cde-b996-4b50d7e9dc89",
   "metadata": {},
   "outputs": [],
   "source": []
  }
 ],
 "metadata": {
  "kernelspec": {
   "display_name": "Python 3 (ipykernel)",
   "language": "python",
   "name": "python3"
  },
  "language_info": {
   "codemirror_mode": {
    "name": "ipython",
    "version": 3
   },
   "file_extension": ".py",
   "mimetype": "text/x-python",
   "name": "python",
   "nbconvert_exporter": "python",
   "pygments_lexer": "ipython3",
   "version": "3.9.12"
  }
 },
 "nbformat": 4,
 "nbformat_minor": 5
}
