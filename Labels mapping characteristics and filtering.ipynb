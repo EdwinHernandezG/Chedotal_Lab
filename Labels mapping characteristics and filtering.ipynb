{
 "cells": [
  {
   "cell_type": "markdown",
   "id": "99b83a4c",
   "metadata": {},
   "source": [
    "Depending in the quality of your segmentation it wil be interesting to filter your labels based on different characteristics of your dataset, like size, intensity, etc.\n",
    "\n",
    "In this case the result that we got using stardist and a generalistic ML confidence based pixel classifier generates an oversegmentation. This issue will be easily solved setting a mena intensity threshold in order to remove the low intensity labels that represents negative signal cells."
   ]
  },
  {
   "cell_type": "markdown",
   "id": "80e0c4ed",
   "metadata": {},
   "source": [
    "## Setting up your requirenments\n",
    "\n",
    "We are going to use 'numpy' to handle our arrays, 'napari' to visualize our data, 'zarr' to load and save our results.\n",
    "\n",
    "Also, we are going to use two functions from 'scikit-image', 'measure_regionprops_table' to list the properties of our labels based on the raw data and 'util_map_array' to extract the labels that we want."
   ]
  },
  {
   "cell_type": "code",
   "execution_count": null,
   "id": "debfec56",
   "metadata": {},
   "outputs": [],
   "source": []
  },
  {
   "cell_type": "code",
   "execution_count": 1,
   "id": "e6729322",
   "metadata": {},
   "outputs": [],
   "source": [
    "import numpy as np\n",
    "import napari\n",
    "import pandas\n",
    "import zarr\n",
    "import matplotlib.pyplot as plt\n",
    "from skimage.measure import regionprops_table\n",
    "from skimage.util import map_array\n"
   ]
  },
  {
   "cell_type": "code",
   "execution_count": 2,
   "id": "6ba030a8",
   "metadata": {},
   "outputs": [],
   "source": [
    "# load data\n",
    "image = zarr.load('/media/alain/DataWS6/EHG/Explants/raw1.zarr')\n",
    "\n",
    "# segment the image\n",
    "labels = zarr.load('/media/alain/DataWS6/EHG/Explants/labels.zarr')\n",
    "\n",
    "#intensity_labels = zarr.load('/media/alain/DataWS6/EHG/Explants/lab_intensity.zarr')"
   ]
  },
  {
   "cell_type": "code",
   "execution_count": null,
   "id": "850112f9",
   "metadata": {},
   "outputs": [],
   "source": [
    "viewer = napari.Viewer()"
   ]
  },
  {
   "cell_type": "code",
   "execution_count": null,
   "id": "1cef9b2e",
   "metadata": {},
   "outputs": [],
   "source": [
    "viewer.add_image(image)\n",
    "viewer.add_labels(labels)\n",
    "#viewer.add_labels(intensity_labels)"
   ]
  },
  {
   "cell_type": "code",
   "execution_count": 3,
   "id": "d7104998",
   "metadata": {},
   "outputs": [],
   "source": [
    "props = regionprops_table(labels, intensity_image=image, properties=('label',\n",
    "                                                    'area',                                                   \n",
    "                                                    'equivalent_diameter_area',\n",
    "                                                    'intensity_max',\n",
    "                                                    'intensity_mean',\n",
    "                                                    'intensity_min',\n",
    "                                                    'solidity'))"
   ]
  },
  {
   "cell_type": "code",
   "execution_count": 4,
   "id": "e1195499",
   "metadata": {},
   "outputs": [
    {
     "data": {
      "text/html": [
       "<div>\n",
       "<style scoped>\n",
       "    .dataframe tbody tr th:only-of-type {\n",
       "        vertical-align: middle;\n",
       "    }\n",
       "\n",
       "    .dataframe tbody tr th {\n",
       "        vertical-align: top;\n",
       "    }\n",
       "\n",
       "    .dataframe thead th {\n",
       "        text-align: right;\n",
       "    }\n",
       "</style>\n",
       "<table border=\"1\" class=\"dataframe\">\n",
       "  <thead>\n",
       "    <tr style=\"text-align: right;\">\n",
       "      <th></th>\n",
       "      <th>label</th>\n",
       "      <th>area</th>\n",
       "      <th>equivalent_diameter_area</th>\n",
       "      <th>intensity_max</th>\n",
       "      <th>intensity_mean</th>\n",
       "      <th>intensity_min</th>\n",
       "      <th>solidity</th>\n",
       "    </tr>\n",
       "  </thead>\n",
       "  <tbody>\n",
       "    <tr>\n",
       "      <th>0</th>\n",
       "      <td>5</td>\n",
       "      <td>575</td>\n",
       "      <td>10.317071</td>\n",
       "      <td>39566.0</td>\n",
       "      <td>2798.066087</td>\n",
       "      <td>185.0</td>\n",
       "      <td>0.706388</td>\n",
       "    </tr>\n",
       "    <tr>\n",
       "      <th>1</th>\n",
       "      <td>6</td>\n",
       "      <td>359</td>\n",
       "      <td>8.817902</td>\n",
       "      <td>5629.0</td>\n",
       "      <td>1125.013928</td>\n",
       "      <td>181.0</td>\n",
       "      <td>0.538231</td>\n",
       "    </tr>\n",
       "    <tr>\n",
       "      <th>2</th>\n",
       "      <td>7</td>\n",
       "      <td>310</td>\n",
       "      <td>8.396939</td>\n",
       "      <td>8985.0</td>\n",
       "      <td>1045.609677</td>\n",
       "      <td>162.0</td>\n",
       "      <td>0.761671</td>\n",
       "    </tr>\n",
       "    <tr>\n",
       "      <th>3</th>\n",
       "      <td>8</td>\n",
       "      <td>299</td>\n",
       "      <td>8.296422</td>\n",
       "      <td>3950.0</td>\n",
       "      <td>484.682274</td>\n",
       "      <td>134.0</td>\n",
       "      <td>0.864162</td>\n",
       "    </tr>\n",
       "    <tr>\n",
       "      <th>4</th>\n",
       "      <td>10</td>\n",
       "      <td>343</td>\n",
       "      <td>8.684907</td>\n",
       "      <td>9527.0</td>\n",
       "      <td>1646.737609</td>\n",
       "      <td>196.0</td>\n",
       "      <td>0.792148</td>\n",
       "    </tr>\n",
       "    <tr>\n",
       "      <th>...</th>\n",
       "      <td>...</td>\n",
       "      <td>...</td>\n",
       "      <td>...</td>\n",
       "      <td>...</td>\n",
       "      <td>...</td>\n",
       "      <td>...</td>\n",
       "      <td>...</td>\n",
       "    </tr>\n",
       "    <tr>\n",
       "      <th>40429</th>\n",
       "      <td>64475</td>\n",
       "      <td>294</td>\n",
       "      <td>8.249917</td>\n",
       "      <td>4710.0</td>\n",
       "      <td>3751.034014</td>\n",
       "      <td>3084.0</td>\n",
       "      <td>0.525939</td>\n",
       "    </tr>\n",
       "    <tr>\n",
       "      <th>40430</th>\n",
       "      <td>64554</td>\n",
       "      <td>131</td>\n",
       "      <td>6.301214</td>\n",
       "      <td>7082.0</td>\n",
       "      <td>5527.748092</td>\n",
       "      <td>4642.0</td>\n",
       "      <td>0.541322</td>\n",
       "    </tr>\n",
       "    <tr>\n",
       "      <th>40431</th>\n",
       "      <td>64564</td>\n",
       "      <td>195</td>\n",
       "      <td>7.194689</td>\n",
       "      <td>4177.0</td>\n",
       "      <td>3824.020513</td>\n",
       "      <td>3376.0</td>\n",
       "      <td>0.555556</td>\n",
       "    </tr>\n",
       "    <tr>\n",
       "      <th>40432</th>\n",
       "      <td>64569</td>\n",
       "      <td>292</td>\n",
       "      <td>8.231167</td>\n",
       "      <td>6326.0</td>\n",
       "      <td>5499.095890</td>\n",
       "      <td>4760.0</td>\n",
       "      <td>0.651786</td>\n",
       "    </tr>\n",
       "    <tr>\n",
       "      <th>40433</th>\n",
       "      <td>64570</td>\n",
       "      <td>183</td>\n",
       "      <td>7.043970</td>\n",
       "      <td>7096.0</td>\n",
       "      <td>6163.087432</td>\n",
       "      <td>5119.0</td>\n",
       "      <td>0.639860</td>\n",
       "    </tr>\n",
       "  </tbody>\n",
       "</table>\n",
       "<p>40434 rows × 7 columns</p>\n",
       "</div>"
      ],
      "text/plain": [
       "       label  area  equivalent_diameter_area  intensity_max  intensity_mean  \\\n",
       "0          5   575                 10.317071        39566.0     2798.066087   \n",
       "1          6   359                  8.817902         5629.0     1125.013928   \n",
       "2          7   310                  8.396939         8985.0     1045.609677   \n",
       "3          8   299                  8.296422         3950.0      484.682274   \n",
       "4         10   343                  8.684907         9527.0     1646.737609   \n",
       "...      ...   ...                       ...            ...             ...   \n",
       "40429  64475   294                  8.249917         4710.0     3751.034014   \n",
       "40430  64554   131                  6.301214         7082.0     5527.748092   \n",
       "40431  64564   195                  7.194689         4177.0     3824.020513   \n",
       "40432  64569   292                  8.231167         6326.0     5499.095890   \n",
       "40433  64570   183                  7.043970         7096.0     6163.087432   \n",
       "\n",
       "       intensity_min  solidity  \n",
       "0              185.0  0.706388  \n",
       "1              181.0  0.538231  \n",
       "2              162.0  0.761671  \n",
       "3              134.0  0.864162  \n",
       "4              196.0  0.792148  \n",
       "...              ...       ...  \n",
       "40429         3084.0  0.525939  \n",
       "40430         4642.0  0.541322  \n",
       "40431         3376.0  0.555556  \n",
       "40432         4760.0  0.651786  \n",
       "40433         5119.0  0.639860  \n",
       "\n",
       "[40434 rows x 7 columns]"
      ]
     },
     "execution_count": 4,
     "metadata": {},
     "output_type": "execute_result"
    }
   ],
   "source": [
    "content = pandas.DataFrame(props)\n",
    "content"
   ]
  },
  {
   "cell_type": "code",
   "execution_count": 5,
   "id": "6a4b5a7c",
   "metadata": {},
   "outputs": [],
   "source": [
    "max_vector = content['intensity_max']\n",
    "mean_vector = content['intensity_mean']\n",
    "min_vector = content['intensity_min']\n",
    "sol_vector = content['solidity']"
   ]
  },
  {
   "cell_type": "code",
   "execution_count": 6,
   "id": "da96c5a6",
   "metadata": {},
   "outputs": [],
   "source": [
    "%matplotlib inline\n",
    "%config InlineBackend.figure_format='retina'"
   ]
  },
  {
   "cell_type": "code",
   "execution_count": 7,
   "id": "846baad6",
   "metadata": {},
   "outputs": [
    {
     "data": {
      "image/png": "[encoded data removed]",
      "text/plain": [
       "<Figure size 432x288 with 4 Axes>"
      ]
     },
     "metadata": {
      "image/png": {
       "height": 279,
       "width": 425
      },
      "needs_background": "light"
     },
     "output_type": "display_data"
    }
   ],
   "source": [
    "fig, axes = plt.subplots(2, 2)\n",
    "ax = axes.ravel()\n",
    "\n",
    "ax[0].hist(max_vector, bins=100)\n",
    "ax[0].set_ylabel('Number of cells')\n",
    "ax[0].set_xlabel('Max Intensity (A.U.)')\n",
    "\n",
    "ax[1].hist(mean_vector, bins=100)\n",
    "ax[1].set_ylabel('Number of cells')\n",
    "ax[1].set_xlabel('Mean Intensity (A.U.)')\n",
    "\n",
    "ax[2].hist(min_vector, bins=100)\n",
    "ax[2].set_ylabel('Number of cells')\n",
    "ax[2].set_xlabel('Min Intensity (A.U.)')\n",
    "\n",
    "ax[3].hist(sol_vector, bins=100)\n",
    "ax[3].set_ylabel('Number of cells')\n",
    "ax[3].set_xlabel('solidity (um)') \n",
    "\n",
    "fig.tight_layout()"
   ]
  },
  {
   "cell_type": "code",
   "execution_count": 9,
   "id": "111dc70a",
   "metadata": {},
   "outputs": [],
   "source": [
    "intensity_labels = map_array(\n",
    "    labels,\n",
    "    label_ids := np.asarray(content['label']),\n",
    "    label_ids * np.asarray(content['intensity_mean'] > 4000),\n",
    ")"
   ]
  },
  {
   "cell_type": "code",
   "execution_count": null,
   "id": "386e5ff3",
   "metadata": {},
   "outputs": [],
   "source": [
    "viewer.add_labels(intensity_labels)"
   ]
  },
  {
   "cell_type": "code",
   "execution_count": 10,
   "id": "b6a12504",
   "metadata": {},
   "outputs": [],
   "source": [
    "zarr.convenience.save('/media/alain/DataWS6/EHG/Explants/lab_intensity.zarr', intensity_labels)"
   ]
  },
  {
   "cell_type": "code",
   "execution_count": null,
   "id": "1aee6276",
   "metadata": {},
   "outputs": [],
   "source": []
  }
 ],
 "metadata": {
  "kernelspec": {
   "display_name": "Python 3 (ipykernel)",
   "language": "python",
   "name": "python3"
  },
  "language_info": {
   "codemirror_mode": {
    "name": "ipython",
    "version": 3
   },
   "file_extension": ".py",
   "mimetype": "text/x-python",
   "name": "python",
   "nbconvert_exporter": "python",
   "pygments_lexer": "ipython3",
   "version": "3.8.5"
  }
 },
 "nbformat": 4,
 "nbformat_minor": 5
}
