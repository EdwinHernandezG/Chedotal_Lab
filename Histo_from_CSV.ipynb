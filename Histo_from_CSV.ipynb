{
 "cells": [
  {
   "cell_type": "code",
   "execution_count": null,
   "id": "636ff31f-81e5-48b3-ab4c-63d09b1327d9",
   "metadata": {},
   "outputs": [],
   "source": [
    "import pandas as pd\n",
    "import matplotlib.pyplot as plt"
   ]
  },
  {
   "cell_type": "code",
   "execution_count": null,
   "id": "5d32b982-2a7d-477d-bc38-ff43ccf12190",
   "metadata": {},
   "outputs": [],
   "source": [
    "table = pd.read_csv('data.csv')\n",
    "table"
   ]
  },
  {
   "cell_type": "code",
   "execution_count": null,
   "id": "0bdef4cd-9751-4d62-9321-0b04e7aa11fc",
   "metadata": {},
   "outputs": [],
   "source": [
    "max_vector = table['maximum']\n",
    "mean_vector = table['mean']\n",
    "min_vector = table['minimum']\n",
    "feret_vector = table['feret_diameter']\n",
    "pixel_vector = table['number_of_pixels']\n",
    "sum_vector = table['sum']\n",
    "rad_vector = table['equivalent_spherical_radius']\n",
    "per_vector = table['perimeter']\n",
    "flat_vector = table['flatness']\n",
    "rou_vector = table['roundness']"
   ]
  },
  {
   "cell_type": "code",
   "execution_count": null,
   "id": "33d164cd-e41c-4745-a8b2-bb030bd46fae",
   "metadata": {},
   "outputs": [],
   "source": [
    "fig, axes = plt.subplots(5, 2, figsize=(10,10))\n",
    "ax = axes.ravel()\n",
    "\n",
    "\n",
    "ax[0].hist(max_vector, bins=100)\n",
    "ax[0].set_ylabel('Number of cells')\n",
    "ax[0].set_xlabel('Max Intensity (A.U.)')\n",
    "\n",
    "ax[1].hist(mean_vector, bins=100)\n",
    "ax[1].set_ylabel('Number of cells')\n",
    "ax[1].set_xlabel('Mean Intensity (A.U.)')\n",
    "\n",
    "ax[2].hist(min_vector, bins=100)\n",
    "ax[2].set_ylabel('Number of cells')\n",
    "ax[2].set_xlabel('Min Intensity (A.U.)')\n",
    "\n",
    "ax[3].hist(feret_vector, bins=100)\n",
    "ax[3].set_ylabel('Number of cells')\n",
    "ax[3].set_xlabel('Feret diameter (um)') \n",
    "\n",
    "ax[4].hist(pixel_vector, bins=100)\n",
    "ax[4].set_ylabel('Number of cells')\n",
    "ax[4].set_xlabel('Number of pixels')\n",
    "\n",
    "ax[5].hist(sum_vector, bins=100)\n",
    "ax[5].set_ylabel('Number of cells')\n",
    "ax[5].set_xlabel('Sum intensity')\n",
    "\n",
    "ax[6].hist(rad_vector, bins=100)\n",
    "ax[6].set_ylabel('Number of cells')\n",
    "ax[6].set_xlabel('radius (um)')\n",
    "\n",
    "ax[7].hist(per_vector, bins=100)\n",
    "ax[7].set_ylabel('Number of cells')\n",
    "ax[7].set_xlabel('perimeter (um)')\n",
    "\n",
    "ax[8].hist(flat_vector, bins=100)\n",
    "ax[8].set_ylabel('Number of cells')\n",
    "ax[8].set_xlabel('flatness')\n",
    "\n",
    "ax[9].hist(rou_vector, bins=100)\n",
    "ax[9].set_ylabel('Number of cells')\n",
    "ax[9].set_xlabel('roundness')\n",
    "\n",
    "fig.tight_layout()"
   ]
  }
 ],
 "metadata": {
  "kernelspec": {
   "display_name": "Python 3 (ipykernel)",
   "language": "python",
   "name": "python3"
  },
  "language_info": {
   "codemirror_mode": {
    "name": "ipython",
    "version": 3
   },
   "file_extension": ".py",
   "mimetype": "text/x-python",
   "name": "python",
   "nbconvert_exporter": "python",
   "pygments_lexer": "ipython3",
   "version": "3.8.12"
  }
 },
 "nbformat": 4,
 "nbformat_minor": 5
}
