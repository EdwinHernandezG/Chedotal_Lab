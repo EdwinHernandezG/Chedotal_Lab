{
 "cells": [
  {
   "cell_type": "code",
   "execution_count": 1,
   "id": "074d3e52-69ee-48b9-a5f8-5b3c783a327e",
   "metadata": {
    "tags": []
   },
   "outputs": [],
   "source": [
    "import os\n",
    "import pandas as pd\n",
    "from vedo import *"
   ]
  },
  {
   "cell_type": "code",
   "execution_count": 2,
   "id": "5ae6e325-c83c-4c56-b5b2-f69096e03184",
   "metadata": {},
   "outputs": [],
   "source": [
    "cells = pd.read_csv(\"G:\\Stardist_results\\Point\\Sox9_r.csv\")\n",
    "z = cells['axis-0']\n",
    "y = cells['axis-1']\n",
    "x = cells['axis-2']"
   ]
  },
  {
   "cell_type": "code",
   "execution_count": 3,
   "id": "83dd0674-e832-4acc-92b8-560b63ffad19",
   "metadata": {},
   "outputs": [],
   "source": [
    "pts = Points((z,y,x), alpha=0.5)"
   ]
  },
  {
   "cell_type": "code",
   "execution_count": 4,
   "id": "6f212187-4438-4309-b5f4-37335e85e571",
   "metadata": {},
   "outputs": [],
   "source": [
    "vol = pts.density(radius=100).c('hsv').alpha([0.1,1])"
   ]
  },
  {
   "cell_type": "code",
   "execution_count": 5,
   "id": "88c842e8-9cc7-4e6a-b349-d28fc21fbda0",
   "metadata": {
    "tags": []
   },
   "outputs": [
    {
     "data": {
      "text/plain": [
       "<Volume(0x0000023EF2A96C60) at 0x0000023EF5D19BA0>"
      ]
     },
     "execution_count": 5,
     "metadata": {},
     "output_type": "execute_result"
    }
   ],
   "source": [
    "vol.addScalarBar3D(title='Density (cells in r_s = 100um)', c='k', italic=1)"
   ]
  },
  {
   "cell_type": "code",
   "execution_count": 6,
   "id": "5f60c049-60e0-428a-b089-cc290f9e0f1e",
   "metadata": {},
   "outputs": [],
   "source": [
    "show(pts, vol, __doc__, axes=True).close()"
   ]
  },
  {
   "cell_type": "code",
   "execution_count": null,
   "id": "bd91be42-0603-4242-a360-9d1d61040eaa",
   "metadata": {},
   "outputs": [],
   "source": []
  }
 ],
 "metadata": {
  "kernelspec": {
   "display_name": "Python 3 (ipykernel)",
   "language": "python",
   "name": "python3"
  },
  "language_info": {
   "codemirror_mode": {
    "name": "ipython",
    "version": 3
   },
   "file_extension": ".py",
   "mimetype": "text/x-python",
   "name": "python",
   "nbconvert_exporter": "python",
   "pygments_lexer": "ipython3",
   "version": "3.9.12"
  }
 },
 "nbformat": 4,
 "nbformat_minor": 5
}
