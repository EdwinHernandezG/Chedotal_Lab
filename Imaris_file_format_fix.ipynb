{
 "cells": [
  {
   "cell_type": "code",
   "execution_count": 1,
   "id": "1f126a78-2d3e-4cd9-83ca-7ed498887ae8",
   "metadata": {
    "tags": []
   },
   "outputs": [],
   "source": [
    "import os\n",
    "import tifffile as tf"
   ]
  },
  {
   "cell_type": "code",
   "execution_count": null,
   "id": "1b1f763c-243d-4dd2-ae89-097e44f435c4",
   "metadata": {},
   "outputs": [],
   "source": [
    "!pip install imagecodecs"
   ]
  },
  {
   "cell_type": "code",
   "execution_count": 2,
   "id": "350ee577-ce7a-4b90-8668-5e183d66dad1",
   "metadata": {
    "tags": []
   },
   "outputs": [],
   "source": [
    "files = r'D:\\EHG\\leydig'"
   ]
  },
  {
   "cell_type": "code",
   "execution_count": 3,
   "id": "ebdfd972-aafe-43a8-b044-02a715c4e172",
   "metadata": {},
   "outputs": [
    {
     "name": "stderr",
     "output_type": "stream",
     "text": [
      "<tifffile.TiffFile '12-03-55_EH4090-…1z_STITCHED.tif'> OME series failed with ParseError: unbound prefix: line 16, column 4\n",
      "<tifffile.TiffFile '13-08-33_EH4118_…1z_STITCHED.tif'> OME series failed with ParseError: unbound prefix: line 16, column 4\n",
      "<tifffile.TiffFile '13-54-18_EH4006_…1z_STITCHED.tif'> OME series failed with ParseError: unbound prefix: line 16, column 4\n",
      "<tifffile.TiffFile '15-38-56_EH2845…_1z_STITCHED.tif'> OME series failed with ParseError: unbound prefix: line 16, column 4\n",
      "<tifffile.TiffFile '16-17-01_EH3045-…1z_STITCHED.tif'> OME series failed with ParseError: unbound prefix: line 16, column 4\n"
     ]
    }
   ],
   "source": [
    "for img in os.listdir(files):\n",
    "    im = tf.imread(files+'/'+img)"
   ]
  },
  {
   "cell_type": "code",
   "execution_count": null,
   "id": "5362423f-3660-4998-bc9f-adc3a1177116",
   "metadata": {},
   "outputs": [],
   "source": []
  }
 ],
 "metadata": {
  "kernelspec": {
   "display_name": "Python 3 (ipykernel)",
   "language": "python",
   "name": "python3"
  },
  "language_info": {
   "codemirror_mode": {
    "name": "ipython",
    "version": 3
   },
   "file_extension": ".py",
   "mimetype": "text/x-python",
   "name": "python",
   "nbconvert_exporter": "python",
   "pygments_lexer": "ipython3",
   "version": "3.8.12"
  }
 },
 "nbformat": 4,
 "nbformat_minor": 5
}
