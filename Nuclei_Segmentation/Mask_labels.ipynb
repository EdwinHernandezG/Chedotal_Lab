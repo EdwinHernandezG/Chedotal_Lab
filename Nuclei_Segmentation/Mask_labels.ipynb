{
 "cells": [
  {
   "cell_type": "code",
   "execution_count": 1,
   "id": "b568143a-ada7-4a6d-82da-c8102e8b8101",
   "metadata": {},
   "outputs": [],
   "source": [
    "import os.path\n",
    "import numpy as np\n",
    "from skimage.io import imread, imsave"
   ]
  },
  {
   "cell_type": "code",
   "execution_count": 10,
   "id": "4d880e02-e953-4a3e-8f0e-499c3d0cc728",
   "metadata": {},
   "outputs": [],
   "source": [
    "image_location = r\"E:\\Aivia\\11-52-32_AC300_Whole_PCW6-5_4X_06Z_5-MHC_6-chAT_7-Pax7_4u_lr_Sy16b_ROI-57_Image\\11-52-32_AC300_Whole_PCW6-5_4X_06Z_5-MHC_6-chAT_7-Pax7_4u_lr_Sy16b_ROI-57_C-1_Z_aivia.aivia.tif\"\n",
    "mask_location = r\"E:\\Aivia\\11-52-32_AC300_Whole_PCW6-5_4X_06Z_5-MHC_6-chAT_7-Pax7_4u_lr_Sy16b_ROI-57_Mask\\11-52-32_AC300_Whole_PCW6-5_4X_06Z_5-MHC_6-chAT_7-Pax7_4u_lr_Sy16b_Mask.tif\"\n",
    "result_location = r'E:\\Aivia\\masked_c\\4.tif'\n",
    "label_value = 4"
   ]
  },
  {
   "cell_type": "code",
   "execution_count": 11,
   "id": "0fdf3740-36ce-4f12-9020-2ace90a87b88",
   "metadata": {},
   "outputs": [
    {
     "name": "stderr",
     "output_type": "stream",
     "text": [
      "C:\\Users\\Linux\\AppData\\Local\\Temp\\ipykernel_10840\\1994138597.py:6: UserWarning: E:\\Aivia\\masked_c\\4.tif is a low contrast image\n",
      "  imsave(result_location, output_data)\n"
     ]
    }
   ],
   "source": [
    "image_data = imread(image_location)\n",
    "mask_data = imread(mask_location)\n",
    "output_data = np.empty_like(image_data)\n",
    "output_data = np.where(mask_data==label_value, image_data, 0)\n",
    "output_data = output_data.astype(image_data.dtype)\n",
    "imsave(result_location, output_data)"
   ]
  },
  {
   "cell_type": "code",
   "execution_count": null,
   "id": "52e2f334-0bfc-496c-b953-ed10091b9e33",
   "metadata": {},
   "outputs": [],
   "source": []
  }
 ],
 "metadata": {
  "kernelspec": {
   "display_name": "Python 3 (ipykernel)",
   "language": "python",
   "name": "python3"
  },
  "language_info": {
   "codemirror_mode": {
    "name": "ipython",
    "version": 3
   },
   "file_extension": ".py",
   "mimetype": "text/x-python",
   "name": "python",
   "nbconvert_exporter": "python",
   "pygments_lexer": "ipython3",
   "version": "3.9.12"
  }
 },
 "nbformat": 4,
 "nbformat_minor": 5
}
